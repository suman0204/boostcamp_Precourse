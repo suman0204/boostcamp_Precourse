{
 "cells": [
  {
   "cell_type": "code",
   "execution_count": 11,
   "metadata": {
    "collapsed": true
   },
   "outputs": [],
   "source": [
    "class SoccerPlayer( object):\n",
    "    def __init__ (self, name : str, position : str, back_number : int):\n",
    "        self.name = name\n",
    "        self.position = position\n",
    "        self.back_number = back_number\n",
    "    \n",
    "    def __str__(self):\n",
    "        return \"Hello, My name is %s. My back number is %d\" % \\\n",
    "                (self.name, self.back_number)\n",
    "        \n",
    "    def __add__(self, other):\n",
    "        return self.name + other.name"
   ]
  },
  {
   "cell_type": "code",
   "execution_count": 12,
   "metadata": {
    "collapsed": true
   },
   "outputs": [],
   "source": [
    "abc = SoccerPlayer(\"son\", \"FW\", 7)\n",
    "park = SoccerPlayer(\"park\", \"WF\", 13)"
   ]
  },
  {
   "cell_type": "code",
   "execution_count": 8,
   "metadata": {},
   "outputs": [
    {
     "name": "stdout",
     "output_type": "stream",
     "text": [
      "Hello, My name is son. My back number is 7\n"
     ]
    }
   ],
   "source": [
    "print(abc)"
   ]
  },
  {
   "cell_type": "code",
   "execution_count": 13,
   "metadata": {},
   "outputs": [
    {
     "data": {
      "text/plain": [
       "'sonpark'"
      ]
     },
     "execution_count": 13,
     "metadata": {},
     "output_type": "execute_result"
    }
   ],
   "source": [
    "abc + park"
   ]
  },
  {
   "cell_type": "code",
   "execution_count": 14,
   "metadata": {
    "collapsed": true
   },
   "outputs": [],
   "source": [
    "class SoccerPlayer( object):\n",
    "    def __init__ (self, name : str, position : str, back_number : int):\n",
    "        self.name = name\n",
    "        self.position = position\n",
    "        self.back_number = back_number\n",
    "    \n",
    "    def change_back_number(self, new_number):\n",
    "        print(\"선수의 등번호를 변경합니다 : From %d to %d\" % \\\n",
    "                (self.back_number, new_number))\n",
    "        self.back_number = new_number\n",
    "    \n",
    "    def __str__(self):\n",
    "        return \"Hello, My name is %s. My back number is %d\" % \\\n",
    "                (self.name, self.back_number)\n",
    "        \n",
    "    "
   ]
  },
  {
   "cell_type": "code",
   "execution_count": 15,
   "metadata": {},
   "outputs": [
    {
     "name": "stdout",
     "output_type": "stream",
     "text": [
      "Hello, My name is Jinhyun. My back number is 10\n"
     ]
    }
   ],
   "source": [
    "choi = SoccerPlayer(\"Jinhyun\", \"MF\", 10)\n",
    "print(choi)"
   ]
  },
  {
   "cell_type": "code",
   "execution_count": 16,
   "metadata": {},
   "outputs": [
    {
     "name": "stdout",
     "output_type": "stream",
     "text": [
      "선수의 등번호를 변경합니다 : From 10 to 7\n",
      "Hello, My name is Jinhyun. My back number is 7\n"
     ]
    }
   ],
   "source": [
    "choi.change_back_number(7)\n",
    "print(choi)"
   ]
  },
  {
   "cell_type": "code",
   "execution_count": 17,
   "metadata": {},
   "outputs": [
    {
     "name": "stdout",
     "output_type": "stream",
     "text": [
      "Hello, My name is Jinhyun. My back number is 20\n"
     ]
    }
   ],
   "source": [
    "choi.back_number = 20\n",
    "print(choi)"
   ]
  },
  {
   "cell_type": "code",
   "execution_count": 19,
   "metadata": {},
   "outputs": [
    {
     "data": {
      "text/plain": [
       "20"
      ]
     },
     "execution_count": 19,
     "metadata": {},
     "output_type": "execute_result"
    }
   ],
   "source": [
    "choi.back_number"
   ]
  },
  {
   "cell_type": "code",
   "execution_count": 20,
   "metadata": {
    "collapsed": true
   },
   "outputs": [],
   "source": [
    "class Note(object):\n",
    "    def __init__(self, content = None):\n",
    "        self.content = content\n",
    "    \n",
    "    def write_content(self, content):\n",
    "        self.content = content\n",
    "    \n",
    "    def remove_alll(self):\n",
    "        self.content = \"\"\n",
    "        \n",
    "    def __add__(self, other):\n",
    "        return self.content + other.content\n",
    "    \n",
    "    def __str__(self):\n",
    "        return self.content\n",
    "    "
   ]
  },
  {
   "cell_type": "code",
   "execution_count": 21,
   "metadata": {
    "collapsed": true
   },
   "outputs": [],
   "source": [
    "class NoteBook(object):\n",
    "    def __init__(self, title):\n",
    "        self.title = title\n",
    "        self.page_number = 1\n",
    "        self.notes = {}\n",
    "        \n",
    "    def add_note(self, note, page = 0):\n",
    "        if self.page_number < 300:\n",
    "            if page == 0:\n",
    "                self.notes[self.page_number] = note\n",
    "                self.page_number += 1\n",
    "            else: \n",
    "                self.notes = {page : note}\n",
    "                self.page_number += 1\n",
    "        else:\n",
    "            print(\"Page가 모두 채워졌습니다.\")\n",
    "            \n",
    "    def remove_note(self, page_number):\n",
    "        if page_number in self.notes.keys():\n",
    "            return self.notes.pop(page_number)\n",
    "        else:\n",
    "            print(\"해당 페이지는 존재하지 않습니다\")\n",
    "            \n",
    "    def get_number_of_pages(self):\n",
    "        return len(self.notes.keys())"
   ]
  },
  {
   "cell_type": "markdown",
   "metadata": {},
   "source": [
    "### Inheritance"
   ]
  },
  {
   "cell_type": "code",
   "execution_count": 22,
   "metadata": {
    "collapsed": true
   },
   "outputs": [],
   "source": [
    "class Person(object):\n",
    "    def __init__(self, name, age):\n",
    "        self.name = name\n",
    "        self.age = age\n",
    "        \n",
    "    def __str__(self):\n",
    "        return \"저의 이름은 {0} 입니다. 나이는 {1} 입니다\".format(\n",
    "            self.name, self.age\n",
    "        )"
   ]
  },
  {
   "cell_type": "code",
   "execution_count": 23,
   "metadata": {
    "collapsed": true
   },
   "outputs": [],
   "source": [
    "class Korean(Person):\n",
    "    pass"
   ]
  },
  {
   "cell_type": "code",
   "execution_count": 24,
   "metadata": {},
   "outputs": [
    {
     "name": "stdout",
     "output_type": "stream",
     "text": [
      "저의 이름은 Sooman 입니다. 나이는 35 입니다\n"
     ]
    }
   ],
   "source": [
    "first_korean = Korean(\"Sooman\", 35)\n",
    "print(first_korean)"
   ]
  },
  {
   "cell_type": "code",
   "execution_count": 25,
   "metadata": {
    "collapsed": true
   },
   "outputs": [],
   "source": [
    "class Person(object):\n",
    "    def __init__(self, name, age, gender):\n",
    "        self.name = name\n",
    "        self.age = age\n",
    "        self.gender = gender\n",
    "        \n",
    "    def about_me(self):\n",
    "        print(\"저의 이름은 \", self.name, \"이구요, 제 나이는 \", str(self.age) ,\"살 입니다\")\n",
    "        \n",
    "    def __str__(self):\n",
    "        return \"저의 이름은 \", self.name, \"이구요, 제 나이는 \", str(self.age) ,\"살 입니다\""
   ]
  },
  {
   "cell_type": "code",
   "execution_count": 26,
   "metadata": {
    "collapsed": true
   },
   "outputs": [],
   "source": [
    "class Employee(Person):\n",
    "    def __init__(self, name, age, gender, salary, hire_date):\n",
    "        super().__init__(name, age, gender)\n",
    "        self.salary = salary\n",
    "        self.hire_date = hire_date\n",
    "        \n",
    "    def do_work(self):\n",
    "        print(\"열심히 일을 합니다.\")\n",
    "        \n",
    "    def about_me(self):\n",
    "        super().about_me()\n",
    "        print(\"제 급여는 \", self.salary, \"원 이구요, 제 입사일은 \", self.hire_date ,\" 입니다\")"
   ]
  },
  {
   "cell_type": "code",
   "execution_count": 30,
   "metadata": {},
   "outputs": [
    {
     "name": "stdout",
     "output_type": "stream",
     "text": [
      "저의 이름은  John 이구요, 제 나이는  34 살 입니다\n"
     ]
    }
   ],
   "source": [
    "myPesron = Person(\"John\", 34, \"Male\")\n",
    "myPerson.about_me()"
   ]
  },
  {
   "cell_type": "code",
   "execution_count": 32,
   "metadata": {},
   "outputs": [
    {
     "name": "stdout",
     "output_type": "stream",
     "text": [
      "저의 이름은  Daeho 이구요, 제 나이는  34 살 입니다\n",
      "제 급여는  300000 원 이구요, 제 입사일은  2012/03/01  입니다\n"
     ]
    }
   ],
   "source": [
    "myEmployee = Employee(\"Daeho\", 34, \"Male\", 300000, \"2012/03/01\")\n",
    "myEmployee.about_me()"
   ]
  },
  {
   "cell_type": "code",
   "execution_count": 33,
   "metadata": {
    "collapsed": true
   },
   "outputs": [],
   "source": [
    "class Animal:\n",
    "    def __init__(self, name):\n",
    "        self.name = name\n",
    "    \n",
    "    def talk(self):\n",
    "        raise NotImplementedError(\"Subclass must implement abstract method\")"
   ]
  },
  {
   "cell_type": "code",
   "execution_count": 34,
   "metadata": {
    "collapsed": true
   },
   "outputs": [],
   "source": [
    "class Cat(Animal):\n",
    "    def talk(self):\n",
    "        return 'Meow!'\n",
    "\n",
    "class Dog(Animal):\n",
    "    def talk(self):\n",
    "        return 'Woof! Woof!'"
   ]
  },
  {
   "cell_type": "code",
   "execution_count": 35,
   "metadata": {},
   "outputs": [
    {
     "name": "stdout",
     "output_type": "stream",
     "text": [
      "Missy: Meow!\n",
      "Mr. Mistoffelees: Meow!\n",
      "Lassie: Woof! Woof!\n"
     ]
    }
   ],
   "source": [
    "animals = [Cat('Missy'), Cat('Mr. Mistoffelees'), Dog('Lassie')]\n",
    "\n",
    "for animal in animals:\n",
    "    print(animal.name + \": \" + animal.talk())"
   ]
  },
  {
   "cell_type": "markdown",
   "metadata": {},
   "source": [
    "### Visibility"
   ]
  },
  {
   "cell_type": "code",
   "execution_count": 36,
   "metadata": {
    "collapsed": true
   },
   "outputs": [],
   "source": [
    "class Product(object):\n",
    "    pass"
   ]
  },
  {
   "cell_type": "code",
   "execution_count": 38,
   "metadata": {
    "collapsed": true
   },
   "outputs": [],
   "source": [
    "class Inventory(object):\n",
    "    def __init__(self):\n",
    "        self.items = []\n",
    "        self.test = \"abc\"\n",
    "        \n",
    "    def add_new_item(self, product):\n",
    "        if type(product) == Product:\n",
    "            self.items.append(product)\n",
    "            print(\"new item added\")\n",
    "        else:\n",
    "            raise ValueError(\"Invalid Item\")\n",
    "            \n",
    "    def get_number_of_item(self):\n",
    "        return len(self.items)"
   ]
  },
  {
   "cell_type": "code",
   "execution_count": 39,
   "metadata": {},
   "outputs": [
    {
     "name": "stdout",
     "output_type": "stream",
     "text": [
      "new item added\n",
      "new item added\n"
     ]
    }
   ],
   "source": [
    "my_inventory = Inventory()\n",
    "my_inventory.add_new_item(Product())\n",
    "my_inventory.add_new_item(Product())"
   ]
  },
  {
   "cell_type": "code",
   "execution_count": 40,
   "metadata": {
    "collapsed": true
   },
   "outputs": [],
   "source": [
    "my_inventory.items.append(\"abc\")"
   ]
  },
  {
   "cell_type": "code",
   "execution_count": 41,
   "metadata": {},
   "outputs": [
    {
     "data": {
      "text/plain": [
       "[<__main__.Product at 0x2655fc3eb38>,\n",
       " <__main__.Product at 0x2655fc3e898>,\n",
       " 'abc']"
      ]
     },
     "execution_count": 41,
     "metadata": {},
     "output_type": "execute_result"
    }
   ],
   "source": [
    "my_inventory.items"
   ]
  },
  {
   "cell_type": "code",
   "execution_count": 42,
   "metadata": {
    "collapsed": true
   },
   "outputs": [],
   "source": [
    "class Inventory(object):\n",
    "    def __init__(self):\n",
    "        self.__items = []\n",
    "        \n",
    "    def add_new_item(self, product):\n",
    "        if type(product) == Product:\n",
    "            self.__items.append(product)\n",
    "            print(\"new item added\")\n",
    "        else:\n",
    "            raise ValueError(\"Invalid Item\")\n",
    "            \n",
    "    def get_number_of_item(self):\n",
    "        return len(self.items)"
   ]
  },
  {
   "cell_type": "code",
   "execution_count": 43,
   "metadata": {},
   "outputs": [
    {
     "name": "stdout",
     "output_type": "stream",
     "text": [
      "new item added\n",
      "new item added\n"
     ]
    },
    {
     "data": {
      "text/plain": [
       "<__main__.Inventory at 0x2655fc0e0b8>"
      ]
     },
     "execution_count": 43,
     "metadata": {},
     "output_type": "execute_result"
    }
   ],
   "source": [
    "my_inventory = Inventory()\n",
    "my_inventory.add_new_item(Product())\n",
    "my_inventory.add_new_item(Product())\n",
    "my_inventory"
   ]
  },
  {
   "cell_type": "code",
   "execution_count": 45,
   "metadata": {},
   "outputs": [
    {
     "ename": "AttributeError",
     "evalue": "'Inventory' object has no attribute '__items'",
     "output_type": "error",
     "traceback": [
      "\u001b[1;31m---------------------------------------------------------------------------\u001b[0m",
      "\u001b[1;31mAttributeError\u001b[0m                            Traceback (most recent call last)",
      "\u001b[1;32m<ipython-input-45-96f299744203>\u001b[0m in \u001b[0;36m<module>\u001b[1;34m()\u001b[0m\n\u001b[1;32m----> 1\u001b[1;33m \u001b[0mmy_inventory\u001b[0m\u001b[1;33m.\u001b[0m\u001b[0m__items\u001b[0m\u001b[1;33m.\u001b[0m\u001b[0mappend\u001b[0m\u001b[1;33m(\u001b[0m\u001b[1;34m\"abc\"\u001b[0m\u001b[1;33m)\u001b[0m\u001b[1;33m\u001b[0m\u001b[0m\n\u001b[0m",
      "\u001b[1;31mAttributeError\u001b[0m: 'Inventory' object has no attribute '__items'"
     ]
    }
   ],
   "source": [
    "my_inventory.__items.append(\"abc\")"
   ]
  },
  {
   "cell_type": "code",
   "execution_count": 46,
   "metadata": {
    "collapsed": true
   },
   "outputs": [],
   "source": [
    " class Inventory(object):\n",
    "    def __init__(self):\n",
    "        self.__items = []\n",
    "        \n",
    "    def add_new_item(self, product):\n",
    "        if type(product) == Product:\n",
    "            self.__items.append(product)\n",
    "            print(\"new item added\")\n",
    "        else:\n",
    "            raise ValueError(\"Invalid Item\")\n",
    "            \n",
    "    def get_number_of_item(self):\n",
    "        return len(self.items)\n",
    "    \n",
    "    @property\n",
    "    def items(self):\n",
    "        return self.__items"
   ]
  },
  {
   "cell_type": "code",
   "execution_count": 47,
   "metadata": {},
   "outputs": [
    {
     "name": "stdout",
     "output_type": "stream",
     "text": [
      "new item added\n",
      "new item added\n"
     ]
    },
    {
     "data": {
      "text/plain": [
       "<__main__.Inventory at 0x2655fa8f0f0>"
      ]
     },
     "execution_count": 47,
     "metadata": {},
     "output_type": "execute_result"
    }
   ],
   "source": [
    "my_inventory = Inventory()\n",
    "my_inventory.add_new_item(Product())\n",
    "my_inventory.add_new_item(Product())\n",
    "my_inventory"
   ]
  },
  {
   "cell_type": "code",
   "execution_count": 48,
   "metadata": {},
   "outputs": [
    {
     "ename": "AttributeError",
     "evalue": "'Inventory' object has no attribute '__items'",
     "output_type": "error",
     "traceback": [
      "\u001b[1;31m---------------------------------------------------------------------------\u001b[0m",
      "\u001b[1;31mAttributeError\u001b[0m                            Traceback (most recent call last)",
      "\u001b[1;32m<ipython-input-48-f66c9b94c878>\u001b[0m in \u001b[0;36m<module>\u001b[1;34m()\u001b[0m\n\u001b[1;32m----> 1\u001b[1;33m \u001b[0mmy_inventory\u001b[0m\u001b[1;33m.\u001b[0m\u001b[0m__items\u001b[0m\u001b[1;33m\u001b[0m\u001b[0m\n\u001b[0m",
      "\u001b[1;31mAttributeError\u001b[0m: 'Inventory' object has no attribute '__items'"
     ]
    }
   ],
   "source": [
    "my_inventory.__items"
   ]
  },
  {
   "cell_type": "code",
   "execution_count": 49,
   "metadata": {},
   "outputs": [
    {
     "data": {
      "text/plain": [
       "[<__main__.Product at 0x2655fa8f198>, <__main__.Product at 0x2655fa8fb70>]"
      ]
     },
     "execution_count": 49,
     "metadata": {},
     "output_type": "execute_result"
    }
   ],
   "source": [
    "my_inventory.items"
   ]
  },
  {
   "cell_type": "code",
   "execution_count": 50,
   "metadata": {
    "collapsed": true
   },
   "outputs": [],
   "source": [
    "my_inventory.items.append('a')"
   ]
  },
  {
   "cell_type": "code",
   "execution_count": 52,
   "metadata": {},
   "outputs": [
    {
     "data": {
      "text/plain": [
       "[<__main__.Product at 0x2655fa8f198>, <__main__.Product at 0x2655fa8fb70>, 'a']"
      ]
     },
     "execution_count": 52,
     "metadata": {},
     "output_type": "execute_result"
    }
   ],
   "source": [
    "my_inventory.items"
   ]
  },
  {
   "cell_type": "markdown",
   "metadata": {},
   "source": [
    "### decorate"
   ]
  },
  {
   "cell_type": "code",
   "execution_count": 53,
   "metadata": {
    "collapsed": true
   },
   "outputs": [],
   "source": [
    "def square(x):\n",
    "    return x * x"
   ]
  },
  {
   "cell_type": "code",
   "execution_count": 54,
   "metadata": {
    "collapsed": true
   },
   "outputs": [],
   "source": [
    "f = square"
   ]
  },
  {
   "cell_type": "code",
   "execution_count": 55,
   "metadata": {},
   "outputs": [
    {
     "data": {
      "text/plain": [
       "25"
      ]
     },
     "execution_count": 55,
     "metadata": {},
     "output_type": "execute_result"
    }
   ],
   "source": [
    "f(5)"
   ]
  },
  {
   "cell_type": "code",
   "execution_count": 56,
   "metadata": {
    "collapsed": true
   },
   "outputs": [],
   "source": [
    "def cube(x):\n",
    "    return x*x*x\n",
    "\n",
    "def formula(method, argument_list):\n",
    "    return [method(value) for value in argument_list]"
   ]
  },
  {
   "cell_type": "code",
   "execution_count": 58,
   "metadata": {},
   "outputs": [
    {
     "data": {
      "text/plain": [
       "[1, 8, 27, 64]"
      ]
     },
     "execution_count": 58,
     "metadata": {},
     "output_type": "execute_result"
    }
   ],
   "source": [
    "argument_list = [1,2,3,4]\n",
    "\n",
    "formula(cube, argument_list)"
   ]
  },
  {
   "cell_type": "code",
   "execution_count": 59,
   "metadata": {},
   "outputs": [
    {
     "name": "stdout",
     "output_type": "stream",
     "text": [
      "Hello, Python\n"
     ]
    }
   ],
   "source": [
    "def print_msg(msg):\n",
    "    def printer():\n",
    "        print(msg)\n",
    "    printer()\n",
    "    \n",
    "print_msg(\"Hello, Python\")"
   ]
  },
  {
   "cell_type": "code",
   "execution_count": 3,
   "metadata": {},
   "outputs": [
    {
     "name": "stdout",
     "output_type": "stream",
     "text": [
      "Hello, Python\n"
     ]
    }
   ],
   "source": [
    " def print_msg(msg):\n",
    "    def printer():\n",
    "        print(msg)\n",
    "    return printer\n",
    "\n",
    "another = print_msg(\"Hello, Python\")\n",
    "another()"
   ]
  },
  {
   "cell_type": "code",
   "execution_count": 4,
   "metadata": {
    "collapsed": true
   },
   "outputs": [],
   "source": [
    "def tag_func(tag, text):\n",
    "    text = text\n",
    "    tag = tag\n",
    "    \n",
    "    def inner_func():\n",
    "        return '<{0}>{1}<{0}>'.format(tag, text)\n",
    "    \n",
    "    return inner_func\n",
    "\n",
    "h1_func = tag_func('title', \"This is Python Class\")\n",
    "p_func = tag_func('p', \"Data Academy\")"
   ]
  },
  {
   "cell_type": "code",
   "execution_count": 1,
   "metadata": {},
   "outputs": [
    {
     "name": "stdout",
     "output_type": "stream",
     "text": [
      "******************************\n",
      "Hello\n",
      "******************************\n"
     ]
    }
   ],
   "source": [
    "def star(func):\n",
    "    def inner(*args, **kwargs):\n",
    "        print(\"*\" * 30)\n",
    "        func(*args, **kwargs)\n",
    "        print(\"*\" * 30)\n",
    "    return inner\n",
    "\n",
    "@star \n",
    "def printer(msg):\n",
    "    print(msg)\n",
    "printer(\"Hello\")"
   ]
  },
  {
   "cell_type": "code",
   "execution_count": 2,
   "metadata": {},
   "outputs": [
    {
     "name": "stdout",
     "output_type": "stream",
     "text": [
      "562949953421312\n"
     ]
    }
   ],
   "source": [
    "def generate_power(exponent):\n",
    "    def wrapper(f):\n",
    "        def inner(*args):\n",
    "            result = f(*args)\n",
    "            return exponent**result\n",
    "        return inner\n",
    "    return wrapper\n",
    "\n",
    "@generate_power(2)\n",
    "def raise_two(n):\n",
    "    return n**2\n",
    "\n",
    "print(raise_two(7))"
   ]
  },
  {
   "cell_type": "markdown",
   "metadata": {},
   "source": [
    "### Exception"
   ]
  },
  {
   "cell_type": "code",
   "execution_count": 7,
   "metadata": {},
   "outputs": [
    {
     "name": "stdout",
     "output_type": "stream",
     "text": [
      "Error\n",
      "Not divided by 0\n",
      "1 10\n",
      "2\n",
      "name 'v' is not defined\n",
      "2 5\n",
      "3\n",
      "name 'v' is not defined\n",
      "3 3\n",
      "4\n",
      "name 'v' is not defined\n",
      "4 2\n",
      "5\n",
      "name 'v' is not defined\n",
      "5 2\n",
      "list index out of range\n",
      "6 1\n",
      "list index out of range\n",
      "7 1\n",
      "list index out of range\n",
      "8 1\n",
      "list index out of range\n",
      "9 1\n",
      "list index out of range\n"
     ]
    }
   ],
   "source": [
    "a = [1, 2, 3, 4, 5]\n",
    "\n",
    "for i in range(10):\n",
    "    try:\n",
    "        print(i, 10 // i)\n",
    "        print(a[i])\n",
    "        print(v)\n",
    "    except ZeroDivisionError:\n",
    "        print(\"Error\")\n",
    "        print(\"Not divided by 0\")\n",
    "    except IndexError as e:\n",
    "         print(e)\n",
    "    except Exception as e:\n",
    "         print(e)"
   ]
  },
  {
   "cell_type": "code",
   "execution_count": 8,
   "metadata": {},
   "outputs": [
    {
     "name": "stdout",
     "output_type": "stream",
     "text": [
      "Not divided by 0\n",
      "10\n",
      "5\n",
      "3\n",
      "2\n",
      "2\n",
      "1\n",
      "1\n",
      "1\n",
      "1\n"
     ]
    }
   ],
   "source": [
    "for i in range(10):\n",
    "    try:\n",
    "        result = 10 // i\n",
    "    except ZeroDivisionError:\n",
    "        print(\"Not divided by 0\")\n",
    "    else:\n",
    "        print(10 // i)"
   ]
  },
  {
   "cell_type": "code",
   "execution_count": 9,
   "metadata": {},
   "outputs": [
    {
     "name": "stdout",
     "output_type": "stream",
     "text": [
      "Not divided by 0\n",
      "0 ------ 1\n",
      "10\n",
      "1 ------ 10\n",
      "5\n",
      "2 ------ 5\n",
      "3\n",
      "3 ------ 3\n",
      "2\n",
      "4 ------ 2\n",
      "2\n",
      "5 ------ 2\n",
      "1\n",
      "6 ------ 1\n",
      "1\n",
      "7 ------ 1\n",
      "1\n",
      "8 ------ 1\n",
      "1\n",
      "9 ------ 1\n"
     ]
    }
   ],
   "source": [
    "for i in range(10):\n",
    "    try:\n",
    "        result = 10 // i\n",
    "    except ZeroDivisionError:\n",
    "        print(\"Not divided by 0\")\n",
    "    else:\n",
    "        print(10 // i)\n",
    "    finally:\n",
    "        print(i, \"------\", result)"
   ]
  },
  {
   "cell_type": "code",
   "execution_count": null,
   "metadata": {
    "collapsed": true
   },
   "outputs": [],
   "source": [
    "while True:\n",
    "    value = input(\"변환할 정수값을 입력해주세요\")\n",
    "    for digit in value:\n",
    "        if digit in value:\n",
    "            if digit not in \"0123456789\":\n",
    "                raise ValueError(\"숫자값을 입력하지 않으셨습니다.\")\n",
    "    print(\"정수값으로 변환된 숫자 -\", int(value))"
   ]
  },
  {
   "cell_type": "code",
   "execution_count": 1,
   "metadata": {},
   "outputs": [
    {
     "ename": "AssertionError",
     "evalue": "",
     "output_type": "error",
     "traceback": [
      "\u001b[1;31m---------------------------------------------------------------------------\u001b[0m",
      "\u001b[1;31mAssertionError\u001b[0m                            Traceback (most recent call last)",
      "\u001b[1;32m<ipython-input-1-59063c0aa12f>\u001b[0m in \u001b[0;36m<module>\u001b[1;34m()\u001b[0m\n\u001b[0;32m      3\u001b[0m     \u001b[1;32mreturn\u001b[0m \u001b[0mbin\u001b[0m\u001b[1;33m(\u001b[0m\u001b[0mdecimal_number\u001b[0m\u001b[1;33m)\u001b[0m\u001b[1;33m\u001b[0m\u001b[0m\n\u001b[0;32m      4\u001b[0m \u001b[1;33m\u001b[0m\u001b[0m\n\u001b[1;32m----> 5\u001b[1;33m \u001b[0mprint\u001b[0m\u001b[1;33m(\u001b[0m\u001b[0mget_binary_number\u001b[0m\u001b[1;33m(\u001b[0m\u001b[1;36m10.0\u001b[0m\u001b[1;33m)\u001b[0m\u001b[1;33m)\u001b[0m\u001b[1;33m\u001b[0m\u001b[0m\n\u001b[0m",
      "\u001b[1;32m<ipython-input-1-59063c0aa12f>\u001b[0m in \u001b[0;36mget_binary_number\u001b[1;34m(decimal_number)\u001b[0m\n\u001b[0;32m      1\u001b[0m \u001b[1;32mdef\u001b[0m \u001b[0mget_binary_number\u001b[0m\u001b[1;33m(\u001b[0m\u001b[0mdecimal_number\u001b[0m \u001b[1;33m:\u001b[0m \u001b[0mint\u001b[0m\u001b[1;33m)\u001b[0m\u001b[1;33m:\u001b[0m\u001b[1;33m\u001b[0m\u001b[0m\n\u001b[1;32m----> 2\u001b[1;33m     \u001b[1;32massert\u001b[0m \u001b[0misinstance\u001b[0m\u001b[1;33m(\u001b[0m\u001b[0mdecimal_number\u001b[0m\u001b[1;33m,\u001b[0m \u001b[0mint\u001b[0m\u001b[1;33m)\u001b[0m\u001b[1;33m\u001b[0m\u001b[0m\n\u001b[0m\u001b[0;32m      3\u001b[0m     \u001b[1;32mreturn\u001b[0m \u001b[0mbin\u001b[0m\u001b[1;33m(\u001b[0m\u001b[0mdecimal_number\u001b[0m\u001b[1;33m)\u001b[0m\u001b[1;33m\u001b[0m\u001b[0m\n\u001b[0;32m      4\u001b[0m \u001b[1;33m\u001b[0m\u001b[0m\n\u001b[0;32m      5\u001b[0m \u001b[0mprint\u001b[0m\u001b[1;33m(\u001b[0m\u001b[0mget_binary_number\u001b[0m\u001b[1;33m(\u001b[0m\u001b[1;36m10.0\u001b[0m\u001b[1;33m)\u001b[0m\u001b[1;33m)\u001b[0m\u001b[1;33m\u001b[0m\u001b[0m\n",
      "\u001b[1;31mAssertionError\u001b[0m: "
     ]
    }
   ],
   "source": [
    "def get_binary_number(decimal_number : int):\n",
    "    assert isinstance(decimal_number, int)\n",
    "    return bin(decimal_number)\n",
    "\n",
    "print(get_binary_number(10.0))"
   ]
  },
  {
   "cell_type": "markdown",
   "metadata": {},
   "source": [
    "### File Handling"
   ]
  },
  {
   "cell_type": "code",
   "execution_count": null,
   "metadata": {
    "collapsed": true
   },
   "outputs": [],
   "source": [
    "f = open(\"i_have_a_dream.txt\", \"r\")\n",
    "contents = f.read()\n",
    " print(contents)\n",
    "f.close()"
   ]
  },
  {
   "cell_type": "code",
   "execution_count": null,
   "metadata": {
    "collapsed": true
   },
   "outputs": [],
   "source": [
    "with f = open(\"i_have_a_dream.txt\", \"r\") as f\n",
    "    contents = f.read()\n",
    "    print(contents)\n",
    "print(f)"
   ]
  },
  {
   "cell_type": "code",
   "execution_count": null,
   "metadata": {
    "collapsed": true
   },
   "outputs": [],
   "source": [
    "with open(\"i_have_a_dream.txt\", \"r\") as f:\n",
    "    content_list = f.readlines()\n",
    "content_list[0]"
   ]
  },
  {
   "cell_type": "code",
   "execution_count": null,
   "metadata": {
    "collapsed": true
   },
   "outputs": [],
   "source": [
    "with open(\"i_have_a_dream.txt\", \"r\") as f:\n",
    "    i = 0\n",
    "    while True:\n",
    "        line = f.readline()\n",
    "        if i == 5:\n",
    "            break\n",
    "        print(\"[0] ==== {1}\".format(i, line))\n",
    "        i += 1\n",
    "line"
   ]
  },
  {
   "cell_type": "code",
   "execution_count": null,
   "metadata": {
    "collapsed": true
   },
   "outputs": [],
   "source": [
    "with open(\"i_have_a_dream.txt\", \"r\") as my_file:\n",
    "    contents = my_file.read()\n",
    "    word_list = contents.split(\" \")\n",
    "    line_list = contents.split(\"\\n\")\n",
    "\n",
    "print(\"Total Number of Characters : \", len(contents))\n",
    "print(\"Total Number of Words : \", len(word_list))\n",
    "print(\"Total Number of Lines : \", len(line_list))"
   ]
  },
  {
   "cell_type": "markdown",
   "metadata": {},
   "source": [
    "### File Write"
   ]
  },
  {
   "cell_type": "code",
   "execution_count": 6,
   "metadata": {
    "collapsed": true
   },
   "outputs": [],
   "source": [
    "f = open(\"count_log.txt\", mode='w', encoding=\"utf8\")\n",
    "for i in range(1, 11):\n",
    "    data = \"%d번째 줄입니다.\\n\" %i\n",
    "    f.write(data)\n",
    "f.close()"
   ]
  },
  {
   "cell_type": "code",
   "execution_count": 8,
   "metadata": {
    "collapsed": true
   },
   "outputs": [],
   "source": [
    "with open(\"count_log.txt\", mode='a', encoding=\"utf8\") as f:\n",
    "    for i in range(11, 21):\n",
    "        data = \"{0}번째 줄입니다. \\n\".format(i)\n",
    "        f.write(data)"
   ]
  },
  {
   "cell_type": "markdown",
   "metadata": {},
   "source": [
    "### Directory 다루기"
   ]
  },
  {
   "cell_type": "markdown",
   "metadata": {},
   "source": [
    "#### os모듈을 사용하여 Directory 다루기"
   ]
  },
  {
   "cell_type": "code",
   "execution_count": 9,
   "metadata": {
    "collapsed": true
   },
   "outputs": [],
   "source": [
    "import os\n",
    "os.mkdir(\"log\")"
   ]
  },
  {
   "cell_type": "code",
   "execution_count": 10,
   "metadata": {},
   "outputs": [
    {
     "name": "stdout",
     "output_type": "stream",
     "text": [
      "Already created\n"
     ]
    }
   ],
   "source": [
    "try:\n",
    "    os.mkdir(\"log\")\n",
    "except FileExistsError as e:\n",
    "    print(\"Already created\")"
   ]
  },
  {
   "cell_type": "code",
   "execution_count": 12,
   "metadata": {},
   "outputs": [
    {
     "data": {
      "text/plain": [
       "True"
      ]
     },
     "execution_count": 12,
     "metadata": {},
     "output_type": "execute_result"
    }
   ],
   "source": [
    "os.path.exists(\"log\")"
   ]
  },
  {
   "cell_type": "code",
   "execution_count": 14,
   "metadata": {},
   "outputs": [
    {
     "ename": "FileNotFoundError",
     "evalue": "[Errno 2] No such file or directory: 'i_have_a_dream.txt'",
     "output_type": "error",
     "traceback": [
      "\u001b[1;31m---------------------------------------------------------------------------\u001b[0m",
      "\u001b[1;31mFileNotFoundError\u001b[0m                         Traceback (most recent call last)",
      "\u001b[1;32m<ipython-input-14-cdce34c876e2>\u001b[0m in \u001b[0;36m<module>\u001b[1;34m()\u001b[0m\n\u001b[0;32m      4\u001b[0m \u001b[0mdest\u001b[0m \u001b[1;33m=\u001b[0m \u001b[0mos\u001b[0m\u001b[1;33m.\u001b[0m\u001b[0mpath\u001b[0m\u001b[1;33m.\u001b[0m\u001b[0mjoin\u001b[0m\u001b[1;33m(\u001b[0m\u001b[1;34m\"abc\"\u001b[0m\u001b[1;33m,\u001b[0m \u001b[1;34m\"sungchul.txt\"\u001b[0m\u001b[1;33m)\u001b[0m \u001b[1;31m# \"abc\" + \"\\\\\" + \"sungchul.txt\"\u001b[0m\u001b[1;33m\u001b[0m\u001b[0m\n\u001b[0;32m      5\u001b[0m \u001b[1;33m\u001b[0m\u001b[0m\n\u001b[1;32m----> 6\u001b[1;33m \u001b[0mshutil\u001b[0m\u001b[1;33m.\u001b[0m\u001b[0mcopy\u001b[0m\u001b[1;33m(\u001b[0m\u001b[0msource\u001b[0m\u001b[1;33m,\u001b[0m \u001b[0mdest\u001b[0m\u001b[1;33m)\u001b[0m \u001b[1;31m# shutil.copy : 파일 복사 함수\u001b[0m\u001b[1;33m\u001b[0m\u001b[0m\n\u001b[0m",
      "\u001b[1;32m~\\Anaconda3\\lib\\shutil.py\u001b[0m in \u001b[0;36mcopy\u001b[1;34m(src, dst, follow_symlinks)\u001b[0m\n\u001b[0;32m    239\u001b[0m     \u001b[1;32mif\u001b[0m \u001b[0mos\u001b[0m\u001b[1;33m.\u001b[0m\u001b[0mpath\u001b[0m\u001b[1;33m.\u001b[0m\u001b[0misdir\u001b[0m\u001b[1;33m(\u001b[0m\u001b[0mdst\u001b[0m\u001b[1;33m)\u001b[0m\u001b[1;33m:\u001b[0m\u001b[1;33m\u001b[0m\u001b[0m\n\u001b[0;32m    240\u001b[0m         \u001b[0mdst\u001b[0m \u001b[1;33m=\u001b[0m \u001b[0mos\u001b[0m\u001b[1;33m.\u001b[0m\u001b[0mpath\u001b[0m\u001b[1;33m.\u001b[0m\u001b[0mjoin\u001b[0m\u001b[1;33m(\u001b[0m\u001b[0mdst\u001b[0m\u001b[1;33m,\u001b[0m \u001b[0mos\u001b[0m\u001b[1;33m.\u001b[0m\u001b[0mpath\u001b[0m\u001b[1;33m.\u001b[0m\u001b[0mbasename\u001b[0m\u001b[1;33m(\u001b[0m\u001b[0msrc\u001b[0m\u001b[1;33m)\u001b[0m\u001b[1;33m)\u001b[0m\u001b[1;33m\u001b[0m\u001b[0m\n\u001b[1;32m--> 241\u001b[1;33m     \u001b[0mcopyfile\u001b[0m\u001b[1;33m(\u001b[0m\u001b[0msrc\u001b[0m\u001b[1;33m,\u001b[0m \u001b[0mdst\u001b[0m\u001b[1;33m,\u001b[0m \u001b[0mfollow_symlinks\u001b[0m\u001b[1;33m=\u001b[0m\u001b[0mfollow_symlinks\u001b[0m\u001b[1;33m)\u001b[0m\u001b[1;33m\u001b[0m\u001b[0m\n\u001b[0m\u001b[0;32m    242\u001b[0m     \u001b[0mcopymode\u001b[0m\u001b[1;33m(\u001b[0m\u001b[0msrc\u001b[0m\u001b[1;33m,\u001b[0m \u001b[0mdst\u001b[0m\u001b[1;33m,\u001b[0m \u001b[0mfollow_symlinks\u001b[0m\u001b[1;33m=\u001b[0m\u001b[0mfollow_symlinks\u001b[0m\u001b[1;33m)\u001b[0m\u001b[1;33m\u001b[0m\u001b[0m\n\u001b[0;32m    243\u001b[0m     \u001b[1;32mreturn\u001b[0m \u001b[0mdst\u001b[0m\u001b[1;33m\u001b[0m\u001b[0m\n",
      "\u001b[1;32m~\\Anaconda3\\lib\\shutil.py\u001b[0m in \u001b[0;36mcopyfile\u001b[1;34m(src, dst, follow_symlinks)\u001b[0m\n\u001b[0;32m    118\u001b[0m         \u001b[0mos\u001b[0m\u001b[1;33m.\u001b[0m\u001b[0msymlink\u001b[0m\u001b[1;33m(\u001b[0m\u001b[0mos\u001b[0m\u001b[1;33m.\u001b[0m\u001b[0mreadlink\u001b[0m\u001b[1;33m(\u001b[0m\u001b[0msrc\u001b[0m\u001b[1;33m)\u001b[0m\u001b[1;33m,\u001b[0m \u001b[0mdst\u001b[0m\u001b[1;33m)\u001b[0m\u001b[1;33m\u001b[0m\u001b[0m\n\u001b[0;32m    119\u001b[0m     \u001b[1;32melse\u001b[0m\u001b[1;33m:\u001b[0m\u001b[1;33m\u001b[0m\u001b[0m\n\u001b[1;32m--> 120\u001b[1;33m         \u001b[1;32mwith\u001b[0m \u001b[0mopen\u001b[0m\u001b[1;33m(\u001b[0m\u001b[0msrc\u001b[0m\u001b[1;33m,\u001b[0m \u001b[1;34m'rb'\u001b[0m\u001b[1;33m)\u001b[0m \u001b[1;32mas\u001b[0m \u001b[0mfsrc\u001b[0m\u001b[1;33m:\u001b[0m\u001b[1;33m\u001b[0m\u001b[0m\n\u001b[0m\u001b[0;32m    121\u001b[0m             \u001b[1;32mwith\u001b[0m \u001b[0mopen\u001b[0m\u001b[1;33m(\u001b[0m\u001b[0mdst\u001b[0m\u001b[1;33m,\u001b[0m \u001b[1;34m'wb'\u001b[0m\u001b[1;33m)\u001b[0m \u001b[1;32mas\u001b[0m \u001b[0mfdst\u001b[0m\u001b[1;33m:\u001b[0m\u001b[1;33m\u001b[0m\u001b[0m\n\u001b[0;32m    122\u001b[0m                 \u001b[0mcopyfileobj\u001b[0m\u001b[1;33m(\u001b[0m\u001b[0mfsrc\u001b[0m\u001b[1;33m,\u001b[0m \u001b[0mfdst\u001b[0m\u001b[1;33m)\u001b[0m\u001b[1;33m\u001b[0m\u001b[0m\n",
      "\u001b[1;31mFileNotFoundError\u001b[0m: [Errno 2] No such file or directory: 'i_have_a_dream.txt'"
     ]
    }
   ],
   "source": [
    "import shutil\n",
    "\n",
    "source = 'i_have_a_dream.txt'\n",
    "dest = os.path.join(\"abc\", \"sungchul.txt\") # \"abc\" + \"\\\\\" + \"sungchul.txt\"\n",
    "\n",
    "shutil.copy(source, dest) # shutil.copy : 파일 복사 함수"
   ]
  },
  {
   "cell_type": "code",
   "execution_count": 18,
   "metadata": {},
   "outputs": [
    {
     "data": {
      "text/plain": [
       "WindowsPath('C:/Users/soomanhong/Desktop')"
      ]
     },
     "execution_count": 18,
     "metadata": {},
     "output_type": "execute_result"
    }
   ],
   "source": [
    "import pathlib\n",
    "cwd = pathlib.Path.cwd()\n",
    "cwd"
   ]
  },
  {
   "cell_type": "code",
   "execution_count": 19,
   "metadata": {},
   "outputs": [
    {
     "data": {
      "text/plain": [
       "WindowsPath('C:/Users/soomanhong')"
      ]
     },
     "execution_count": 19,
     "metadata": {},
     "output_type": "execute_result"
    }
   ],
   "source": [
    "cwd.parent"
   ]
  },
  {
   "cell_type": "code",
   "execution_count": 20,
   "metadata": {},
   "outputs": [
    {
     "data": {
      "text/plain": [
       "WindowsPath('C:/Users')"
      ]
     },
     "execution_count": 20,
     "metadata": {},
     "output_type": "execute_result"
    }
   ],
   "source": [
    "cwd.parent.parent"
   ]
  },
  {
   "cell_type": "code",
   "execution_count": 21,
   "metadata": {},
   "outputs": [
    {
     "data": {
      "text/plain": [
       "[WindowsPath('C:/Users'), WindowsPath('C:/')]"
      ]
     },
     "execution_count": 21,
     "metadata": {},
     "output_type": "execute_result"
    }
   ],
   "source": [
    "list(cwd.parent.parents)"
   ]
  },
  {
   "cell_type": "code",
   "execution_count": 23,
   "metadata": {},
   "outputs": [
    {
     "data": {
      "text/plain": [
       "[WindowsPath('C:/Users/soomanhong/Desktop/.ipynb_checkpoints'),\n",
       " WindowsPath('C:/Users/soomanhong/Desktop/Cisco Webex Meetings.lnk'),\n",
       " WindowsPath('C:/Users/soomanhong/Desktop/count_log.txt'),\n",
       " WindowsPath('C:/Users/soomanhong/Desktop/desktop.ini'),\n",
       " WindowsPath('C:/Users/soomanhong/Desktop/Discord.lnk'),\n",
       " WindowsPath('C:/Users/soomanhong/Desktop/DroidCamApp.lnk'),\n",
       " WindowsPath('C:/Users/soomanhong/Desktop/GitHub Desktop.lnk'),\n",
       " WindowsPath('C:/Users/soomanhong/Desktop/Hancom'),\n",
       " WindowsPath('C:/Users/soomanhong/Desktop/HNY'),\n",
       " WindowsPath('C:/Users/soomanhong/Desktop/Intech_LauncherExe.exe.lnk'),\n",
       " WindowsPath('C:/Users/soomanhong/Desktop/KakaoTalk_20211004_202018006.mp4'),\n",
       " WindowsPath('C:/Users/soomanhong/Desktop/KakaoTalk_20220525_125758936.mp4'),\n",
       " WindowsPath('C:/Users/soomanhong/Desktop/KakaoTalk_20220525_125856316.mp4'),\n",
       " WindowsPath('C:/Users/soomanhong/Desktop/KakaoTalk_20220525_125959657.mp4'),\n",
       " WindowsPath('C:/Users/soomanhong/Desktop/log'),\n",
       " WindowsPath('C:/Users/soomanhong/Desktop/Microsoft Teams.lnk'),\n",
       " WindowsPath('C:/Users/soomanhong/Desktop/MSM'),\n",
       " WindowsPath('C:/Users/soomanhong/Desktop/pexels-photo-237249.jpeg'),\n",
       " WindowsPath('C:/Users/soomanhong/Desktop/SMU'),\n",
       " WindowsPath('C:/Users/soomanhong/Desktop/[면학B] 201611119_홍수만_자기추천서.hwp'),\n",
       " WindowsPath('C:/Users/soomanhong/Desktop/[면학B] 201911119_홍수만_자기추천서.hwp'),\n",
       " WindowsPath('C:/Users/soomanhong/Desktop/~$Lab DHCP (201611119 홍수만).pptx'),\n",
       " WindowsPath('C:/Users/soomanhong/Desktop/부스트캠프 Pre-Course.ipynb'),\n",
       " WindowsPath('C:/Users/soomanhong/Desktop/서류(문서)'),\n",
       " WindowsPath('C:/Users/soomanhong/Desktop/정처기'),\n",
       " WindowsPath('C:/Users/soomanhong/Desktop/지원서'),\n",
       " WindowsPath('C:/Users/soomanhong/Desktop/패스트캠퍼스')]"
      ]
     },
     "execution_count": 23,
     "metadata": {},
     "output_type": "execute_result"
    }
   ],
   "source": [
    "list(cwd.glob(\"*\"))"
   ]
  },
  {
   "cell_type": "code",
   "execution_count": 28,
   "metadata": {
    "collapsed": true
   },
   "outputs": [],
   "source": [
    "import os\n",
    "if not os.path.exists(\"log\"):\n",
    "    os.mkdir(\"log\")\n",
    "\n",
    "TARGET_FILE_PATH = os.path.join(\"log\", \"count_log.txt\")\n",
    "if not os.path.exists(TARGET_FILE_PATH):\n",
    "    f = open(\"log/count_log.txt\", 'w', encoding=\"utf8\")\n",
    "    f.write(\"기록이 시작됩니다\\n\")\n",
    "    f.close"
   ]
  },
  {
   "cell_type": "code",
   "execution_count": 29,
   "metadata": {
    "collapsed": true
   },
   "outputs": [],
   "source": [
    "with open(TARGET_FILE_PATH, 'a', encoding=\"utf8\") as f:\n",
    "    import random, datetime\n",
    "    for i in range(1,11):\n",
    "        stamp = str(datetime.datetime.now())\n",
    "        value = random.random() * 1000000\n",
    "        log_line = stamp + \"\\t\" + str(value) + \"값이 생성되었습니다\\n\"\n",
    "        f.write(log_line)"
   ]
  },
  {
   "cell_type": "markdown",
   "metadata": {},
   "source": [
    "### Pickle"
   ]
  },
  {
   "cell_type": "code",
   "execution_count": 30,
   "metadata": {
    "collapsed": true
   },
   "outputs": [],
   "source": [
    "import pickle\n",
    "\n",
    "f = open(\"list.pickle\", 'wb')\n",
    "test = {1,2,3,4,5}\n",
    "pickle.dump(test, f)\n",
    "f.close()"
   ]
  },
  {
   "cell_type": "code",
   "execution_count": 31,
   "metadata": {
    "collapsed": true
   },
   "outputs": [],
   "source": [
    "del test"
   ]
  },
  {
   "cell_type": "code",
   "execution_count": 32,
   "metadata": {},
   "outputs": [
    {
     "ename": "NameError",
     "evalue": "name 'test' is not defined",
     "output_type": "error",
     "traceback": [
      "\u001b[1;31m---------------------------------------------------------------------------\u001b[0m",
      "\u001b[1;31mNameError\u001b[0m                                 Traceback (most recent call last)",
      "\u001b[1;32m<ipython-input-32-d8e8fca2dc0f>\u001b[0m in \u001b[0;36m<module>\u001b[1;34m()\u001b[0m\n\u001b[1;32m----> 1\u001b[1;33m \u001b[0mtest\u001b[0m\u001b[1;33m\u001b[0m\u001b[0m\n\u001b[0m",
      "\u001b[1;31mNameError\u001b[0m: name 'test' is not defined"
     ]
    }
   ],
   "source": [
    "test"
   ]
  },
  {
   "cell_type": "code",
   "execution_count": 33,
   "metadata": {},
   "outputs": [
    {
     "name": "stdout",
     "output_type": "stream",
     "text": [
      "{1, 2, 3, 4, 5}\n"
     ]
    }
   ],
   "source": [
    "f = open(\"list.pickle\", \"rb\")\n",
    "test_pickle = pickle.load(f)\n",
    "print(test_pickle)\n",
    "f.close()"
   ]
  },
  {
   "cell_type": "code",
   "execution_count": 34,
   "metadata": {},
   "outputs": [
    {
     "data": {
      "text/plain": [
       "{1, 2, 3, 4, 5}"
      ]
     },
     "execution_count": 34,
     "metadata": {},
     "output_type": "execute_result"
    }
   ],
   "source": [
    "test_pickle"
   ]
  },
  {
   "cell_type": "code",
   "execution_count": 53,
   "metadata": {
    "collapsed": true
   },
   "outputs": [],
   "source": [
    "class Multiply(object):\n",
    "    def __init__(self, multiplier):\n",
    "        self.multiplier = multiplier\n",
    "    \n",
    "    def multiply(self, number):\n",
    "        return number * self.multiplier"
   ]
  },
  {
   "cell_type": "code",
   "execution_count": 54,
   "metadata": {},
   "outputs": [
    {
     "data": {
      "text/plain": [
       "500"
      ]
     },
     "execution_count": 54,
     "metadata": {},
     "output_type": "execute_result"
    }
   ],
   "source": [
    "muliply = Multiply(5)\n",
    "muliply.multiply(100)"
   ]
  },
  {
   "cell_type": "code",
   "execution_count": 55,
   "metadata": {},
   "outputs": [
    {
     "data": {
      "text/plain": [
       "<__main__.Multiply at 0x223ac55b320>"
      ]
     },
     "execution_count": 55,
     "metadata": {},
     "output_type": "execute_result"
    }
   ],
   "source": [
    "muliply"
   ]
  },
  {
   "cell_type": "code",
   "execution_count": 57,
   "metadata": {
    "collapsed": true
   },
   "outputs": [],
   "source": [
    "f = open(\"multiply_object.pickle\", 'wb')\n",
    "pickle.dump(muliply, f)\n",
    "f.close()"
   ]
  },
  {
   "cell_type": "code",
   "execution_count": 58,
   "metadata": {
    "collapsed": true
   },
   "outputs": [],
   "source": [
    "del muliply"
   ]
  },
  {
   "cell_type": "code",
   "execution_count": 59,
   "metadata": {},
   "outputs": [
    {
     "data": {
      "text/plain": [
       "500"
      ]
     },
     "execution_count": 59,
     "metadata": {},
     "output_type": "execute_result"
    }
   ],
   "source": [
    "f = open(\"multiply_object.pickle\", 'rb')\n",
    "multiply_pickle = pickle.load(f)\n",
    "multiply_pickle.multiply(100)"
   ]
  },
  {
   "cell_type": "markdown",
   "metadata": {},
   "source": [
    "### Logging Handling"
   ]
  },
  {
   "cell_type": "code",
   "execution_count": 60,
   "metadata": {},
   "outputs": [
    {
     "name": "stderr",
     "output_type": "stream",
     "text": [
      "WARNING:root:조심해!!\n",
      "ERROR:root:에러났어!!\n",
      "CRITICAL:root:망했다!!\n"
     ]
    }
   ],
   "source": [
    "import logging\n",
    "\n",
    "logging.debug(\"틀렸어!!\")\n",
    "logging.info(\"확인행!!\")\n",
    "logging.warning(\"조심해!!\")\n",
    "logging.error(\"에러났어!!\")\n",
    "logging.critical(\"망했다!!\")\n",
    "\n",
    "# 기본 logging level이 warning 이기 때문에 warning 부터 출력"
   ]
  },
  {
   "cell_type": "code",
   "execution_count": 73,
   "metadata": {},
   "outputs": [
    {
     "name": "stderr",
     "output_type": "stream",
     "text": [
      "INFO:main:확인행!!\n",
      "WARNING:main:조심해!!\n",
      "ERROR:main:에러났어!!\n",
      "CRITICAL:main:망했다!!\n"
     ]
    }
   ],
   "source": [
    "import logging\n",
    "\n",
    "if __name__ == '__main__':\n",
    "    logger = logging.getLogger(\"main\")\n",
    "    logging.basicConfig(level = logging.DEBUG)\n",
    "    #logger.setLevel(logging.INFO)\n",
    "    \n",
    "    steam_handler = logging.FileHandler(\n",
    "          \"my.log\", mode=\"a\", encoding=\"utf8\")\n",
    "    \n",
    "    logger.addHandler(steam_handler)\n",
    "    \n",
    "    logger.debug(\"틀렸어!!\")\n",
    "    logger.info(\"확인행!!\")\n",
    "    logger.warning(\"조심해!!\")\n",
    "    logger.error(\"에러났어!!\")\n",
    "    logger.critical(\"망했다!!\")"
   ]
  },
  {
   "cell_type": "code",
   "execution_count": 74,
   "metadata": {},
   "outputs": [
    {
     "ename": "SyntaxError",
     "evalue": "invalid syntax (<ipython-input-74-be4d0cc064a9>, line 1)",
     "output_type": "error",
     "traceback": [
      "\u001b[1;36m  File \u001b[1;32m\"<ipython-input-74-be4d0cc064a9>\"\u001b[1;36m, line \u001b[1;32m1\u001b[0m\n\u001b[1;33m    cat my.log\u001b[0m\n\u001b[1;37m         ^\u001b[0m\n\u001b[1;31mSyntaxError\u001b[0m\u001b[1;31m:\u001b[0m invalid syntax\n"
     ]
    }
   ],
   "source": [
    "cat my.log"
   ]
  },
  {
   "cell_type": "code",
   "execution_count": 1,
   "metadata": {},
   "outputs": [
    {
     "name": "stdout",
     "output_type": "stream",
     "text": [
      "Header :\t ['customerNumber', 'customerName', 'contactLastName', 'contactFirstName', 'phone', 'addressLine1', 'addressLine2', 'city', 'state', 'postalCode', 'country', 'salesRepEmployeeNumber', 'creditLimit\\n']\n",
      "Data 0 :\t\t ['103', '\"Atelier graphique\"', 'Schmitt', '\"Carine \"', '40.32.2555', '\"54', ' rue Royale\"', 'NULL', 'Nantes', 'NULL', '44000', 'France', '1370', '21000\\n']\n",
      "Data 1 :\t\t ['112', '\"Signal Gift Stores\"', 'King', 'Jean', '7025551838', '\"8489 Strong St.\"', 'NULL', '\"Las Vegas\"', 'NV', '83030', 'USA', '1166', '71800\\n']\n",
      "Data 2 :\t\t ['114', '\"Australian Collectors', ' Co.\"', 'Ferguson', 'Peter', '\"03 9520 4555\"', '\"636 St Kilda Road\"', '\"Level 3\"', 'Melbourne', 'Victoria', '3004', 'Australia', '1611', '117300\\n']\n",
      "Data 3 :\t\t ['119', '\"La Rochelle Gifts\"', 'Labrune', '\"Janine \"', '40.67.8555', '\"67', ' rue des Cinquante Otages\"', 'NULL', 'Nantes', 'NULL', '44000', 'France', '1370', '118200\\n']\n",
      "Data 4 :\t\t ['121', '\"Baane Mini Imports\"', 'Bergulfsen', '\"Jonas \"', '\"07-98 9555\"', '\"Erling Skakkes gate 78\"', 'NULL', 'Stavern', 'NULL', '4110', 'Norway', '1504', '81700\\n']\n",
      "Data 5 :\t\t ['124', '\"Mini Gifts Distributors Ltd.\"', 'Nelson', 'Susan', '4155551450', '\"5677 Strong St.\"', 'NULL', '\"San Rafael\"', 'CA', '97562', 'USA', '1165', '210500\\n']\n",
      "Data 6 :\t\t ['125', '\"Havel & Zbyszek Co\"', 'Piestrzeniewicz', '\"Zbyszek \"', '\"(26) 642-7555\"', '\"ul. Filtrowa 68\"', 'NULL', 'Warszawa', 'NULL', '01-012', 'Poland', 'NULL', '0\\n']\n",
      "Data 7 :\t\t ['128', '\"Blauer See Auto', ' Co.\"', 'Keitel', 'Roland', '\"+49 69 66 90 2555\"', '\"Lyonerstr. 34\"', 'NULL', 'Frankfurt', 'NULL', '60528', 'Germany', '1504', '59700\\n']\n",
      "Data 8 :\t\t ['129', '\"Mini Wheels Co.\"', 'Murphy', 'Julie', '6505555787', '\"5557 North Pendale Street\"', 'NULL', '\"San Francisco\"', 'CA', '94217', 'USA', '1165', '64600\\n']\n",
      "Data 9 :\t\t ['131', '\"Land of Toys Inc.\"', 'Lee', 'Kwai', '2125557818', '\"897 Long Airport Avenue\"', 'NULL', 'NYC', 'NY', '10022', 'USA', '1323', '114900\\n']\n",
      "122\n"
     ]
    }
   ],
   "source": [
    "# CSV 파일 읽기 예제\n",
    "\n",
    "line_counter = 0\n",
    "data_header = []\n",
    "customer_list = []\n",
    "\n",
    "with open (\"customers.csv\") as customer_data:\n",
    "    while True:\n",
    "        data = customer_data.readline()\n",
    "        if not data: break\n",
    "        if line_counter==0:\n",
    "            data_header = data.split(\",\")\n",
    "        else:\n",
    "            customer_list.append(data.split(\",\"))\n",
    "        line_counter += 1\n",
    "        \n",
    "print(\"Header :\\t\", data_header)\n",
    "\n",
    "for i in range(0,10):\n",
    "    print (\"Data\",i,\":\\t\\t\",customer_list[i])\n",
    "print (len(customer_list))"
   ]
  },
  {
   "cell_type": "code",
   "execution_count": 3,
   "metadata": {},
   "outputs": [
    {
     "name": "stdout",
     "output_type": "stream",
     "text": [
      "Header : \t ['customerNumber', 'customerName', 'contactLastName', 'contactFirstName', 'phone', 'addressLine1', 'addressLine2', 'city', 'state', 'postalCode', 'country', 'salesRepEmployeeNumber', 'creditLimit\\n']\n",
      "Data : \t\t ['112', '\"Signal Gift Stores\"', 'King', 'Jean', '7025551838', '\"8489 Strong St.\"', 'NULL', '\"Las Vegas\"', 'NV', '83030', 'USA', '1166', '71800\\n']\n",
      "Data : \t\t ['124', '\"Mini Gifts Distributors Ltd.\"', 'Nelson', 'Susan', '4155551450', '\"5677 Strong St.\"', 'NULL', '\"San Rafael\"', 'CA', '97562', 'USA', '1165', '210500\\n']\n",
      "Data : \t\t ['129', '\"Mini Wheels Co.\"', 'Murphy', 'Julie', '6505555787', '\"5557 North Pendale Street\"', 'NULL', '\"San Francisco\"', 'CA', '94217', 'USA', '1165', '64600\\n']\n",
      "Data : \t\t ['131', '\"Land of Toys Inc.\"', 'Lee', 'Kwai', '2125557818', '\"897 Long Airport Avenue\"', 'NULL', 'NYC', 'NY', '10022', 'USA', '1323', '114900\\n']\n",
      "Data : \t\t ['151', '\"Muscle Machine Inc\"', 'Young', 'Jeff', '2125557413', '\"4092 Furth Circle\"', '\"Suite 400\"', 'NYC', 'NY', '10022', 'USA', '1286', '138500\\n']\n",
      "Data : \t\t ['157', '\"Diecast Classics Inc.\"', 'Leong', 'Kelvin', '2155551555', '\"7586 Pompton St.\"', 'NULL', 'Allentown', 'PA', '70267', 'USA', '1216', '100600\\n']\n",
      "Data : \t\t ['161', '\"Technics Stores Inc.\"', 'Hashimoto', 'Juri', '6505556809', '\"9408 Furth Circle\"', 'NULL', 'Burlingame', 'CA', '94217', 'USA', '1165', '84600\\n']\n",
      "Data : \t\t ['168', '\"American Souvenirs Inc\"', 'Franco', 'Keith', '2035557845', '\"149 Spinnaker Dr.\"', '\"Suite 101\"', '\"New Haven\"', 'CT', '97823', 'USA', '1286', '0\\n']\n",
      "Data : \t\t ['173', '\"Cambridge Collectables Co.\"', 'Tseng', 'Jerry', '6175555555', '\"4658 Baden Av.\"', 'NULL', 'Cambridge', 'MA', '51247', 'USA', '1188', '43400\\n']\n",
      "Data : \t\t ['175', '\"Gift Depot Inc.\"', 'King', 'Julie', '2035552570', '\"25593 South Bay Ln.\"', 'NULL', 'Bridgewater', 'CT', '97562', 'USA', '1323', '84300\\n']\n",
      "34\n"
     ]
    }
   ],
   "source": [
    "# CSV 파일 쓰기 예제\n",
    "\n",
    "line_counter = 0\n",
    "data_header = []\n",
    "employee = []\n",
    "customer_USA_only_list = []\n",
    "customer = None\n",
    "\n",
    "with open (\"customers.csv\", \"r\") as customer_data:\n",
    "    while 1:\n",
    "        data = customer_data.readline()\n",
    "        if not data:\n",
    "            break\n",
    "        if line_counter==0:\n",
    "            data_header = data.split(\",\")\n",
    "        else:\n",
    "            customer = data.split(\",\")\n",
    "            if customer[10].upper() == \"USA\":\n",
    "                customer_USA_only_list.append(customer)\n",
    "        line_counter += 1\n",
    "        \n",
    "print(\"Header : \\t\", data_header)\n",
    "for i in range(0,10):\n",
    "    print(\"Data : \\t\\t\", customer_USA_only_list[i])\n",
    "print(len(customer_USA_only_list))\n",
    "\n",
    "with open(\"customers_USA_only.csv\", \"w\") as customer_USA_only_csv:\n",
    "    for customer in customer_USA_only_list:\n",
    "        customer_USA_only_csv.write(\",\".join(customer).strip('\\n')+\"\\n\")"
   ]
  },
  {
   "cell_type": "code",
   "execution_count": null,
   "metadata": {
    "collapsed": true
   },
   "outputs": [],
   "source": [
    "import csv\n",
    "\n",
    "seoung_nam_data = []\n",
    "header = []\n",
    "rownum = 0\n",
    "\n",
    "with open(\"korea_floating_population_data.csv\",\"r\", encoding=\"cp949\") as p_file:\n",
    "    csv_data = csv.reader(p_file)\n",
    "    for row in csv_data:\n",
    "        if rownum == 0:\n",
    "            header = row\n",
    "        location = row[7]\n",
    "\n",
    "        if location.find(u\"성남시\") != -1:\n",
    "            seoung_nam_data.append(row)\n",
    "        rownum +=1\n",
    "with open(\"seoung_nam_floating_population_data.csv\",\"w\", encoding=\"utf8\") as s_p_file:\n",
    "    writer = csv.writer(s_p_file, delimiter='\\t', quotechar=\"'\", quoting=csv.QUOTE_ALL)\n",
    "    writer.writerow(header) \n",
    "    for row in seoung_nam_data:\n",
    "        writer.writerow(row)"
   ]
  },
  {
   "cell_type": "markdown",
   "metadata": {},
   "source": [
    "### Web"
   ]
  },
  {
   "cell_type": "code",
   "execution_count": 7,
   "metadata": {},
   "outputs": [
    {
     "name": "stdout",
     "output_type": "stream",
     "text": [
      "['codo***', 'outb7***', 'dubba4***', 'multicuspi***', 'crownm***', 'triformo***', 'spania***', 'magazin***', 'presby***', 'trophody***', 'nontr***', 'enranck***', 'canc***', 'uncanker***', 'wrymo***', 'non***', 'luminat***', 'oblig***', 'anna***', 'hyperth***', 'toplabl***', 'dolce0***', 'rudals2***', 'jjw980***', 'elvlz***', 'skmid***', 'qkep***', 'kisslov***', 'maskman***', 'sungt***']\n",
      "codo***\n",
      "outb7***\n",
      "dubba4***\n",
      "multicuspi***\n",
      "crownm***\n",
      "triformo***\n",
      "spania***\n",
      "magazin***\n",
      "presby***\n",
      "trophody***\n",
      "nontr***\n",
      "enranck***\n",
      "canc***\n",
      "uncanker***\n",
      "wrymo***\n",
      "non***\n",
      "luminat***\n",
      "oblig***\n",
      "anna***\n",
      "hyperth***\n",
      "toplabl***\n",
      "dolce0***\n",
      "rudals2***\n",
      "jjw980***\n",
      "elvlz***\n",
      "skmid***\n",
      "qkep***\n",
      "kisslov***\n",
      "maskman***\n",
      "sungt***\n"
     ]
    }
   ],
   "source": [
    "import re\n",
    "import urllib.request\n",
    "\n",
    "url = \"https://bit.ly/3rxQFS4\"\n",
    "html = urllib.request.urlopen(url)\n",
    "html_contents = str(html.read())\n",
    "id_results = re.findall(r\"([A-Za-z0-9]+\\*\\*\\*)\", html_contents)\n",
    "#findall 전체 찾기, 패턴대로 데이터 찾기\n",
    "print(id_results)\n",
    "for result in id_results:\n",
    "    print(result)"
   ]
  },
  {
   "cell_type": "code",
   "execution_count": 8,
   "metadata": {},
   "outputs": [
    {
     "name": "stdout",
     "output_type": "stream",
     "text": [
      "http://storage.googleapis.com/patents/grant_full_text/2015/ipg150106.zip\n",
      "http://storage.googleapis.com/patents/grant_full_text/2015/ipg150113.zip\n",
      "http://storage.googleapis.com/patents/grant_full_text/2015/ipg150120.zip\n",
      "http://storage.googleapis.com/patents/grant_full_text/2015/ipg150127.zip\n",
      "http://storage.googleapis.com/patents/grant_full_text/2015/ipg150203.zip\n",
      "http://storage.googleapis.com/patents/grant_full_text/2015/ipg150210.zip\n",
      "http://storage.googleapis.com/patents/grant_full_text/2015/ipg150217.zip\n",
      "http://storage.googleapis.com/patents/grant_full_text/2015/ipg150224.zip\n",
      "http://storage.googleapis.com/patents/grant_full_text/2015/ipg150303.zip\n",
      "http://storage.googleapis.com/patents/grant_full_text/2015/ipg150310.zip\n",
      "http://storage.googleapis.com/patents/grant_full_text/2015/ipg150317.zip\n",
      "http://storage.googleapis.com/patents/grant_full_text/2014/ipg140107.zip\n",
      "http://storage.googleapis.com/patents/grant_full_text/2014/ipg140114.zip\n",
      "http://storage.googleapis.com/patents/grant_full_text/2014/ipg140121.zip\n",
      "http://storage.googleapis.com/patents/grant_full_text/2014/ipg140128.zip\n",
      "http://storage.googleapis.com/patents/grant_full_text/2014/ipg140204.zip\n",
      "http://storage.googleapis.com/patents/grant_full_text/2014/ipg140211.zip\n",
      "http://storage.googleapis.com/patents/grant_full_text/2014/ipg140218.zip\n",
      "http://storage.googleapis.com/patents/grant_full_text/2014/ipg140225.zip\n",
      "http://storage.googleapis.com/patents/grant_full_text/2014/ipg140304.zip\n",
      "http://storage.googleapis.com/patents/grant_full_text/2014/ipg140311.zip\n",
      "http://storage.googleapis.com/patents/grant_full_text/2014/ipg140318.zip\n",
      "http://storage.googleapis.com/patents/grant_full_text/2014/ipg140325.zip\n",
      "http://storage.googleapis.com/patents/grant_full_text/2014/ipg140401.zip\n",
      "http://storage.googleapis.com/patents/grant_full_text/2014/ipg140408.zip\n",
      "http://storage.googleapis.com/patents/grant_full_text/2014/ipg140415.zip\n",
      "http://storage.googleapis.com/patents/grant_full_text/2014/ipg140422.zip\n",
      "http://storage.googleapis.com/patents/grant_full_text/2014/ipg140429.zip\n",
      "http://storage.googleapis.com/patents/grant_full_text/2014/ipg140506.zip\n",
      "http://storage.googleapis.com/patents/grant_full_text/2014/ipg140513.zip\n",
      "http://storage.googleapis.com/patents/grant_full_text/2014/ipg140520.zip\n",
      "http://storage.googleapis.com/patents/grant_full_text/2014/ipg140527.zip\n",
      "http://storage.googleapis.com/patents/grant_full_text/2014/ipg140603.zip\n",
      "http://storage.googleapis.com/patents/grant_full_text/2014/ipg140610.zip\n",
      "http://storage.googleapis.com/patents/grant_full_text/2014/ipg140617.zip\n",
      "http://storage.googleapis.com/patents/grant_full_text/2014/ipg140624.zip\n",
      "http://storage.googleapis.com/patents/grant_full_text/2014/ipg140701.zip\n",
      "http://storage.googleapis.com/patents/grant_full_text/2014/ipg140708.zip\n",
      "http://storage.googleapis.com/patents/grant_full_text/2014/ipg140715.zip\n",
      "http://storage.googleapis.com/patents/grant_full_text/2014/ipg140722.zip\n",
      "http://storage.googleapis.com/patents/grant_full_text/2014/ipg140729.zip\n",
      "http://storage.googleapis.com/patents/grant_full_text/2014/ipg140805.zip\n",
      "http://storage.googleapis.com/patents/grant_full_text/2014/ipg140812.zip\n",
      "http://storage.googleapis.com/patents/grant_full_text/2014/ipg140819.zip\n",
      "http://storage.googleapis.com/patents/grant_full_text/2014/ipg140826.zip\n",
      "http://storage.googleapis.com/patents/grant_full_text/2014/ipg140902.zip\n",
      "http://storage.googleapis.com/patents/grant_full_text/2014/ipg140909.zip\n",
      "http://storage.googleapis.com/patents/grant_full_text/2014/ipg140916.zip\n",
      "http://storage.googleapis.com/patents/grant_full_text/2014/ipg140923.zip\n",
      "http://storage.googleapis.com/patents/grant_full_text/2014/ipg140930.zip\n",
      "http://storage.googleapis.com/patents/grant_full_text/2014/ipg141007.zip\n",
      "http://storage.googleapis.com/patents/grant_full_text/2014/ipg141014.zip\n",
      "http://storage.googleapis.com/patents/grant_full_text/2014/ipg141021.zip\n",
      "http://storage.googleapis.com/patents/grant_full_text/2014/ipg141028.zip\n",
      "http://storage.googleapis.com/patents/grant_full_text/2014/ipg141104.zip\n",
      "http://storage.googleapis.com/patents/grant_full_text/2014/ipg141111.zip\n",
      "http://storage.googleapis.com/patents/grant_full_text/2014/ipg141118.zip\n",
      "http://storage.googleapis.com/patents/grant_full_text/2014/ipg141125.zip\n",
      "http://storage.googleapis.com/patents/grant_full_text/2014/ipg141202.zip\n",
      "http://storage.googleapis.com/patents/grant_full_text/2014/ipg141209.zip\n",
      "http://storage.googleapis.com/patents/grant_full_text/2014/ipg141216.zip\n",
      "http://storage.googleapis.com/patents/grant_full_text/2014/ipg141223.zip\n",
      "http://storage.googleapis.com/patents/grant_full_text/2014/ipg141230.zip\n",
      "http://storage.googleapis.com/patents/grant_full_text/2013/ipg130101.zip\n",
      "http://storage.googleapis.com/patents/grant_full_text/2013/ipg130108.zip\n",
      "http://storage.googleapis.com/patents/grant_full_text/2013/ipg130115.zip\n",
      "http://storage.googleapis.com/patents/grant_full_text/2013/ipg130122.zip\n",
      "http://storage.googleapis.com/patents/grant_full_text/2013/ipg130129.zip\n",
      "http://storage.googleapis.com/patents/grant_full_text/2013/ipg130205.zip\n",
      "http://storage.googleapis.com/patents/grant_full_text/2013/ipg130212.zip\n",
      "http://storage.googleapis.com/patents/grant_full_text/2013/ipg130219.zip\n",
      "http://storage.googleapis.com/patents/grant_full_text/2013/ipg130226.zip\n",
      "http://storage.googleapis.com/patents/grant_full_text/2013/ipg130305.zip\n",
      "http://storage.googleapis.com/patents/grant_full_text/2013/ipg130312.zip\n",
      "http://storage.googleapis.com/patents/grant_full_text/2013/ipg130319.zip\n",
      "http://storage.googleapis.com/patents/grant_full_text/2013/ipg130326.zip\n",
      "http://storage.googleapis.com/patents/grant_full_text/2013/ipg130402.zip\n",
      "http://storage.googleapis.com/patents/grant_full_text/2013/ipg130409.zip\n",
      "http://storage.googleapis.com/patents/grant_full_text/2013/ipg130416.zip\n",
      "http://storage.googleapis.com/patents/grant_full_text/2013/ipg130423.zip\n",
      "http://storage.googleapis.com/patents/grant_full_text/2013/ipg130430.zip\n",
      "http://storage.googleapis.com/patents/grant_full_text/2013/ipg130507.zip\n",
      "http://storage.googleapis.com/patents/grant_full_text/2013/ipg130514.zip\n",
      "http://storage.googleapis.com/patents/grant_full_text/2013/ipg130521.zip\n",
      "http://storage.googleapis.com/patents/grant_full_text/2013/ipg130528.zip\n",
      "http://storage.googleapis.com/patents/grant_full_text/2013/ipg130604.zip\n",
      "http://storage.googleapis.com/patents/grant_full_text/2013/ipg130611.zip\n",
      "http://storage.googleapis.com/patents/grant_full_text/2013/ipg130618.zip\n",
      "http://storage.googleapis.com/patents/grant_full_text/2013/ipg130625.zip\n",
      "http://storage.googleapis.com/patents/grant_full_text/2013/ipg130702.zip\n",
      "http://storage.googleapis.com/patents/grant_full_text/2013/ipg130709.zip\n",
      "http://storage.googleapis.com/patents/grant_full_text/2013/ipg130716.zip\n",
      "http://storage.googleapis.com/patents/grant_full_text/2013/ipg130723.zip\n",
      "http://storage.googleapis.com/patents/grant_full_text/2013/ipg130730.zip\n",
      "http://storage.googleapis.com/patents/grant_full_text/2013/ipg130806.zip\n",
      "http://storage.googleapis.com/patents/grant_full_text/2013/ipg130813.zip\n",
      "http://storage.googleapis.com/patents/grant_full_text/2013/ipg130820.zip\n",
      "http://storage.googleapis.com/patents/grant_full_text/2013/ipg130827.zip\n",
      "http://storage.googleapis.com/patents/grant_full_text/2013/ipg130903.zip\n",
      "http://storage.googleapis.com/patents/grant_full_text/2013/ipg130910.zip\n",
      "http://storage.googleapis.com/patents/grant_full_text/2013/ipg130917.zip\n",
      "http://storage.googleapis.com/patents/grant_full_text/2013/ipg130924.zip\n",
      "http://storage.googleapis.com/patents/grant_full_text/2013/ipg131001.zip\n",
      "http://storage.googleapis.com/patents/grant_full_text/2013/ipg131008.zip\n",
      "http://storage.googleapis.com/patents/grant_full_text/2013/ipg131015.zip\n",
      "http://storage.googleapis.com/patents/grant_full_text/2013/ipg131022.zip\n",
      "http://storage.googleapis.com/patents/grant_full_text/2013/ipg131029.zip\n",
      "http://storage.googleapis.com/patents/grant_full_text/2013/ipg131105.zip\n",
      "http://storage.googleapis.com/patents/grant_full_text/2013/ipg131112.zip\n",
      "http://storage.googleapis.com/patents/grant_full_text/2013/ipg131119.zip\n",
      "http://storage.googleapis.com/patents/grant_full_text/2013/ipg131126.zip\n",
      "http://storage.googleapis.com/patents/grant_full_text/2013/ipg131203.zip\n",
      "http://storage.googleapis.com/patents/grant_full_text/2013/ipg131210.zip\n",
      "http://storage.googleapis.com/patents/grant_full_text/2013/ipg131217.zip\n",
      "http://storage.googleapis.com/patents/grant_full_text/2013/ipg131224.zip\n",
      "http://storage.googleapis.com/patents/grant_full_text/2013/ipg131231.zip\n",
      "http://storage.googleapis.com/patents/grant_full_text/2012/ipg120103.zip\n",
      "http://storage.googleapis.com/patents/grant_full_text/2012/ipg120110.zip\n",
      "http://storage.googleapis.com/patents/grant_full_text/2012/ipg120117.zip\n",
      "http://storage.googleapis.com/patents/grant_full_text/2012/ipg120124.zip\n",
      "http://storage.googleapis.com/patents/grant_full_text/2012/ipg120131.zip\n",
      "http://storage.googleapis.com/patents/grant_full_text/2012/ipg120207.zip\n",
      "http://storage.googleapis.com/patents/grant_full_text/2012/ipg120214.zip\n",
      "http://storage.googleapis.com/patents/grant_full_text/2012/ipg120221.zip\n",
      "http://storage.googleapis.com/patents/grant_full_text/2012/ipg120228.zip\n",
      "http://storage.googleapis.com/patents/grant_full_text/2012/ipg120306.zip\n",
      "http://storage.googleapis.com/patents/grant_full_text/2012/ipg120313.zip\n",
      "http://storage.googleapis.com/patents/grant_full_text/2012/ipg120320.zip\n",
      "http://storage.googleapis.com/patents/grant_full_text/2012/ipg120327.zip\n",
      "http://storage.googleapis.com/patents/grant_full_text/2012/ipg120403.zip\n",
      "http://storage.googleapis.com/patents/grant_full_text/2012/ipg120410.zip\n",
      "http://storage.googleapis.com/patents/grant_full_text/2012/ipg120417.zip\n",
      "http://storage.googleapis.com/patents/grant_full_text/2012/ipg120424.zip\n",
      "http://storage.googleapis.com/patents/grant_full_text/2012/ipg120501.zip\n",
      "http://storage.googleapis.com/patents/grant_full_text/2012/ipg120508.zip\n",
      "http://storage.googleapis.com/patents/grant_full_text/2012/ipg120515.zip\n",
      "http://storage.googleapis.com/patents/grant_full_text/2012/ipg120522.zip\n",
      "http://storage.googleapis.com/patents/grant_full_text/2012/ipg120529.zip\n",
      "http://storage.googleapis.com/patents/grant_full_text/2012/ipg120605.zip\n",
      "http://storage.googleapis.com/patents/grant_full_text/2012/ipg120612.zip\n",
      "http://storage.googleapis.com/patents/grant_full_text/2012/ipg120619.zip\n",
      "http://storage.googleapis.com/patents/grant_full_text/2012/ipg120626.zip\n",
      "http://storage.googleapis.com/patents/grant_full_text/2012/ipg120703.zip\n",
      "http://storage.googleapis.com/patents/grant_full_text/2012/ipg120710.zip\n",
      "http://storage.googleapis.com/patents/grant_full_text/2012/ipg120717.zip\n",
      "http://storage.googleapis.com/patents/grant_full_text/2012/ipg120724.zip\n",
      "http://storage.googleapis.com/patents/grant_full_text/2012/ipg120731.zip\n",
      "http://storage.googleapis.com/patents/grant_full_text/2012/ipg120807.zip\n",
      "http://storage.googleapis.com/patents/grant_full_text/2012/ipg120814.zip\n",
      "http://storage.googleapis.com/patents/grant_full_text/2012/ipg120821.zip\n",
      "http://storage.googleapis.com/patents/grant_full_text/2012/ipg120828.zip\n",
      "http://storage.googleapis.com/patents/grant_full_text/2012/ipg120904.zip\n",
      "http://storage.googleapis.com/patents/grant_full_text/2012/ipg120911.zip\n",
      "http://storage.googleapis.com/patents/grant_full_text/2012/ipg120918.zip\n",
      "http://storage.googleapis.com/patents/grant_full_text/2012/ipg120925.zip\n",
      "http://storage.googleapis.com/patents/grant_full_text/2012/ipg121002.zip\n",
      "http://storage.googleapis.com/patents/grant_full_text/2012/ipg121009.zip\n",
      "http://storage.googleapis.com/patents/grant_full_text/2012/ipg121016.zip\n",
      "http://storage.googleapis.com/patents/grant_full_text/2012/ipg121023.zip\n",
      "http://storage.googleapis.com/patents/grant_full_text/2012/ipg121030.zip\n",
      "http://storage.googleapis.com/patents/grant_full_text/2012/ipg121106.zip\n",
      "http://storage.googleapis.com/patents/grant_full_text/2012/ipg121113.zip\n",
      "http://storage.googleapis.com/patents/grant_full_text/2012/ipg121120.zip\n",
      "http://storage.googleapis.com/patents/grant_full_text/2012/ipg121127.zip\n",
      "http://storage.googleapis.com/patents/grant_full_text/2012/ipg121204.zip\n",
      "http://storage.googleapis.com/patents/grant_full_text/2012/ipg121211.zip\n",
      "http://storage.googleapis.com/patents/grant_full_text/2012/ipg121218.zip\n",
      "http://storage.googleapis.com/patents/grant_full_text/2012/ipg121225.zip\n",
      "http://storage.googleapis.com/patents/grant_full_text/2011/ipg110104.zip\n",
      "http://storage.googleapis.com/patents/grant_full_text/2011/ipg110111.zip\n",
      "http://storage.googleapis.com/patents/grant_full_text/2011/ipg110118.zip\n",
      "http://storage.googleapis.com/patents/grant_full_text/2011/ipg110125.zip\n",
      "http://storage.googleapis.com/patents/grant_full_text/2011/ipg110201.zip\n",
      "http://storage.googleapis.com/patents/grant_full_text/2011/ipg110208.zip\n",
      "http://storage.googleapis.com/patents/grant_full_text/2011/ipg110215.zip\n",
      "http://storage.googleapis.com/patents/grant_full_text/2011/ipg110222.zip\n",
      "http://storage.googleapis.com/patents/grant_full_text/2011/ipg110301.zip\n",
      "http://storage.googleapis.com/patents/grant_full_text/2011/ipg110308.zip\n",
      "http://storage.googleapis.com/patents/grant_full_text/2011/ipg110315.zip\n",
      "http://storage.googleapis.com/patents/grant_full_text/2011/ipg110322.zip\n",
      "http://storage.googleapis.com/patents/grant_full_text/2011/ipg110329.zip\n",
      "http://storage.googleapis.com/patents/grant_full_text/2011/ipg110405.zip\n",
      "http://storage.googleapis.com/patents/grant_full_text/2011/ipg110412.zip\n",
      "http://storage.googleapis.com/patents/grant_full_text/2011/ipg110419.zip\n",
      "http://storage.googleapis.com/patents/grant_full_text/2011/ipg110426.zip\n",
      "http://storage.googleapis.com/patents/grant_full_text/2011/ipg110503.zip\n",
      "http://storage.googleapis.com/patents/grant_full_text/2011/ipg110510.zip\n",
      "http://storage.googleapis.com/patents/grant_full_text/2011/ipg110517.zip\n",
      "http://storage.googleapis.com/patents/grant_full_text/2011/ipg110524.zip\n",
      "http://storage.googleapis.com/patents/grant_full_text/2011/ipg110531.zip\n",
      "http://storage.googleapis.com/patents/grant_full_text/2011/ipg110607.zip\n",
      "http://storage.googleapis.com/patents/grant_full_text/2011/ipg110614.zip\n",
      "http://storage.googleapis.com/patents/grant_full_text/2011/ipg110621.zip\n",
      "http://storage.googleapis.com/patents/grant_full_text/2011/ipg110628.zip\n",
      "http://storage.googleapis.com/patents/grant_full_text/2011/ipg110705.zip\n",
      "http://storage.googleapis.com/patents/grant_full_text/2011/ipg110712.zip\n",
      "http://storage.googleapis.com/patents/grant_full_text/2011/ipg110719.zip\n",
      "http://storage.googleapis.com/patents/grant_full_text/2011/ipg110726.zip\n",
      "http://storage.googleapis.com/patents/grant_full_text/2011/ipg110802.zip\n",
      "http://storage.googleapis.com/patents/grant_full_text/2011/ipg110809.zip\n",
      "http://storage.googleapis.com/patents/grant_full_text/2011/ipg110816.zip\n",
      "http://storage.googleapis.com/patents/grant_full_text/2011/ipg110823.zip\n",
      "http://storage.googleapis.com/patents/grant_full_text/2011/ipg110830.zip\n",
      "http://storage.googleapis.com/patents/grant_full_text/2011/ipg110906.zip\n",
      "http://storage.googleapis.com/patents/grant_full_text/2011/ipg110913.zip\n",
      "http://storage.googleapis.com/patents/grant_full_text/2011/ipg110920.zip\n",
      "http://storage.googleapis.com/patents/grant_full_text/2011/ipg110927.zip\n",
      "http://storage.googleapis.com/patents/grant_full_text/2011/ipg111004.zip\n",
      "http://storage.googleapis.com/patents/grant_full_text/2011/ipg111011.zip\n",
      "http://storage.googleapis.com/patents/grant_full_text/2011/ipg111018.zip\n",
      "http://storage.googleapis.com/patents/grant_full_text/2011/ipg111025.zip\n",
      "http://storage.googleapis.com/patents/grant_full_text/2011/ipg111101.zip\n",
      "http://storage.googleapis.com/patents/grant_full_text/2011/ipg111108.zip\n",
      "http://storage.googleapis.com/patents/grant_full_text/2011/ipg111115.zip\n",
      "http://storage.googleapis.com/patents/grant_full_text/2011/ipg111122.zip\n",
      "http://storage.googleapis.com/patents/grant_full_text/2011/ipg111129.zip\n",
      "http://storage.googleapis.com/patents/grant_full_text/2011/ipg111206.zip\n",
      "http://storage.googleapis.com/patents/grant_full_text/2011/ipg111213.zip\n",
      "http://storage.googleapis.com/patents/grant_full_text/2011/ipg111220.zip\n",
      "http://storage.googleapis.com/patents/grant_full_text/2011/ipg111227.zip\n",
      "http://storage.googleapis.com/patents/grant_full_text/2010/ipg100105.zip\n",
      "http://storage.googleapis.com/patents/grant_full_text/2010/ipg100112.zip\n",
      "http://storage.googleapis.com/patents/grant_full_text/2010/ipg100119.zip\n",
      "http://storage.googleapis.com/patents/grant_full_text/2010/ipg100126.zip\n",
      "http://storage.googleapis.com/patents/grant_full_text/2010/ipg100202.zip\n",
      "http://storage.googleapis.com/patents/grant_full_text/2010/ipg100209.zip\n",
      "http://storage.googleapis.com/patents/grant_full_text/2010/ipg100216.zip\n",
      "http://storage.googleapis.com/patents/grant_full_text/2010/ipg100223.zip\n",
      "http://storage.googleapis.com/patents/grant_full_text/2010/ipg100302.zip\n",
      "http://storage.googleapis.com/patents/grant_full_text/2010/ipg100309.zip\n",
      "http://storage.googleapis.com/patents/grant_full_text/2010/ipg100316.zip\n",
      "http://storage.googleapis.com/patents/grant_full_text/2010/ipg100323.zip\n",
      "http://storage.googleapis.com/patents/grant_full_text/2010/ipg100330.zip\n",
      "http://storage.googleapis.com/patents/grant_full_text/2010/ipg100406.zip\n",
      "http://storage.googleapis.com/patents/grant_full_text/2010/ipg100413.zip\n",
      "http://storage.googleapis.com/patents/grant_full_text/2010/ipg100420.zip\n",
      "http://storage.googleapis.com/patents/grant_full_text/2010/ipg100427.zip\n",
      "http://storage.googleapis.com/patents/grant_full_text/2010/ipg100504.zip\n",
      "http://storage.googleapis.com/patents/grant_full_text/2010/ipg100511.zip\n",
      "http://storage.googleapis.com/patents/grant_full_text/2010/ipg100518.zip\n",
      "http://storage.googleapis.com/patents/grant_full_text/2010/ipg100525.zip\n",
      "http://storage.googleapis.com/patents/grant_full_text/2010/ipg100601.zip\n",
      "http://storage.googleapis.com/patents/grant_full_text/2010/ipg100608.zip\n",
      "http://storage.googleapis.com/patents/grant_full_text/2010/ipg100615.zip\n",
      "http://storage.googleapis.com/patents/grant_full_text/2010/ipg100622.zip\n",
      "http://storage.googleapis.com/patents/grant_full_text/2010/ipg100629.zip\n",
      "http://storage.googleapis.com/patents/grant_full_text/2010/ipg100706.zip\n",
      "http://storage.googleapis.com/patents/grant_full_text/2010/ipg100713.zip\n",
      "http://storage.googleapis.com/patents/grant_full_text/2010/ipg100720.zip\n",
      "http://storage.googleapis.com/patents/grant_full_text/2010/ipg100727.zip\n",
      "http://storage.googleapis.com/patents/grant_full_text/2010/ipg100803.zip\n",
      "http://storage.googleapis.com/patents/grant_full_text/2010/ipg100810.zip\n",
      "http://storage.googleapis.com/patents/grant_full_text/2010/ipg100817.zip\n",
      "http://storage.googleapis.com/patents/grant_full_text/2010/ipg100824.zip\n",
      "http://storage.googleapis.com/patents/grant_full_text/2010/ipg100831.zip\n",
      "http://storage.googleapis.com/patents/grant_full_text/2010/ipg100907.zip\n",
      "http://storage.googleapis.com/patents/grant_full_text/2010/ipg100914.zip\n",
      "http://storage.googleapis.com/patents/grant_full_text/2010/ipg100921.zip\n",
      "http://storage.googleapis.com/patents/grant_full_text/2010/ipg100928.zip\n",
      "http://storage.googleapis.com/patents/grant_full_text/2010/ipg101005.zip\n",
      "http://storage.googleapis.com/patents/grant_full_text/2010/ipg101012.zip\n",
      "http://storage.googleapis.com/patents/grant_full_text/2010/ipg101019.zip\n",
      "http://storage.googleapis.com/patents/grant_full_text/2010/ipg101026.zip\n",
      "http://storage.googleapis.com/patents/grant_full_text/2010/ipg101102.zip\n",
      "http://storage.googleapis.com/patents/grant_full_text/2010/ipg101109.zip\n",
      "http://storage.googleapis.com/patents/grant_full_text/2010/ipg101116.zip\n",
      "http://storage.googleapis.com/patents/grant_full_text/2010/ipg101123.zip\n",
      "http://storage.googleapis.com/patents/grant_full_text/2010/ipg101130.zip\n",
      "http://storage.googleapis.com/patents/grant_full_text/2010/ipg101207.zip\n",
      "http://storage.googleapis.com/patents/grant_full_text/2010/ipg101214.zip\n",
      "http://storage.googleapis.com/patents/grant_full_text/2010/ipg101221.zip\n",
      "http://storage.googleapis.com/patents/grant_full_text/2010/ipg101228.zip\n",
      "http://storage.googleapis.com/patents/grant_full_text/2009/ipg090106.zip\n",
      "http://storage.googleapis.com/patents/grant_full_text/2009/ipg090113.zip\n",
      "http://storage.googleapis.com/patents/grant_full_text/2009/ipg090120.zip\n",
      "http://storage.googleapis.com/patents/grant_full_text/2009/ipg090127.zip\n",
      "http://storage.googleapis.com/patents/grant_full_text/2009/ipg090203.zip\n",
      "http://storage.googleapis.com/patents/grant_full_text/2009/ipg090210.zip\n",
      "http://storage.googleapis.com/patents/grant_full_text/2009/ipg090217.zip\n",
      "http://storage.googleapis.com/patents/grant_full_text/2009/ipg090224.zip\n",
      "http://storage.googleapis.com/patents/grant_full_text/2009/ipg090303.zip\n",
      "http://storage.googleapis.com/patents/grant_full_text/2009/ipg090310.zip\n",
      "http://storage.googleapis.com/patents/grant_full_text/2009/ipg090317.zip\n",
      "http://storage.googleapis.com/patents/grant_full_text/2009/ipg090324.zip\n",
      "http://storage.googleapis.com/patents/grant_full_text/2009/ipg090331.zip\n",
      "http://storage.googleapis.com/patents/grant_full_text/2009/ipg090407.zip\n",
      "http://storage.googleapis.com/patents/grant_full_text/2009/ipg090414.zip\n",
      "http://storage.googleapis.com/patents/grant_full_text/2009/ipg090421.zip\n",
      "http://storage.googleapis.com/patents/grant_full_text/2009/ipg090428.zip\n",
      "http://storage.googleapis.com/patents/grant_full_text/2009/ipg090505.zip\n",
      "http://storage.googleapis.com/patents/grant_full_text/2009/ipg090512.zip\n",
      "http://storage.googleapis.com/patents/grant_full_text/2009/ipg090519.zip\n",
      "http://storage.googleapis.com/patents/grant_full_text/2009/ipg090526.zip\n",
      "http://storage.googleapis.com/patents/grant_full_text/2009/ipg090602.zip\n",
      "http://storage.googleapis.com/patents/grant_full_text/2009/ipg090609.zip\n",
      "http://storage.googleapis.com/patents/grant_full_text/2009/ipg090616.zip\n",
      "http://storage.googleapis.com/patents/grant_full_text/2009/ipg090623.zip\n",
      "http://storage.googleapis.com/patents/grant_full_text/2009/ipg090630.zip\n",
      "http://storage.googleapis.com/patents/grant_full_text/2009/ipg090707.zip\n",
      "http://storage.googleapis.com/patents/grant_full_text/2009/ipg090714.zip\n",
      "http://storage.googleapis.com/patents/grant_full_text/2009/ipg090721.zip\n",
      "http://storage.googleapis.com/patents/grant_full_text/2009/ipg090728.zip\n",
      "http://storage.googleapis.com/patents/grant_full_text/2009/ipg090804.zip\n",
      "http://storage.googleapis.com/patents/grant_full_text/2009/ipg090811.zip\n",
      "http://storage.googleapis.com/patents/grant_full_text/2009/ipg090818.zip\n",
      "http://storage.googleapis.com/patents/grant_full_text/2009/ipg090825.zip\n",
      "http://storage.googleapis.com/patents/grant_full_text/2009/ipg090901.zip\n",
      "http://storage.googleapis.com/patents/grant_full_text/2009/ipg090908.zip\n",
      "http://storage.googleapis.com/patents/grant_full_text/2009/ipg090915.zip\n",
      "http://storage.googleapis.com/patents/grant_full_text/2009/ipg090922.zip\n",
      "http://storage.googleapis.com/patents/grant_full_text/2009/ipg090929.zip\n",
      "http://storage.googleapis.com/patents/grant_full_text/2009/ipg091006.zip\n",
      "http://storage.googleapis.com/patents/grant_full_text/2009/ipg091013.zip\n",
      "http://storage.googleapis.com/patents/grant_full_text/2009/ipg091020.zip\n",
      "http://storage.googleapis.com/patents/grant_full_text/2009/ipg091027.zip\n",
      "http://storage.googleapis.com/patents/grant_full_text/2009/ipg091103.zip\n",
      "http://storage.googleapis.com/patents/grant_full_text/2009/ipg091110.zip\n",
      "http://storage.googleapis.com/patents/grant_full_text/2009/ipg091117.zip\n",
      "http://storage.googleapis.com/patents/grant_full_text/2009/ipg091124.zip\n",
      "http://storage.googleapis.com/patents/grant_full_text/2009/ipg091201.zip\n",
      "http://storage.googleapis.com/patents/grant_full_text/2009/ipg091208.zip\n",
      "http://storage.googleapis.com/patents/grant_full_text/2009/ipg091215.zip\n",
      "http://storage.googleapis.com/patents/grant_full_text/2009/ipg091222.zip\n",
      "http://storage.googleapis.com/patents/grant_full_text/2009/ipg091229.zip\n",
      "http://storage.googleapis.com/patents/grant_full_text/2008/ipg080101.zip\n",
      "http://storage.googleapis.com/patents/grant_full_text/2008/ipg080108.zip\n",
      "http://storage.googleapis.com/patents/grant_full_text/2008/ipg080115.zip\n",
      "http://storage.googleapis.com/patents/grant_full_text/2008/ipg080122.zip\n",
      "http://storage.googleapis.com/patents/grant_full_text/2008/ipg080129.zip\n",
      "http://storage.googleapis.com/patents/grant_full_text/2008/ipg080205.zip\n",
      "http://storage.googleapis.com/patents/grant_full_text/2008/ipg080212.zip\n",
      "http://storage.googleapis.com/patents/grant_full_text/2008/ipg080219.zip\n",
      "http://storage.googleapis.com/patents/grant_full_text/2008/ipg080226.zip\n",
      "http://storage.googleapis.com/patents/grant_full_text/2008/ipg080304.zip\n",
      "http://storage.googleapis.com/patents/grant_full_text/2008/ipg080311.zip\n",
      "http://storage.googleapis.com/patents/grant_full_text/2008/ipg080318.zip\n",
      "http://storage.googleapis.com/patents/grant_full_text/2008/ipg080325.zip\n",
      "http://storage.googleapis.com/patents/grant_full_text/2008/ipg080401.zip\n",
      "http://storage.googleapis.com/patents/grant_full_text/2008/ipg080408.zip\n",
      "http://storage.googleapis.com/patents/grant_full_text/2008/ipg080415.zip\n",
      "http://storage.googleapis.com/patents/grant_full_text/2008/ipg080422.zip\n",
      "http://storage.googleapis.com/patents/grant_full_text/2008/ipg080429.zip\n",
      "http://storage.googleapis.com/patents/grant_full_text/2008/ipg080506.zip\n",
      "http://storage.googleapis.com/patents/grant_full_text/2008/ipg080513.zip\n",
      "http://storage.googleapis.com/patents/grant_full_text/2008/ipg080520.zip\n",
      "http://storage.googleapis.com/patents/grant_full_text/2008/ipg080527.zip\n",
      "http://storage.googleapis.com/patents/grant_full_text/2008/ipg080603.zip\n",
      "http://storage.googleapis.com/patents/grant_full_text/2008/ipg080610.zip\n",
      "http://storage.googleapis.com/patents/grant_full_text/2008/ipg080617.zip\n",
      "http://storage.googleapis.com/patents/grant_full_text/2008/ipg080624.zip\n",
      "http://storage.googleapis.com/patents/grant_full_text/2008/ipg080701.zip\n",
      "http://storage.googleapis.com/patents/grant_full_text/2008/ipg080708.zip\n",
      "http://storage.googleapis.com/patents/grant_full_text/2008/ipg080715.zip\n",
      "http://storage.googleapis.com/patents/grant_full_text/2008/ipg080722.zip\n",
      "http://storage.googleapis.com/patents/grant_full_text/2008/ipg080729.zip\n",
      "http://storage.googleapis.com/patents/grant_full_text/2008/ipg080805.zip\n",
      "http://storage.googleapis.com/patents/grant_full_text/2008/ipg080812.zip\n",
      "http://storage.googleapis.com/patents/grant_full_text/2008/ipg080819.zip\n",
      "http://storage.googleapis.com/patents/grant_full_text/2008/ipg080826.zip\n",
      "http://storage.googleapis.com/patents/grant_full_text/2008/ipg080902.zip\n",
      "http://storage.googleapis.com/patents/grant_full_text/2008/ipg080909.zip\n",
      "http://storage.googleapis.com/patents/grant_full_text/2008/ipg080916.zip\n",
      "http://storage.googleapis.com/patents/grant_full_text/2008/ipg080923.zip\n",
      "http://storage.googleapis.com/patents/grant_full_text/2008/ipg080930.zip\n",
      "http://storage.googleapis.com/patents/grant_full_text/2008/ipg081007.zip\n",
      "http://storage.googleapis.com/patents/grant_full_text/2008/ipg081014.zip\n",
      "http://storage.googleapis.com/patents/grant_full_text/2008/ipg081021.zip\n",
      "http://storage.googleapis.com/patents/grant_full_text/2008/ipg081028.zip\n",
      "http://storage.googleapis.com/patents/grant_full_text/2008/ipg081104.zip\n",
      "http://storage.googleapis.com/patents/grant_full_text/2008/ipg081111.zip\n",
      "http://storage.googleapis.com/patents/grant_full_text/2008/ipg081118.zip\n",
      "http://storage.googleapis.com/patents/grant_full_text/2008/ipg081125.zip\n",
      "http://storage.googleapis.com/patents/grant_full_text/2008/ipg081202.zip\n",
      "http://storage.googleapis.com/patents/grant_full_text/2008/ipg081209.zip\n",
      "http://storage.googleapis.com/patents/grant_full_text/2008/ipg081216.zip\n",
      "http://storage.googleapis.com/patents/grant_full_text/2008/ipg081223.zip\n",
      "http://storage.googleapis.com/patents/grant_full_text/2008/ipg081230.zip\n",
      "http://storage.googleapis.com/patents/grant_full_text/2007/ipg070102.zip\n",
      "http://storage.googleapis.com/patents/grant_full_text/2007/ipg070109.zip\n",
      "http://storage.googleapis.com/patents/grant_full_text/2007/ipg070116.zip\n",
      "http://storage.googleapis.com/patents/grant_full_text/2007/ipg070123.zip\n",
      "http://storage.googleapis.com/patents/grant_full_text/2007/ipg070130.zip\n",
      "http://storage.googleapis.com/patents/grant_full_text/2007/ipg070206.zip\n"
     ]
    },
    {
     "name": "stdout",
     "output_type": "stream",
     "text": [
      "http://storage.googleapis.com/patents/grant_full_text/2007/ipg070213.zip\n",
      "http://storage.googleapis.com/patents/grant_full_text/2007/ipg070220.zip\n",
      "http://storage.googleapis.com/patents/grant_full_text/2007/ipg070227.zip\n",
      "http://storage.googleapis.com/patents/grant_full_text/2007/ipg070306.zip\n",
      "http://storage.googleapis.com/patents/grant_full_text/2007/ipg070313.zip\n",
      "http://storage.googleapis.com/patents/grant_full_text/2007/ipg070320.zip\n",
      "http://storage.googleapis.com/patents/grant_full_text/2007/ipg070327.zip\n",
      "http://storage.googleapis.com/patents/grant_full_text/2007/ipg070403.zip\n",
      "http://storage.googleapis.com/patents/grant_full_text/2007/ipg070410.zip\n",
      "http://storage.googleapis.com/patents/grant_full_text/2007/ipg070417.zip\n",
      "http://storage.googleapis.com/patents/grant_full_text/2007/ipg070424.zip\n",
      "http://storage.googleapis.com/patents/grant_full_text/2007/ipg070501.zip\n",
      "http://storage.googleapis.com/patents/grant_full_text/2007/ipg070508.zip\n",
      "http://storage.googleapis.com/patents/grant_full_text/2007/ipg070515.zip\n",
      "http://storage.googleapis.com/patents/grant_full_text/2007/ipg070522.zip\n",
      "http://storage.googleapis.com/patents/grant_full_text/2007/ipg070529.zip\n",
      "http://storage.googleapis.com/patents/grant_full_text/2007/ipg070605.zip\n",
      "http://storage.googleapis.com/patents/grant_full_text/2007/ipg070612.zip\n",
      "http://storage.googleapis.com/patents/grant_full_text/2007/ipg070619.zip\n",
      "http://storage.googleapis.com/patents/grant_full_text/2007/ipg070626.zip\n",
      "http://storage.googleapis.com/patents/grant_full_text/2007/ipg070703.zip\n",
      "http://storage.googleapis.com/patents/grant_full_text/2007/ipg070710.zip\n",
      "http://storage.googleapis.com/patents/grant_full_text/2007/ipg070717.zip\n",
      "http://storage.googleapis.com/patents/grant_full_text/2007/ipg070724.zip\n",
      "http://storage.googleapis.com/patents/grant_full_text/2007/ipg070731.zip\n",
      "http://storage.googleapis.com/patents/grant_full_text/2007/ipg070807.zip\n",
      "http://storage.googleapis.com/patents/grant_full_text/2007/ipg070814.zip\n",
      "http://storage.googleapis.com/patents/grant_full_text/2007/ipg070821.zip\n",
      "http://storage.googleapis.com/patents/grant_full_text/2007/ipg070828.zip\n",
      "http://storage.googleapis.com/patents/grant_full_text/2007/ipg070904.zip\n",
      "http://storage.googleapis.com/patents/grant_full_text/2007/ipg070911.zip\n",
      "http://storage.googleapis.com/patents/grant_full_text/2007/ipg070918.zip\n",
      "http://storage.googleapis.com/patents/grant_full_text/2007/ipg070925.zip\n",
      "http://storage.googleapis.com/patents/grant_full_text/2007/ipg071002.zip\n",
      "http://storage.googleapis.com/patents/grant_full_text/2007/ipg071009.zip\n",
      "http://storage.googleapis.com/patents/grant_full_text/2007/ipg071016.zip\n",
      "http://storage.googleapis.com/patents/grant_full_text/2007/ipg071023.zip\n",
      "http://storage.googleapis.com/patents/grant_full_text/2007/ipg071030.zip\n",
      "http://storage.googleapis.com/patents/grant_full_text/2007/ipg071106.zip\n",
      "http://storage.googleapis.com/patents/grant_full_text/2007/ipg071113.zip\n",
      "http://storage.googleapis.com/patents/grant_full_text/2007/ipg071120.zip\n",
      "http://storage.googleapis.com/patents/grant_full_text/2007/ipg071127.zip\n",
      "http://storage.googleapis.com/patents/grant_full_text/2007/ipg071204.zip\n",
      "http://storage.googleapis.com/patents/grant_full_text/2007/ipg071211.zip\n",
      "http://storage.googleapis.com/patents/grant_full_text/2007/ipg071218.zip\n",
      "http://storage.googleapis.com/patents/grant_full_text/2007/ipg071225.zip\n",
      "http://storage.googleapis.com/patents/grant_full_text/2006/ipg060103.zip\n",
      "http://storage.googleapis.com/patents/grant_full_text/2006/ipg060110.zip\n",
      "http://storage.googleapis.com/patents/grant_full_text/2006/ipg060117.zip\n",
      "http://storage.googleapis.com/patents/grant_full_text/2006/ipg060124.zip\n",
      "http://storage.googleapis.com/patents/grant_full_text/2006/ipg060131.zip\n",
      "http://storage.googleapis.com/patents/grant_full_text/2006/ipg060207.zip\n",
      "http://storage.googleapis.com/patents/grant_full_text/2006/ipg060214.zip\n",
      "http://storage.googleapis.com/patents/grant_full_text/2006/ipg060221.zip\n",
      "http://storage.googleapis.com/patents/grant_full_text/2006/ipg060228.zip\n",
      "http://storage.googleapis.com/patents/grant_full_text/2006/ipg060307.zip\n",
      "http://storage.googleapis.com/patents/grant_full_text/2006/ipg060314.zip\n",
      "http://storage.googleapis.com/patents/grant_full_text/2006/ipg060321.zip\n",
      "http://storage.googleapis.com/patents/grant_full_text/2006/ipg060328.zip\n",
      "http://storage.googleapis.com/patents/grant_full_text/2006/ipg060404.zip\n",
      "http://storage.googleapis.com/patents/grant_full_text/2006/ipg060411.zip\n",
      "http://storage.googleapis.com/patents/grant_full_text/2006/ipg060418.zip\n",
      "http://storage.googleapis.com/patents/grant_full_text/2006/ipg060425.zip\n",
      "http://storage.googleapis.com/patents/grant_full_text/2006/ipg060502.zip\n",
      "http://storage.googleapis.com/patents/grant_full_text/2006/ipg060509.zip\n",
      "http://storage.googleapis.com/patents/grant_full_text/2006/ipg060516.zip\n",
      "http://storage.googleapis.com/patents/grant_full_text/2006/ipg060523.zip\n",
      "http://storage.googleapis.com/patents/grant_full_text/2006/ipg060530.zip\n",
      "http://storage.googleapis.com/patents/grant_full_text/2006/ipg060606.zip\n",
      "http://storage.googleapis.com/patents/grant_full_text/2006/ipg060613.zip\n",
      "http://storage.googleapis.com/patents/grant_full_text/2006/ipg060620.zip\n",
      "http://storage.googleapis.com/patents/grant_full_text/2006/ipg060627.zip\n",
      "http://storage.googleapis.com/patents/grant_full_text/2006/ipg060704.zip\n",
      "http://storage.googleapis.com/patents/grant_full_text/2006/ipg060711.zip\n",
      "http://storage.googleapis.com/patents/grant_full_text/2006/ipg060718.zip\n",
      "http://storage.googleapis.com/patents/grant_full_text/2006/ipg060725.zip\n",
      "http://storage.googleapis.com/patents/grant_full_text/2006/ipg060801.zip\n",
      "http://storage.googleapis.com/patents/grant_full_text/2006/ipg060808.zip\n",
      "http://storage.googleapis.com/patents/grant_full_text/2006/ipg060815.zip\n",
      "http://storage.googleapis.com/patents/grant_full_text/2006/ipg060822.zip\n",
      "http://storage.googleapis.com/patents/grant_full_text/2006/ipg060829.zip\n",
      "http://storage.googleapis.com/patents/grant_full_text/2006/ipg060905.zip\n",
      "http://storage.googleapis.com/patents/grant_full_text/2006/ipg060912.zip\n",
      "http://storage.googleapis.com/patents/grant_full_text/2006/ipg060919.zip\n",
      "http://storage.googleapis.com/patents/grant_full_text/2006/ipg060926.zip\n",
      "http://storage.googleapis.com/patents/grant_full_text/2006/ipg061003.zip\n",
      "http://storage.googleapis.com/patents/grant_full_text/2006/ipg061010.zip\n",
      "http://storage.googleapis.com/patents/grant_full_text/2006/ipg061017.zip\n",
      "http://storage.googleapis.com/patents/grant_full_text/2006/ipg061024.zip\n",
      "http://storage.googleapis.com/patents/grant_full_text/2006/ipg061031.zip\n",
      "http://storage.googleapis.com/patents/grant_full_text/2006/ipg061107.zip\n",
      "http://storage.googleapis.com/patents/grant_full_text/2006/ipg061114.zip\n",
      "http://storage.googleapis.com/patents/grant_full_text/2006/ipg061121.zip\n",
      "http://storage.googleapis.com/patents/grant_full_text/2006/ipg061128.zip\n",
      "http://storage.googleapis.com/patents/grant_full_text/2006/ipg061205.zip\n",
      "http://storage.googleapis.com/patents/grant_full_text/2006/ipg061212.zip\n",
      "http://storage.googleapis.com/patents/grant_full_text/2006/ipg061219.zip\n",
      "http://storage.googleapis.com/patents/grant_full_text/2006/ipg061226.zip\n",
      "http://storage.googleapis.com/patents/grant_full_text/2005/ipg050104.zip\n",
      "http://storage.googleapis.com/patents/grant_full_text/2005/ipg050111.zip\n",
      "http://storage.googleapis.com/patents/grant_full_text/2005/ipg050118.zip\n",
      "http://storage.googleapis.com/patents/grant_full_text/2005/ipg050125.zip\n",
      "http://storage.googleapis.com/patents/grant_full_text/2005/ipg050201.zip\n",
      "http://storage.googleapis.com/patents/grant_full_text/2005/ipg050208.zip\n",
      "http://storage.googleapis.com/patents/grant_full_text/2005/ipg050215.zip\n",
      "http://storage.googleapis.com/patents/grant_full_text/2005/ipg050222.zip\n",
      "http://storage.googleapis.com/patents/grant_full_text/2005/ipg050301.zip\n",
      "http://storage.googleapis.com/patents/grant_full_text/2005/ipg050308.zip\n",
      "http://storage.googleapis.com/patents/grant_full_text/2005/ipg050315.zip\n",
      "http://storage.googleapis.com/patents/grant_full_text/2005/ipg050322.zip\n",
      "http://storage.googleapis.com/patents/grant_full_text/2005/ipg050329.zip\n",
      "http://storage.googleapis.com/patents/grant_full_text/2005/ipg050405.zip\n",
      "http://storage.googleapis.com/patents/grant_full_text/2005/ipg050412.zip\n",
      "http://storage.googleapis.com/patents/grant_full_text/2005/ipg050419.zip\n",
      "http://storage.googleapis.com/patents/grant_full_text/2005/ipg050426.zip\n",
      "http://storage.googleapis.com/patents/grant_full_text/2005/ipg050503.zip\n",
      "http://storage.googleapis.com/patents/grant_full_text/2005/ipg050510.zip\n",
      "http://storage.googleapis.com/patents/grant_full_text/2005/ipg050517.zip\n",
      "http://storage.googleapis.com/patents/grant_full_text/2005/ipg050524.zip\n",
      "http://storage.googleapis.com/patents/grant_full_text/2005/ipg050531.zip\n",
      "http://storage.googleapis.com/patents/grant_full_text/2005/ipg050607.zip\n",
      "http://storage.googleapis.com/patents/grant_full_text/2005/ipg050614.zip\n",
      "http://storage.googleapis.com/patents/grant_full_text/2005/ipg050621.zip\n",
      "http://storage.googleapis.com/patents/grant_full_text/2005/ipg050628.zip\n",
      "http://storage.googleapis.com/patents/grant_full_text/2005/ipg050705.zip\n",
      "http://storage.googleapis.com/patents/grant_full_text/2005/ipg050712.zip\n",
      "http://storage.googleapis.com/patents/grant_full_text/2005/ipg050719.zip\n",
      "http://storage.googleapis.com/patents/grant_full_text/2005/ipg050726.zip\n",
      "http://storage.googleapis.com/patents/grant_full_text/2005/ipg050802.zip\n",
      "http://storage.googleapis.com/patents/grant_full_text/2005/ipg050809.zip\n",
      "http://storage.googleapis.com/patents/grant_full_text/2005/ipg050816.zip\n",
      "http://storage.googleapis.com/patents/grant_full_text/2005/ipg050823.zip\n",
      "http://storage.googleapis.com/patents/grant_full_text/2005/ipg050830.zip\n",
      "http://storage.googleapis.com/patents/grant_full_text/2005/ipg050906.zip\n",
      "http://storage.googleapis.com/patents/grant_full_text/2005/ipg050913.zip\n",
      "http://storage.googleapis.com/patents/grant_full_text/2005/ipg050920.zip\n",
      "http://storage.googleapis.com/patents/grant_full_text/2005/ipg050927.zip\n",
      "http://storage.googleapis.com/patents/grant_full_text/2005/ipg051004.zip\n",
      "http://storage.googleapis.com/patents/grant_full_text/2005/ipg051011.zip\n",
      "http://storage.googleapis.com/patents/grant_full_text/2005/ipg051018.zip\n",
      "http://storage.googleapis.com/patents/grant_full_text/2005/ipg051025.zip\n",
      "http://storage.googleapis.com/patents/grant_full_text/2005/ipg051101.zip\n",
      "http://storage.googleapis.com/patents/grant_full_text/2005/ipg051108.zip\n",
      "http://storage.googleapis.com/patents/grant_full_text/2005/ipg051115.zip\n",
      "http://storage.googleapis.com/patents/grant_full_text/2005/ipg051122.zip\n",
      "http://storage.googleapis.com/patents/grant_full_text/2005/ipg051129.zip\n",
      "http://storage.googleapis.com/patents/grant_full_text/2005/ipg051206.zip\n",
      "http://storage.googleapis.com/patents/grant_full_text/2005/ipg051213.zip\n",
      "http://storage.googleapis.com/patents/grant_full_text/2005/ipg051220.zip\n",
      "http://storage.googleapis.com/patents/grant_full_text/2005/ipg051227.zip\n",
      "http://storage.googleapis.com/patents/grant_full_text/2004/pg040106.zip\n",
      "http://storage.googleapis.com/patents/grant_full_text/2004/pg040113.zip\n",
      "http://storage.googleapis.com/patents/grant_full_text/2004/pg040120.zip\n",
      "http://storage.googleapis.com/patents/grant_full_text/2004/pg040127.zip\n",
      "http://storage.googleapis.com/patents/grant_full_text/2004/pg040203.zip\n",
      "http://storage.googleapis.com/patents/grant_full_text/2004/pg040210.zip\n",
      "http://storage.googleapis.com/patents/grant_full_text/2004/pg040217.zip\n",
      "http://storage.googleapis.com/patents/grant_full_text/2004/pg040224.zip\n",
      "http://storage.googleapis.com/patents/grant_full_text/2004/pg040302.zip\n",
      "http://storage.googleapis.com/patents/grant_full_text/2004/pg040309.zip\n",
      "http://storage.googleapis.com/patents/grant_full_text/2004/pg040316.zip\n",
      "http://storage.googleapis.com/patents/grant_full_text/2004/pg040323.zip\n",
      "http://storage.googleapis.com/patents/grant_full_text/2004/pg040330.zip\n",
      "http://storage.googleapis.com/patents/grant_full_text/2004/pg040406.zip\n",
      "http://storage.googleapis.com/patents/grant_full_text/2004/pg040413.zip\n",
      "http://storage.googleapis.com/patents/grant_full_text/2004/pg040420.zip\n",
      "http://storage.googleapis.com/patents/grant_full_text/2004/pg040427.zip\n",
      "http://storage.googleapis.com/patents/grant_full_text/2004/pg040504.zip\n",
      "http://storage.googleapis.com/patents/grant_full_text/2004/pg040511.zip\n",
      "http://storage.googleapis.com/patents/grant_full_text/2004/pg040518.zip\n",
      "http://storage.googleapis.com/patents/grant_full_text/2004/pg040525.zip\n",
      "http://storage.googleapis.com/patents/grant_full_text/2004/pg040601.zip\n",
      "http://storage.googleapis.com/patents/grant_full_text/2004/pg040608.zip\n",
      "http://storage.googleapis.com/patents/grant_full_text/2004/pg040615.zip\n",
      "http://storage.googleapis.com/patents/grant_full_text/2004/pg040622.zip\n",
      "http://storage.googleapis.com/patents/grant_full_text/2004/pg040629.zip\n",
      "http://storage.googleapis.com/patents/grant_full_text/2004/pg040706.zip\n",
      "http://storage.googleapis.com/patents/grant_full_text/2004/pg040713.zip\n",
      "http://storage.googleapis.com/patents/grant_full_text/2004/pg040720.zip\n",
      "http://storage.googleapis.com/patents/grant_full_text/2004/pg040727.zip\n",
      "http://storage.googleapis.com/patents/grant_full_text/2004/pg040803.zip\n",
      "http://storage.googleapis.com/patents/grant_full_text/2004/pg040810.zip\n",
      "http://storage.googleapis.com/patents/grant_full_text/2004/pg040817.zip\n",
      "http://storage.googleapis.com/patents/grant_full_text/2004/pg040824.zip\n",
      "http://storage.googleapis.com/patents/grant_full_text/2004/pg040831.zip\n",
      "http://storage.googleapis.com/patents/grant_full_text/2004/pg040907.zip\n",
      "http://storage.googleapis.com/patents/grant_full_text/2004/pg040914.zip\n",
      "http://storage.googleapis.com/patents/grant_full_text/2004/pg040921.zip\n",
      "http://storage.googleapis.com/patents/grant_full_text/2004/pg040928.zip\n",
      "http://storage.googleapis.com/patents/grant_full_text/2004/pg041005.zip\n",
      "http://storage.googleapis.com/patents/grant_full_text/2004/pg041012.zip\n",
      "http://storage.googleapis.com/patents/grant_full_text/2004/pg041019.zip\n",
      "http://storage.googleapis.com/patents/grant_full_text/2004/pg041026.zip\n",
      "http://storage.googleapis.com/patents/grant_full_text/2004/pg041102.zip\n",
      "http://storage.googleapis.com/patents/grant_full_text/2004/pg041109.zip\n",
      "http://storage.googleapis.com/patents/grant_full_text/2004/pg041116.zip\n",
      "http://storage.googleapis.com/patents/grant_full_text/2004/pg041123.zip\n",
      "http://storage.googleapis.com/patents/grant_full_text/2004/pg041130.zip\n",
      "http://storage.googleapis.com/patents/grant_full_text/2004/pg041207.zip\n",
      "http://storage.googleapis.com/patents/grant_full_text/2004/pg041214.zip\n",
      "http://storage.googleapis.com/patents/grant_full_text/2004/pg041221.zip\n",
      "http://storage.googleapis.com/patents/grant_full_text/2004/pg041228.zip\n",
      "http://storage.googleapis.com/patents/grant_full_text/2003/pg030107.zip\n",
      "http://storage.googleapis.com/patents/grant_full_text/2003/pg030114.zip\n",
      "http://storage.googleapis.com/patents/grant_full_text/2003/pg030121.zip\n",
      "http://storage.googleapis.com/patents/grant_full_text/2003/pg030128.zip\n",
      "http://storage.googleapis.com/patents/grant_full_text/2003/pg030204.zip\n",
      "http://storage.googleapis.com/patents/grant_full_text/2003/pg030211.zip\n",
      "http://storage.googleapis.com/patents/grant_full_text/2003/pg030218.zip\n",
      "http://storage.googleapis.com/patents/grant_full_text/2003/pg030225.zip\n",
      "http://storage.googleapis.com/patents/grant_full_text/2003/pg030304.zip\n",
      "http://storage.googleapis.com/patents/grant_full_text/2003/pg030311.zip\n",
      "http://storage.googleapis.com/patents/grant_full_text/2003/pg030318.zip\n",
      "http://storage.googleapis.com/patents/grant_full_text/2003/pg030325.zip\n",
      "http://storage.googleapis.com/patents/grant_full_text/2003/pg030401.zip\n",
      "http://storage.googleapis.com/patents/grant_full_text/2003/pg030408.zip\n",
      "http://storage.googleapis.com/patents/grant_full_text/2003/pg030415.zip\n",
      "http://storage.googleapis.com/patents/grant_full_text/2003/pg030422.zip\n",
      "http://storage.googleapis.com/patents/grant_full_text/2003/pg030429.zip\n",
      "http://storage.googleapis.com/patents/grant_full_text/2003/pg030506.zip\n",
      "http://storage.googleapis.com/patents/grant_full_text/2003/pg030513.zip\n",
      "http://storage.googleapis.com/patents/grant_full_text/2003/pg030520.zip\n",
      "http://storage.googleapis.com/patents/grant_full_text/2003/pg030527.zip\n",
      "http://storage.googleapis.com/patents/grant_full_text/2003/pg030603.zip\n",
      "http://storage.googleapis.com/patents/grant_full_text/2003/pg030610.zip\n",
      "http://storage.googleapis.com/patents/grant_full_text/2003/pg030617.zip\n",
      "http://storage.googleapis.com/patents/grant_full_text/2003/pg030624.zip\n",
      "http://storage.googleapis.com/patents/grant_full_text/2003/pg030701.zip\n",
      "http://storage.googleapis.com/patents/grant_full_text/2003/pg030708.zip\n",
      "http://storage.googleapis.com/patents/grant_full_text/2003/pg030715.zip\n",
      "http://storage.googleapis.com/patents/grant_full_text/2003/pg030722.zip\n",
      "http://storage.googleapis.com/patents/grant_full_text/2003/pg030729.zip\n",
      "http://storage.googleapis.com/patents/grant_full_text/2003/pg030805.zip\n",
      "http://storage.googleapis.com/patents/grant_full_text/2003/pg030812.zip\n",
      "http://storage.googleapis.com/patents/grant_full_text/2003/pg030819.zip\n",
      "http://storage.googleapis.com/patents/grant_full_text/2003/pg030826.zip\n",
      "http://storage.googleapis.com/patents/grant_full_text/2003/pg030902.zip\n",
      "http://storage.googleapis.com/patents/grant_full_text/2003/pg030909.zip\n",
      "http://storage.googleapis.com/patents/grant_full_text/2003/pg030916.zip\n",
      "http://storage.googleapis.com/patents/grant_full_text/2003/pg030923.zip\n",
      "http://storage.googleapis.com/patents/grant_full_text/2003/pg030930.zip\n",
      "http://storage.googleapis.com/patents/grant_full_text/2003/pg031007.zip\n",
      "http://storage.googleapis.com/patents/grant_full_text/2003/pg031014.zip\n",
      "http://storage.googleapis.com/patents/grant_full_text/2003/pg031021.zip\n",
      "http://storage.googleapis.com/patents/grant_full_text/2003/pg031028.zip\n",
      "http://storage.googleapis.com/patents/grant_full_text/2003/pg031104.zip\n",
      "http://storage.googleapis.com/patents/grant_full_text/2003/pg031111.zip\n",
      "http://storage.googleapis.com/patents/grant_full_text/2003/pg031118.zip\n",
      "http://storage.googleapis.com/patents/grant_full_text/2003/pg031125.zip\n",
      "http://storage.googleapis.com/patents/grant_full_text/2003/pg031202.zip\n",
      "http://storage.googleapis.com/patents/grant_full_text/2003/pg031209.zip\n",
      "http://storage.googleapis.com/patents/grant_full_text/2003/pg031216.zip\n",
      "http://storage.googleapis.com/patents/grant_full_text/2003/pg031223.zip\n",
      "http://storage.googleapis.com/patents/grant_full_text/2003/pg031230.zip\n",
      "http://storage.googleapis.com/patents/grant_full_text/2002/pg020101.zip\n",
      "http://storage.googleapis.com/patents/grant_full_text/2002/pg020108.zip\n",
      "http://storage.googleapis.com/patents/grant_full_text/2002/pg020115.zip\n",
      "http://storage.googleapis.com/patents/grant_full_text/2002/pg020122.zip\n",
      "http://storage.googleapis.com/patents/grant_full_text/2002/pg020129.zip\n",
      "http://storage.googleapis.com/patents/grant_full_text/2002/pg020205.zip\n",
      "http://storage.googleapis.com/patents/grant_full_text/2002/pg020212.zip\n",
      "http://storage.googleapis.com/patents/grant_full_text/2002/pg020219.zip\n",
      "http://storage.googleapis.com/patents/grant_full_text/2002/pg020226.zip\n",
      "http://storage.googleapis.com/patents/grant_full_text/2002/pg020305.zip\n",
      "http://storage.googleapis.com/patents/grant_full_text/2002/pg020312.zip\n",
      "http://storage.googleapis.com/patents/grant_full_text/2002/pg020319.zip\n",
      "http://storage.googleapis.com/patents/grant_full_text/2002/pg020326.zip\n",
      "http://storage.googleapis.com/patents/grant_full_text/2002/pg020402.zip\n",
      "http://storage.googleapis.com/patents/grant_full_text/2002/pg020409.zip\n",
      "http://storage.googleapis.com/patents/grant_full_text/2002/pg020416.zip\n",
      "http://storage.googleapis.com/patents/grant_full_text/2002/pg020423.zip\n",
      "http://storage.googleapis.com/patents/grant_full_text/2002/pg020430.zip\n",
      "http://storage.googleapis.com/patents/grant_full_text/2002/pg020507.zip\n",
      "http://storage.googleapis.com/patents/grant_full_text/2002/pg020514.zip\n",
      "http://storage.googleapis.com/patents/grant_full_text/2002/pg020521.zip\n",
      "http://storage.googleapis.com/patents/grant_full_text/2002/pg020528.zip\n",
      "http://storage.googleapis.com/patents/grant_full_text/2002/pg020604.zip\n",
      "http://storage.googleapis.com/patents/grant_full_text/2002/pg020611.zip\n",
      "http://storage.googleapis.com/patents/grant_full_text/2002/pg020618.zip\n",
      "http://storage.googleapis.com/patents/grant_full_text/2002/pg020625.zip\n",
      "http://storage.googleapis.com/patents/grant_full_text/2002/pg020702.zip\n",
      "http://storage.googleapis.com/patents/grant_full_text/2002/pg020709.zip\n",
      "http://storage.googleapis.com/patents/grant_full_text/2002/pg020716.zip\n",
      "http://storage.googleapis.com/patents/grant_full_text/2002/pg020723.zip\n",
      "http://storage.googleapis.com/patents/grant_full_text/2002/pg020730.zip\n",
      "http://storage.googleapis.com/patents/grant_full_text/2002/pg020806.zip\n",
      "http://storage.googleapis.com/patents/grant_full_text/2002/pg020813.zip\n",
      "http://storage.googleapis.com/patents/grant_full_text/2002/pg020820.zip\n",
      "http://storage.googleapis.com/patents/grant_full_text/2002/pg020827.zip\n",
      "http://storage.googleapis.com/patents/grant_full_text/2002/pg020903.zip\n",
      "http://storage.googleapis.com/patents/grant_full_text/2002/pg020910.zip\n",
      "http://storage.googleapis.com/patents/grant_full_text/2002/pg020917.zip\n",
      "http://storage.googleapis.com/patents/grant_full_text/2002/pg020924.zip\n",
      "http://storage.googleapis.com/patents/grant_full_text/2002/pg021001.zip\n",
      "http://storage.googleapis.com/patents/grant_full_text/2002/pg021008.zip\n",
      "http://storage.googleapis.com/patents/grant_full_text/2002/pg021015.zip\n",
      "http://storage.googleapis.com/patents/grant_full_text/2002/pg021022.zip\n",
      "http://storage.googleapis.com/patents/grant_full_text/2002/pg021029.zip\n",
      "http://storage.googleapis.com/patents/grant_full_text/2002/pg021105.zip\n",
      "http://storage.googleapis.com/patents/grant_full_text/2002/pg021112.zip\n",
      "http://storage.googleapis.com/patents/grant_full_text/2002/pg021119.zip\n",
      "http://storage.googleapis.com/patents/grant_full_text/2002/pg021126.zip\n",
      "http://storage.googleapis.com/patents/grant_full_text/2002/pg021203.zip\n",
      "http://storage.googleapis.com/patents/grant_full_text/2002/pg021210.zip\n",
      "http://storage.googleapis.com/patents/grant_full_text/2002/pg021217.zip\n",
      "http://storage.googleapis.com/patents/grant_full_text/2002/pg021224.zip\n",
      "http://storage.googleapis.com/patents/grant_full_text/2002/pg021231.zip\n",
      "http://storage.googleapis.com/patents/grant_full_text/2001/pftaps20010102_wk01.zip\n",
      "http://storage.googleapis.com/patents/grant_full_text/2001/pftaps20010109_wk02.zip\n",
      "http://storage.googleapis.com/patents/grant_full_text/2001/pftaps20010116_wk03.zip\n",
      "http://storage.googleapis.com/patents/grant_full_text/2001/pftaps20010123_wk04.zip\n",
      "http://storage.googleapis.com/patents/grant_full_text/2001/pftaps20010130_wk05.zip\n",
      "http://storage.googleapis.com/patents/grant_full_text/2001/pftaps20010206_wk06.zip\n",
      "http://storage.googleapis.com/patents/grant_full_text/2001/pftaps20010213_wk07.zip\n",
      "http://storage.googleapis.com/patents/grant_full_text/2001/pftaps20010220_wk08.zip\n",
      "http://storage.googleapis.com/patents/grant_full_text/2001/pftaps20010227_wk09.zip\n",
      "http://storage.googleapis.com/patents/grant_full_text/2001/pftaps20010306_wk10.zip\n",
      "http://storage.googleapis.com/patents/grant_full_text/2001/pftaps20010313_wk11.zip\n",
      "http://storage.googleapis.com/patents/grant_full_text/2001/pftaps20010320_wk12.zip\n",
      "http://storage.googleapis.com/patents/grant_full_text/2001/pftaps20010327_wk13.zip\n",
      "http://storage.googleapis.com/patents/grant_full_text/2001/pftaps20010403_wk14.zip\n",
      "http://storage.googleapis.com/patents/grant_full_text/2001/pftaps20010410_wk15.zip\n",
      "http://storage.googleapis.com/patents/grant_full_text/2001/pftaps20010417_wk16.zip\n",
      "http://storage.googleapis.com/patents/grant_full_text/2001/pftaps20010424_wk17.zip\n",
      "http://storage.googleapis.com/patents/grant_full_text/2001/pftaps20010501_wk18.zip\n",
      "http://storage.googleapis.com/patents/grant_full_text/2001/pftaps20010508_wk19.zip\n",
      "http://storage.googleapis.com/patents/grant_full_text/2001/pftaps20010515_wk20.zip\n",
      "http://storage.googleapis.com/patents/grant_full_text/2001/pftaps20010522_wk21.zip\n",
      "http://storage.googleapis.com/patents/grant_full_text/2001/pftaps20010529_wk22.zip\n",
      "http://storage.googleapis.com/patents/grant_full_text/2001/pftaps20010605_wk23.zip\n",
      "http://storage.googleapis.com/patents/grant_full_text/2001/pftaps20010612_wk24.zip\n",
      "http://storage.googleapis.com/patents/grant_full_text/2001/pftaps20010619_wk25.zip\n",
      "http://storage.googleapis.com/patents/grant_full_text/2001/pftaps20010626_wk26.zip\n",
      "http://storage.googleapis.com/patents/grant_full_text/2001/pftaps20010703_wk27.zip\n",
      "http://storage.googleapis.com/patents/grant_full_text/2001/pftaps20010710_wk28.zip\n",
      "http://storage.googleapis.com/patents/grant_full_text/2001/pftaps20010717_wk29.zip\n",
      "http://storage.googleapis.com/patents/grant_full_text/2001/pftaps20010724_wk30.zip\n",
      "http://storage.googleapis.com/patents/grant_full_text/2001/pftaps20010731_wk31.zip\n",
      "http://storage.googleapis.com/patents/grant_full_text/2001/pftaps20010807_wk32.zip\n",
      "http://storage.googleapis.com/patents/grant_full_text/2001/pftaps20010814_wk33.zip\n",
      "http://storage.googleapis.com/patents/grant_full_text/2001/pftaps20010821_wk34.zip\n",
      "http://storage.googleapis.com/patents/grant_full_text/2001/pftaps20010828_wk35.zip\n",
      "http://storage.googleapis.com/patents/grant_full_text/2001/pftaps20010904_wk36.zip\n",
      "http://storage.googleapis.com/patents/grant_full_text/2001/pftaps20010911_wk37.zip\n",
      "http://storage.googleapis.com/patents/grant_full_text/2001/pftaps20010918_wk38.zip\n",
      "http://storage.googleapis.com/patents/grant_full_text/2001/pftaps20010925_wk39.zip\n",
      "http://storage.googleapis.com/patents/grant_full_text/2001/pftaps20011002_wk40.zip\n",
      "http://storage.googleapis.com/patents/grant_full_text/2001/pftaps20011009_wk41.zip\n",
      "http://storage.googleapis.com/patents/grant_full_text/2001/pftaps20011016_wk42.zip\n",
      "http://storage.googleapis.com/patents/grant_full_text/2001/pftaps20011023_wk43.zip\n",
      "http://storage.googleapis.com/patents/grant_full_text/2001/pftaps20011030_wk44.zip\n",
      "http://storage.googleapis.com/patents/grant_full_text/2001/pftaps20011106_wk45.zip\n",
      "http://storage.googleapis.com/patents/grant_full_text/2001/pftaps20011113_wk46.zip\n",
      "http://storage.googleapis.com/patents/grant_full_text/2001/pftaps20011120_wk47.zip\n",
      "http://storage.googleapis.com/patents/grant_full_text/2001/pftaps20011127_wk48.zip\n",
      "http://storage.googleapis.com/patents/grant_full_text/2001/pftaps20011204_wk49.zip\n",
      "http://storage.googleapis.com/patents/grant_full_text/2001/pftaps20011211_wk50.zip\n",
      "http://storage.googleapis.com/patents/grant_full_text/2001/pftaps20011218_wk51.zip\n",
      "http://storage.googleapis.com/patents/grant_full_text/2001/pftaps20011225_wk52.zip\n",
      "http://storage.googleapis.com/patents/grant_full_text/2001/pg010102.zip\n",
      "http://storage.googleapis.com/patents/grant_full_text/2001/pg010109.zip\n",
      "http://storage.googleapis.com/patents/grant_full_text/2001/pg010116.zip\n",
      "http://storage.googleapis.com/patents/grant_full_text/2001/pg010123.zip\n",
      "http://storage.googleapis.com/patents/grant_full_text/2001/pg010130.zip\n",
      "http://storage.googleapis.com/patents/grant_full_text/2001/pg010206.zip\n",
      "http://storage.googleapis.com/patents/grant_full_text/2001/pg010213.zip\n",
      "http://storage.googleapis.com/patents/grant_full_text/2001/pg010220.zip\n",
      "http://storage.googleapis.com/patents/grant_full_text/2001/pg010227.zip\n",
      "http://storage.googleapis.com/patents/grant_full_text/2001/pg010306.zip\n",
      "http://storage.googleapis.com/patents/grant_full_text/2001/pg010313.zip\n",
      "http://storage.googleapis.com/patents/grant_full_text/2001/pg010320.zip\n",
      "http://storage.googleapis.com/patents/grant_full_text/2001/pg010327.zip\n",
      "http://storage.googleapis.com/patents/grant_full_text/2001/pg010403.zip\n",
      "http://storage.googleapis.com/patents/grant_full_text/2001/pg010410.zip\n",
      "http://storage.googleapis.com/patents/grant_full_text/2001/pg010417.zip\n",
      "http://storage.googleapis.com/patents/grant_full_text/2001/pg010424.zip\n",
      "http://storage.googleapis.com/patents/grant_full_text/2001/pg010501.zip\n",
      "http://storage.googleapis.com/patents/grant_full_text/2001/pg010508.zip\n",
      "http://storage.googleapis.com/patents/grant_full_text/2001/pg010515.zip\n",
      "http://storage.googleapis.com/patents/grant_full_text/2001/pg010522.zip\n",
      "http://storage.googleapis.com/patents/grant_full_text/2001/pg010529.zip\n",
      "http://storage.googleapis.com/patents/grant_full_text/2001/pg010605.zip\n",
      "http://storage.googleapis.com/patents/grant_full_text/2001/pg010612.zip\n",
      "http://storage.googleapis.com/patents/grant_full_text/2001/pg010619.zip\n",
      "http://storage.googleapis.com/patents/grant_full_text/2001/pg010626.zip\n",
      "http://storage.googleapis.com/patents/grant_full_text/2001/pg010703.zip\n",
      "http://storage.googleapis.com/patents/grant_full_text/2001/pg010710.zip\n",
      "http://storage.googleapis.com/patents/grant_full_text/2001/pg010717.zip\n",
      "http://storage.googleapis.com/patents/grant_full_text/2001/pg010724.zip\n",
      "http://storage.googleapis.com/patents/grant_full_text/2001/pg010731.zip\n",
      "http://storage.googleapis.com/patents/grant_full_text/2001/pg010807.zip\n",
      "http://storage.googleapis.com/patents/grant_full_text/2001/pg010814.zip\n",
      "http://storage.googleapis.com/patents/grant_full_text/2001/pg010821.zip\n",
      "http://storage.googleapis.com/patents/grant_full_text/2001/pg010828.zip\n",
      "http://storage.googleapis.com/patents/grant_full_text/2001/pg010904.zip\n",
      "http://storage.googleapis.com/patents/grant_full_text/2001/pg010911.zip\n",
      "http://storage.googleapis.com/patents/grant_full_text/2001/pg010918.zip\n",
      "http://storage.googleapis.com/patents/grant_full_text/2001/pg010925.zip\n",
      "http://storage.googleapis.com/patents/grant_full_text/2001/pg011002.zip\n",
      "http://storage.googleapis.com/patents/grant_full_text/2001/pg011009.zip\n",
      "http://storage.googleapis.com/patents/grant_full_text/2001/pg011016.zip\n",
      "http://storage.googleapis.com/patents/grant_full_text/2001/pg011023.zip\n",
      "http://storage.googleapis.com/patents/grant_full_text/2001/pg011030.zip\n",
      "http://storage.googleapis.com/patents/grant_full_text/2001/pg011106.zip\n",
      "http://storage.googleapis.com/patents/grant_full_text/2001/pg011113.zip\n",
      "http://storage.googleapis.com/patents/grant_full_text/2001/pg011120.zip\n",
      "http://storage.googleapis.com/patents/grant_full_text/2001/pg011127.zip\n",
      "http://storage.googleapis.com/patents/grant_full_text/2001/pg011204.zip\n",
      "http://storage.googleapis.com/patents/grant_full_text/2001/pg011211.zip\n",
      "http://storage.googleapis.com/patents/grant_full_text/2001/pg011218.zip\n",
      "http://storage.googleapis.com/patents/grant_full_text/2001/pg011225.zip\n",
      "http://storage.googleapis.com/patents/grant_full_text/2000/pftaps20000104_wk01.zip\n",
      "http://storage.googleapis.com/patents/grant_full_text/2000/pftaps20000111_wk02.zip\n",
      "http://storage.googleapis.com/patents/grant_full_text/2000/pftaps20000118_wk03.zip\n",
      "http://storage.googleapis.com/patents/grant_full_text/2000/pftaps20000125_wk04.zip\n",
      "http://storage.googleapis.com/patents/grant_full_text/2000/pftaps20000201_wk05.zip\n",
      "http://storage.googleapis.com/patents/grant_full_text/2000/pftaps20000208_wk06.zip\n",
      "http://storage.googleapis.com/patents/grant_full_text/2000/pftaps20000215_wk07.zip\n",
      "http://storage.googleapis.com/patents/grant_full_text/2000/pftaps20000222_wk08.zip\n",
      "http://storage.googleapis.com/patents/grant_full_text/2000/pftaps20000229_wk09.zip\n",
      "http://storage.googleapis.com/patents/grant_full_text/2000/pftaps20000307_wk10.zip\n",
      "http://storage.googleapis.com/patents/grant_full_text/2000/pftaps20000314_wk11.zip\n",
      "http://storage.googleapis.com/patents/grant_full_text/2000/pftaps20000321_wk12.zip\n",
      "http://storage.googleapis.com/patents/grant_full_text/2000/pftaps20000328_wk13.zip\n",
      "http://storage.googleapis.com/patents/grant_full_text/2000/pftaps20000404_wk14.zip\n",
      "http://storage.googleapis.com/patents/grant_full_text/2000/pftaps20000411_wk15.zip\n",
      "http://storage.googleapis.com/patents/grant_full_text/2000/pftaps20000418_wk16.zip\n",
      "http://storage.googleapis.com/patents/grant_full_text/2000/pftaps20000425_wk17.zip\n",
      "http://storage.googleapis.com/patents/grant_full_text/2000/pftaps20000502_wk18.zip\n",
      "http://storage.googleapis.com/patents/grant_full_text/2000/pftaps20000509_wk19.zip\n",
      "http://storage.googleapis.com/patents/grant_full_text/2000/pftaps20000516_wk20.zip\n",
      "http://storage.googleapis.com/patents/grant_full_text/2000/pftaps20000523_wk21.zip\n",
      "http://storage.googleapis.com/patents/grant_full_text/2000/pftaps20000530_wk22.zip\n",
      "http://storage.googleapis.com/patents/grant_full_text/2000/pftaps20000606_wk23.zip\n",
      "http://storage.googleapis.com/patents/grant_full_text/2000/pftaps20000613_wk24.zip\n",
      "http://storage.googleapis.com/patents/grant_full_text/2000/pftaps20000620_wk25.zip\n",
      "http://storage.googleapis.com/patents/grant_full_text/2000/pftaps20000627_wk26.zip\n",
      "http://storage.googleapis.com/patents/grant_full_text/2000/pftaps20000704_wk27.zip\n",
      "http://storage.googleapis.com/patents/grant_full_text/2000/pftaps20000711_wk28.zip\n",
      "http://storage.googleapis.com/patents/grant_full_text/2000/pftaps20000718_wk29.zip\n",
      "http://storage.googleapis.com/patents/grant_full_text/2000/pftaps20000725_wk30.zip\n",
      "http://storage.googleapis.com/patents/grant_full_text/2000/pftaps20000801_wk31.zip\n",
      "http://storage.googleapis.com/patents/grant_full_text/2000/pftaps20000808_wk32.zip\n",
      "http://storage.googleapis.com/patents/grant_full_text/2000/pftaps20000815_wk33.zip\n",
      "http://storage.googleapis.com/patents/grant_full_text/2000/pftaps20000822_wk34.zip\n",
      "http://storage.googleapis.com/patents/grant_full_text/2000/pftaps20000829_wk35.zip\n",
      "http://storage.googleapis.com/patents/grant_full_text/2000/pftaps20000905_wk36.zip\n",
      "http://storage.googleapis.com/patents/grant_full_text/2000/pftaps20000912_wk37.zip\n",
      "http://storage.googleapis.com/patents/grant_full_text/2000/pftaps20000919_wk38.zip\n",
      "http://storage.googleapis.com/patents/grant_full_text/2000/pftaps20000926_wk39.zip\n",
      "http://storage.googleapis.com/patents/grant_full_text/2000/pftaps20001003_wk40.zip\n",
      "http://storage.googleapis.com/patents/grant_full_text/2000/pftaps20001010_wk41.zip\n",
      "http://storage.googleapis.com/patents/grant_full_text/2000/pftaps20001017_wk42.zip\n",
      "http://storage.googleapis.com/patents/grant_full_text/2000/pftaps20001024_wk43.zip\n",
      "http://storage.googleapis.com/patents/grant_full_text/2000/pftaps20001031_wk44.zip\n",
      "http://storage.googleapis.com/patents/grant_full_text/2000/pftaps20001107_wk45.zip\n",
      "http://storage.googleapis.com/patents/grant_full_text/2000/pftaps20001114_wk46.zip\n",
      "http://storage.googleapis.com/patents/grant_full_text/2000/pftaps20001121_wk47.zip\n",
      "http://storage.googleapis.com/patents/grant_full_text/2000/pftaps20001128_wk48.zip\n",
      "http://storage.googleapis.com/patents/grant_full_text/2000/pftaps20001205_wk49.zip\n",
      "http://storage.googleapis.com/patents/grant_full_text/2000/pftaps20001212_wk50.zip\n",
      "http://storage.googleapis.com/patents/grant_full_text/2000/pftaps20001219_wk51.zip\n",
      "http://storage.googleapis.com/patents/grant_full_text/2000/pftaps20001226_wk52.zip\n",
      "http://storage.googleapis.com/patents/grant_full_text/1999/pftaps19990105_wk01.zip\n",
      "http://storage.googleapis.com/patents/grant_full_text/1999/pftaps19990112_wk02.zip\n",
      "http://storage.googleapis.com/patents/grant_full_text/1999/pftaps19990119_wk03.zip\n",
      "http://storage.googleapis.com/patents/grant_full_text/1999/pftaps19990126_wk04.zip\n",
      "http://storage.googleapis.com/patents/grant_full_text/1999/pftaps19990202_wk05.zip\n",
      "http://storage.googleapis.com/patents/grant_full_text/1999/pftaps19990209_wk06.zip\n",
      "http://storage.googleapis.com/patents/grant_full_text/1999/pftaps19990216_wk07.zip\n",
      "http://storage.googleapis.com/patents/grant_full_text/1999/pftaps19990223_wk08.zip\n",
      "http://storage.googleapis.com/patents/grant_full_text/1999/pftaps19990302_wk09.zip\n",
      "http://storage.googleapis.com/patents/grant_full_text/1999/pftaps19990309_wk10.zip\n",
      "http://storage.googleapis.com/patents/grant_full_text/1999/pftaps19990316_wk11.zip\n",
      "http://storage.googleapis.com/patents/grant_full_text/1999/pftaps19990323_wk12.zip\n",
      "http://storage.googleapis.com/patents/grant_full_text/1999/pftaps19990330_wk13.zip\n",
      "http://storage.googleapis.com/patents/grant_full_text/1999/pftaps19990406_wk14.zip\n",
      "http://storage.googleapis.com/patents/grant_full_text/1999/pftaps19990413_wk15.zip\n",
      "http://storage.googleapis.com/patents/grant_full_text/1999/pftaps19990420_wk16.zip\n",
      "http://storage.googleapis.com/patents/grant_full_text/1999/pftaps19990427_wk17.zip\n",
      "http://storage.googleapis.com/patents/grant_full_text/1999/pftaps19990504_wk18.zip\n",
      "http://storage.googleapis.com/patents/grant_full_text/1999/pftaps19990511_wk19.zip\n",
      "http://storage.googleapis.com/patents/grant_full_text/1999/pftaps19990518_wk20.zip\n",
      "http://storage.googleapis.com/patents/grant_full_text/1999/pftaps19990525_wk21.zip\n",
      "http://storage.googleapis.com/patents/grant_full_text/1999/pftaps19990601_wk22.zip\n",
      "http://storage.googleapis.com/patents/grant_full_text/1999/pftaps19990608_wk23.zip\n",
      "http://storage.googleapis.com/patents/grant_full_text/1999/pftaps19990615_wk24.zip\n",
      "http://storage.googleapis.com/patents/grant_full_text/1999/pftaps19990622_wk25.zip\n",
      "http://storage.googleapis.com/patents/grant_full_text/1999/pftaps19990629_wk26.zip\n",
      "http://storage.googleapis.com/patents/grant_full_text/1999/pftaps19990706_wk27.zip\n",
      "http://storage.googleapis.com/patents/grant_full_text/1999/pftaps19990713_wk28.zip\n",
      "http://storage.googleapis.com/patents/grant_full_text/1999/pftaps19990720_wk29.zip\n",
      "http://storage.googleapis.com/patents/grant_full_text/1999/pftaps19990727_wk30.zip\n",
      "http://storage.googleapis.com/patents/grant_full_text/1999/pftaps19990803_wk31.zip\n",
      "http://storage.googleapis.com/patents/grant_full_text/1999/pftaps19990810_wk32.zip\n",
      "http://storage.googleapis.com/patents/grant_full_text/1999/pftaps19990817_wk33.zip\n",
      "http://storage.googleapis.com/patents/grant_full_text/1999/pftaps19990824_wk34.zip\n",
      "http://storage.googleapis.com/patents/grant_full_text/1999/pftaps19990831_wk35.zip\n",
      "http://storage.googleapis.com/patents/grant_full_text/1999/pftaps19990907_wk36.zip\n",
      "http://storage.googleapis.com/patents/grant_full_text/1999/pftaps19990914_wk37.zip\n",
      "http://storage.googleapis.com/patents/grant_full_text/1999/pftaps19990921_wk38.zip\n",
      "http://storage.googleapis.com/patents/grant_full_text/1999/pftaps19990928_wk39.zip\n",
      "http://storage.googleapis.com/patents/grant_full_text/1999/pftaps19991005_wk40.zip\n",
      "http://storage.googleapis.com/patents/grant_full_text/1999/pftaps19991012_wk41.zip\n",
      "http://storage.googleapis.com/patents/grant_full_text/1999/pftaps19991019_wk42.zip\n",
      "http://storage.googleapis.com/patents/grant_full_text/1999/pftaps19991026_wk43.zip\n",
      "http://storage.googleapis.com/patents/grant_full_text/1999/pftaps19991102_wk44.zip\n",
      "http://storage.googleapis.com/patents/grant_full_text/1999/pftaps19991109_wk45.zip\n",
      "http://storage.googleapis.com/patents/grant_full_text/1999/pftaps19991116_wk46.zip\n",
      "http://storage.googleapis.com/patents/grant_full_text/1999/pftaps19991123_wk47.zip\n",
      "http://storage.googleapis.com/patents/grant_full_text/1999/pftaps19991130_wk48.zip\n",
      "http://storage.googleapis.com/patents/grant_full_text/1999/pftaps19991207_wk49.zip\n",
      "http://storage.googleapis.com/patents/grant_full_text/1999/pftaps19991214_wk50.zip\n",
      "http://storage.googleapis.com/patents/grant_full_text/1999/pftaps19991221_wk51.zip\n",
      "http://storage.googleapis.com/patents/grant_full_text/1999/pftaps19991228_wk52.zip\n",
      "http://storage.googleapis.com/patents/grant_full_text/1998/pftaps19980106_wk01.zip\n",
      "http://storage.googleapis.com/patents/grant_full_text/1998/pftaps19980113_wk02.zip\n",
      "http://storage.googleapis.com/patents/grant_full_text/1998/pftaps19980120_wk03.zip\n",
      "http://storage.googleapis.com/patents/grant_full_text/1998/pftaps19980127_wk04.zip\n",
      "http://storage.googleapis.com/patents/grant_full_text/1998/pftaps19980203_wk05.zip\n",
      "http://storage.googleapis.com/patents/grant_full_text/1998/pftaps19980210_wk06.zip\n",
      "http://storage.googleapis.com/patents/grant_full_text/1998/pftaps19980217_wk07.zip\n",
      "http://storage.googleapis.com/patents/grant_full_text/1998/pftaps19980224_wk08.zip\n",
      "http://storage.googleapis.com/patents/grant_full_text/1998/pftaps19980303_wk09.zip\n",
      "http://storage.googleapis.com/patents/grant_full_text/1998/pftaps19980310_wk10.zip\n",
      "http://storage.googleapis.com/patents/grant_full_text/1998/pftaps19980317_wk11.zip\n",
      "http://storage.googleapis.com/patents/grant_full_text/1998/pftaps19980324_wk12.zip\n",
      "http://storage.googleapis.com/patents/grant_full_text/1998/pftaps19980331_wk13.zip\n",
      "http://storage.googleapis.com/patents/grant_full_text/1998/pftaps19980407_wk14.zip\n",
      "http://storage.googleapis.com/patents/grant_full_text/1998/pftaps19980414_wk15.zip\n",
      "http://storage.googleapis.com/patents/grant_full_text/1998/pftaps19980421_wk16.zip\n",
      "http://storage.googleapis.com/patents/grant_full_text/1998/pftaps19980428_wk17.zip\n",
      "http://storage.googleapis.com/patents/grant_full_text/1998/pftaps19980505_wk18.zip\n",
      "http://storage.googleapis.com/patents/grant_full_text/1998/pftaps19980512_wk19.zip\n",
      "http://storage.googleapis.com/patents/grant_full_text/1998/pftaps19980519_wk20.zip\n",
      "http://storage.googleapis.com/patents/grant_full_text/1998/pftaps19980526_wk21.zip\n",
      "http://storage.googleapis.com/patents/grant_full_text/1998/pftaps19980602_wk22.zip\n",
      "http://storage.googleapis.com/patents/grant_full_text/1998/pftaps19980609_wk23.zip\n",
      "http://storage.googleapis.com/patents/grant_full_text/1998/pftaps19980616_wk24.zip\n",
      "http://storage.googleapis.com/patents/grant_full_text/1998/pftaps19980623_wk25.zip\n",
      "http://storage.googleapis.com/patents/grant_full_text/1998/pftaps19980630_wk26.zip\n",
      "http://storage.googleapis.com/patents/grant_full_text/1998/pftaps19980707_wk27.zip\n",
      "http://storage.googleapis.com/patents/grant_full_text/1998/pftaps19980714_wk28.zip\n",
      "http://storage.googleapis.com/patents/grant_full_text/1998/pftaps19980721_wk29.zip\n",
      "http://storage.googleapis.com/patents/grant_full_text/1998/pftaps19980728_wk30.zip\n",
      "http://storage.googleapis.com/patents/grant_full_text/1998/pftaps19980804_wk31.zip\n",
      "http://storage.googleapis.com/patents/grant_full_text/1998/pftaps19980811_wk32.zip\n",
      "http://storage.googleapis.com/patents/grant_full_text/1998/pftaps19980818_wk33.zip\n",
      "http://storage.googleapis.com/patents/grant_full_text/1998/pftaps19980825_wk34.zip\n",
      "http://storage.googleapis.com/patents/grant_full_text/1998/pftaps19980901_wk35.zip\n",
      "http://storage.googleapis.com/patents/grant_full_text/1998/pftaps19980908_wk36.zip\n",
      "http://storage.googleapis.com/patents/grant_full_text/1998/pftaps19980915_wk37.zip\n",
      "http://storage.googleapis.com/patents/grant_full_text/1998/pftaps19980922_wk38.zip\n",
      "http://storage.googleapis.com/patents/grant_full_text/1998/pftaps19980929_wk39.zip\n",
      "http://storage.googleapis.com/patents/grant_full_text/1998/pftaps19981006_wk40.zip\n",
      "http://storage.googleapis.com/patents/grant_full_text/1998/pftaps19981013_wk41.zip\n",
      "http://storage.googleapis.com/patents/grant_full_text/1998/pftaps19981020_wk42.zip\n",
      "http://storage.googleapis.com/patents/grant_full_text/1998/pftaps19981027_wk43.zip\n",
      "http://storage.googleapis.com/patents/grant_full_text/1998/pftaps19981103_wk44.zip\n",
      "http://storage.googleapis.com/patents/grant_full_text/1998/pftaps19981110_wk45.zip\n",
      "http://storage.googleapis.com/patents/grant_full_text/1998/pftaps19981117_wk46.zip\n",
      "http://storage.googleapis.com/patents/grant_full_text/1998/pftaps19981124_wk47.zip\n",
      "http://storage.googleapis.com/patents/grant_full_text/1998/pftaps19981201_wk48.zip\n",
      "http://storage.googleapis.com/patents/grant_full_text/1998/pftaps19981208_wk49.zip\n",
      "http://storage.googleapis.com/patents/grant_full_text/1998/pftaps19981215_wk50.zip\n",
      "http://storage.googleapis.com/patents/grant_full_text/1998/pftaps19981222_wk51.zip\n",
      "http://storage.googleapis.com/patents/grant_full_text/1998/pftaps19981229_wk52.zip\n",
      "http://storage.googleapis.com/patents/grant_full_text/1997/pftaps19970107_wk01.zip\n",
      "http://storage.googleapis.com/patents/grant_full_text/1997/pftaps19970114_wk02.zip\n",
      "http://storage.googleapis.com/patents/grant_full_text/1997/pftaps19970121_wk03.zip\n",
      "http://storage.googleapis.com/patents/grant_full_text/1997/pftaps19970128_wk04.zip\n",
      "http://storage.googleapis.com/patents/grant_full_text/1997/pftaps19970204_wk05.zip\n",
      "http://storage.googleapis.com/patents/grant_full_text/1997/pftaps19970211_wk06.zip\n",
      "http://storage.googleapis.com/patents/grant_full_text/1997/pftaps19970218_wk07.zip\n",
      "http://storage.googleapis.com/patents/grant_full_text/1997/pftaps19970225_wk08.zip\n",
      "http://storage.googleapis.com/patents/grant_full_text/1997/pftaps19970304_wk09.zip\n",
      "http://storage.googleapis.com/patents/grant_full_text/1997/pftaps19970311_wk10.zip\n",
      "http://storage.googleapis.com/patents/grant_full_text/1997/pftaps19970318_wk11.zip\n",
      "http://storage.googleapis.com/patents/grant_full_text/1997/pftaps19970325_wk12.zip\n",
      "http://storage.googleapis.com/patents/grant_full_text/1997/pftaps19970401_wk13.zip\n",
      "http://storage.googleapis.com/patents/grant_full_text/1997/pftaps19970408_wk14.zip\n",
      "http://storage.googleapis.com/patents/grant_full_text/1997/pftaps19970415_wk15.zip\n",
      "http://storage.googleapis.com/patents/grant_full_text/1997/pftaps19970422_wk16.zip\n",
      "http://storage.googleapis.com/patents/grant_full_text/1997/pftaps19970429_wk17.zip\n",
      "http://storage.googleapis.com/patents/grant_full_text/1997/pftaps19970506_wk18.zip\n",
      "http://storage.googleapis.com/patents/grant_full_text/1997/pftaps19970513_wk19.zip\n",
      "http://storage.googleapis.com/patents/grant_full_text/1997/pftaps19970520_wk20.zip\n",
      "http://storage.googleapis.com/patents/grant_full_text/1997/pftaps19970527_wk21.zip\n",
      "http://storage.googleapis.com/patents/grant_full_text/1997/pftaps19970603_wk22.zip\n",
      "http://storage.googleapis.com/patents/grant_full_text/1997/pftaps19970610_wk23.zip\n",
      "http://storage.googleapis.com/patents/grant_full_text/1997/pftaps19970617_wk24.zip\n",
      "http://storage.googleapis.com/patents/grant_full_text/1997/pftaps19970624_wk25.zip\n",
      "http://storage.googleapis.com/patents/grant_full_text/1997/pftaps19970701_wk26.zip\n",
      "http://storage.googleapis.com/patents/grant_full_text/1997/pftaps19970708_wk27.zip\n",
      "http://storage.googleapis.com/patents/grant_full_text/1997/pftaps19970715_wk28.zip\n",
      "http://storage.googleapis.com/patents/grant_full_text/1997/pftaps19970722_wk29.zip\n",
      "http://storage.googleapis.com/patents/grant_full_text/1997/pftaps19970729_wk30.zip\n",
      "http://storage.googleapis.com/patents/grant_full_text/1997/pftaps19970805_wk31.zip\n",
      "http://storage.googleapis.com/patents/grant_full_text/1997/pftaps19970812_wk32.zip\n",
      "http://storage.googleapis.com/patents/grant_full_text/1997/pftaps19970819_wk33.zip\n",
      "http://storage.googleapis.com/patents/grant_full_text/1997/pftaps19970826_wk34.zip\n",
      "http://storage.googleapis.com/patents/grant_full_text/1997/pftaps19970902_wk35.zip\n",
      "http://storage.googleapis.com/patents/grant_full_text/1997/pftaps19970909_wk36.zip\n",
      "http://storage.googleapis.com/patents/grant_full_text/1997/pftaps19970916_wk37.zip\n",
      "http://storage.googleapis.com/patents/grant_full_text/1997/pftaps19970923_wk38.zip\n",
      "http://storage.googleapis.com/patents/grant_full_text/1997/pftaps19970930_wk39.zip\n",
      "http://storage.googleapis.com/patents/grant_full_text/1997/pftaps19971007_wk40.zip\n",
      "http://storage.googleapis.com/patents/grant_full_text/1997/pftaps19971014_wk41.zip\n",
      "http://storage.googleapis.com/patents/grant_full_text/1997/pftaps19971021_wk42.zip\n",
      "http://storage.googleapis.com/patents/grant_full_text/1997/pftaps19971028_wk43.zip\n",
      "http://storage.googleapis.com/patents/grant_full_text/1997/pftaps19971104_wk44.zip\n",
      "http://storage.googleapis.com/patents/grant_full_text/1997/pftaps19971111_wk45.zip\n",
      "http://storage.googleapis.com/patents/grant_full_text/1997/pftaps19971118_wk46.zip\n",
      "http://storage.googleapis.com/patents/grant_full_text/1997/pftaps19971125_wk47.zip\n",
      "http://storage.googleapis.com/patents/grant_full_text/1997/pftaps19971202_wk48.zip\n",
      "http://storage.googleapis.com/patents/grant_full_text/1997/pftaps19971209_wk49.zip\n",
      "http://storage.googleapis.com/patents/grant_full_text/1997/pftaps19971216_wk50.zip\n",
      "http://storage.googleapis.com/patents/grant_full_text/1997/pftaps19971223_wk51.zip\n",
      "http://storage.googleapis.com/patents/grant_full_text/1997/pftaps19971230_wk52.zip\n",
      "http://storage.googleapis.com/patents/grant_full_text/1996/pftaps19960102_wk01.zip\n",
      "http://storage.googleapis.com/patents/grant_full_text/1996/pftaps19960109_wk02.zip\n",
      "http://storage.googleapis.com/patents/grant_full_text/1996/pftaps19960116_wk03.zip\n",
      "http://storage.googleapis.com/patents/grant_full_text/1996/pftaps19960123_wk04.zip\n",
      "http://storage.googleapis.com/patents/grant_full_text/1996/pftaps19960130_wk05.zip\n",
      "http://storage.googleapis.com/patents/grant_full_text/1996/pftaps19960206_wk06.zip\n",
      "http://storage.googleapis.com/patents/grant_full_text/1996/pftaps19960213_wk07.zip\n",
      "http://storage.googleapis.com/patents/grant_full_text/1996/pftaps19960220_wk08.zip\n",
      "http://storage.googleapis.com/patents/grant_full_text/1996/pftaps19960227_wk09.zip\n",
      "http://storage.googleapis.com/patents/grant_full_text/1996/pftaps19960305_wk10.zip\n",
      "http://storage.googleapis.com/patents/grant_full_text/1996/pftaps19960312_wk11.zip\n",
      "http://storage.googleapis.com/patents/grant_full_text/1996/pftaps19960319_wk12.zip\n",
      "http://storage.googleapis.com/patents/grant_full_text/1996/pftaps19960326_wk13.zip\n",
      "http://storage.googleapis.com/patents/grant_full_text/1996/pftaps19960402_wk14.zip\n",
      "http://storage.googleapis.com/patents/grant_full_text/1996/pftaps19960409_wk15.zip\n",
      "http://storage.googleapis.com/patents/grant_full_text/1996/pftaps19960416_wk16.zip\n",
      "http://storage.googleapis.com/patents/grant_full_text/1996/pftaps19960423_wk17.zip\n",
      "http://storage.googleapis.com/patents/grant_full_text/1996/pftaps19960430_wk18.zip\n",
      "http://storage.googleapis.com/patents/grant_full_text/1996/pftaps19960507_wk19.zip\n",
      "http://storage.googleapis.com/patents/grant_full_text/1996/pftaps19960514_wk20.zip\n",
      "http://storage.googleapis.com/patents/grant_full_text/1996/pftaps19960521_wk21.zip\n",
      "http://storage.googleapis.com/patents/grant_full_text/1996/pftaps19960528_wk22.zip\n",
      "http://storage.googleapis.com/patents/grant_full_text/1996/pftaps19960604_wk23.zip\n",
      "http://storage.googleapis.com/patents/grant_full_text/1996/pftaps19960611_wk24.zip\n",
      "http://storage.googleapis.com/patents/grant_full_text/1996/pftaps19960618_wk25.zip\n",
      "http://storage.googleapis.com/patents/grant_full_text/1996/pftaps19960625_wk26.zip\n",
      "http://storage.googleapis.com/patents/grant_full_text/1996/pftaps19960702_wk27.zip\n",
      "http://storage.googleapis.com/patents/grant_full_text/1996/pftaps19960709_wk28.zip\n",
      "http://storage.googleapis.com/patents/grant_full_text/1996/pftaps19960716_wk29.zip\n",
      "http://storage.googleapis.com/patents/grant_full_text/1996/pftaps19960723_wk30.zip\n",
      "http://storage.googleapis.com/patents/grant_full_text/1996/pftaps19960730_wk31.zip\n",
      "http://storage.googleapis.com/patents/grant_full_text/1996/pftaps19960806_wk32.zip\n",
      "http://storage.googleapis.com/patents/grant_full_text/1996/pftaps19960813_wk33.zip\n",
      "http://storage.googleapis.com/patents/grant_full_text/1996/pftaps19960820_wk34.zip\n",
      "http://storage.googleapis.com/patents/grant_full_text/1996/pftaps19960827_wk35.zip\n",
      "http://storage.googleapis.com/patents/grant_full_text/1996/pftaps19960903_wk36.zip\n",
      "http://storage.googleapis.com/patents/grant_full_text/1996/pftaps19960910_wk37.zip\n",
      "http://storage.googleapis.com/patents/grant_full_text/1996/pftaps19960917_wk38.zip\n",
      "http://storage.googleapis.com/patents/grant_full_text/1996/pftaps19960924_wk39.zip\n",
      "http://storage.googleapis.com/patents/grant_full_text/1996/pftaps19961001_wk40.zip\n",
      "http://storage.googleapis.com/patents/grant_full_text/1996/pftaps19961008_wk41.zip\n",
      "http://storage.googleapis.com/patents/grant_full_text/1996/pftaps19961015_wk42.zip\n",
      "http://storage.googleapis.com/patents/grant_full_text/1996/pftaps19961022_wk43.zip\n",
      "http://storage.googleapis.com/patents/grant_full_text/1996/pftaps19961029_wk44.zip\n",
      "http://storage.googleapis.com/patents/grant_full_text/1996/pftaps19961105_wk45.zip\n",
      "http://storage.googleapis.com/patents/grant_full_text/1996/pftaps19961112_wk46.zip\n",
      "http://storage.googleapis.com/patents/grant_full_text/1996/pftaps19961119_wk47.zip\n",
      "http://storage.googleapis.com/patents/grant_full_text/1996/pftaps19961126_wk48.zip\n",
      "http://storage.googleapis.com/patents/grant_full_text/1996/pftaps19961203_wk49.zip\n",
      "http://storage.googleapis.com/patents/grant_full_text/1996/pftaps19961210_wk50.zip\n",
      "http://storage.googleapis.com/patents/grant_full_text/1996/pftaps19961217_wk51.zip\n",
      "http://storage.googleapis.com/patents/grant_full_text/1996/pftaps19961224_wk52.zip\n",
      "http://storage.googleapis.com/patents/grant_full_text/1996/pftaps19961231_wk53.zip\n",
      "http://storage.googleapis.com/patents/grant_full_text/1995/pftaps19950103_wk01.zip\n",
      "http://storage.googleapis.com/patents/grant_full_text/1995/pftaps19950110_wk02.zip\n",
      "http://storage.googleapis.com/patents/grant_full_text/1995/pftaps19950117_wk03.zip\n",
      "http://storage.googleapis.com/patents/grant_full_text/1995/pftaps19950124_wk04.zip\n",
      "http://storage.googleapis.com/patents/grant_full_text/1995/pftaps19950131_wk05.zip\n",
      "http://storage.googleapis.com/patents/grant_full_text/1995/pftaps19950207_wk06.zip\n",
      "http://storage.googleapis.com/patents/grant_full_text/1995/pftaps19950214_wk07.zip\n",
      "http://storage.googleapis.com/patents/grant_full_text/1995/pftaps19950221_wk08.zip\n",
      "http://storage.googleapis.com/patents/grant_full_text/1995/pftaps19950228_wk09.zip\n",
      "http://storage.googleapis.com/patents/grant_full_text/1995/pftaps19950307_wk10.zip\n",
      "http://storage.googleapis.com/patents/grant_full_text/1995/pftaps19950314_wk11.zip\n",
      "http://storage.googleapis.com/patents/grant_full_text/1995/pftaps19950321_wk12.zip\n",
      "http://storage.googleapis.com/patents/grant_full_text/1995/pftaps19950328_wk13.zip\n",
      "http://storage.googleapis.com/patents/grant_full_text/1995/pftaps19950404_wk14.zip\n",
      "http://storage.googleapis.com/patents/grant_full_text/1995/pftaps19950411_wk15.zip\n",
      "http://storage.googleapis.com/patents/grant_full_text/1995/pftaps19950418_wk16.zip\n",
      "http://storage.googleapis.com/patents/grant_full_text/1995/pftaps19950425_wk17.zip\n",
      "http://storage.googleapis.com/patents/grant_full_text/1995/pftaps19950502_wk18.zip\n",
      "http://storage.googleapis.com/patents/grant_full_text/1995/pftaps19950509_wk19.zip\n",
      "http://storage.googleapis.com/patents/grant_full_text/1995/pftaps19950516_wk20.zip\n",
      "http://storage.googleapis.com/patents/grant_full_text/1995/pftaps19950523_wk21.zip\n",
      "http://storage.googleapis.com/patents/grant_full_text/1995/pftaps19950530_wk22.zip\n",
      "http://storage.googleapis.com/patents/grant_full_text/1995/pftaps19950606_wk23.zip\n",
      "http://storage.googleapis.com/patents/grant_full_text/1995/pftaps19950613_wk24.zip\n",
      "http://storage.googleapis.com/patents/grant_full_text/1995/pftaps19950620_wk25.zip\n",
      "http://storage.googleapis.com/patents/grant_full_text/1995/pftaps19950627_wk26.zip\n",
      "http://storage.googleapis.com/patents/grant_full_text/1995/pftaps19950704_wk27.zip\n",
      "http://storage.googleapis.com/patents/grant_full_text/1995/pftaps19950711_wk28.zip\n",
      "http://storage.googleapis.com/patents/grant_full_text/1995/pftaps19950718_wk29.zip\n",
      "http://storage.googleapis.com/patents/grant_full_text/1995/pftaps19950725_wk30.zip\n",
      "http://storage.googleapis.com/patents/grant_full_text/1995/pftaps19950801_wk31.zip\n",
      "http://storage.googleapis.com/patents/grant_full_text/1995/pftaps19950808_wk32.zip\n",
      "http://storage.googleapis.com/patents/grant_full_text/1995/pftaps19950815_wk33.zip\n",
      "http://storage.googleapis.com/patents/grant_full_text/1995/pftaps19950822_wk34.zip\n",
      "http://storage.googleapis.com/patents/grant_full_text/1995/pftaps19950829_wk35.zip\n",
      "http://storage.googleapis.com/patents/grant_full_text/1995/pftaps19950905_wk36.zip\n",
      "http://storage.googleapis.com/patents/grant_full_text/1995/pftaps19950912_wk37.zip\n",
      "http://storage.googleapis.com/patents/grant_full_text/1995/pftaps19950919_wk38.zip\n",
      "http://storage.googleapis.com/patents/grant_full_text/1995/pftaps19950926_wk39.zip\n",
      "http://storage.googleapis.com/patents/grant_full_text/1995/pftaps19951003_wk40.zip\n",
      "http://storage.googleapis.com/patents/grant_full_text/1995/pftaps19951010_wk41.zip\n",
      "http://storage.googleapis.com/patents/grant_full_text/1995/pftaps19951017_wk42.zip\n",
      "http://storage.googleapis.com/patents/grant_full_text/1995/pftaps19951024_wk43.zip\n",
      "http://storage.googleapis.com/patents/grant_full_text/1995/pftaps19951031_wk44.zip\n",
      "http://storage.googleapis.com/patents/grant_full_text/1995/pftaps19951107_wk45.zip\n",
      "http://storage.googleapis.com/patents/grant_full_text/1995/pftaps19951114_wk46.zip\n",
      "http://storage.googleapis.com/patents/grant_full_text/1995/pftaps19951121_wk47.zip\n",
      "http://storage.googleapis.com/patents/grant_full_text/1995/pftaps19951128_wk48.zip\n",
      "http://storage.googleapis.com/patents/grant_full_text/1995/pftaps19951205_wk49.zip\n",
      "http://storage.googleapis.com/patents/grant_full_text/1995/pftaps19951212_wk50.zip\n",
      "http://storage.googleapis.com/patents/grant_full_text/1995/pftaps19951219_wk51.zip\n",
      "http://storage.googleapis.com/patents/grant_full_text/1995/pftaps19951226_wk52.zip\n",
      "http://storage.googleapis.com/patents/grant_full_text/1994/pftaps19940104_wk01.zip\n",
      "http://storage.googleapis.com/patents/grant_full_text/1994/pftaps19940111_wk02.zip\n",
      "http://storage.googleapis.com/patents/grant_full_text/1994/pftaps19940118_wk03.zip\n",
      "http://storage.googleapis.com/patents/grant_full_text/1994/pftaps19940125_wk04.zip\n",
      "http://storage.googleapis.com/patents/grant_full_text/1994/pftaps19940201_wk05.zip\n",
      "http://storage.googleapis.com/patents/grant_full_text/1994/pftaps19940208_wk06.zip\n",
      "http://storage.googleapis.com/patents/grant_full_text/1994/pftaps19940215_wk07.zip\n",
      "http://storage.googleapis.com/patents/grant_full_text/1994/pftaps19940222_wk08.zip\n",
      "http://storage.googleapis.com/patents/grant_full_text/1994/pftaps19940301_wk09.zip\n",
      "http://storage.googleapis.com/patents/grant_full_text/1994/pftaps19940308_wk10.zip\n",
      "http://storage.googleapis.com/patents/grant_full_text/1994/pftaps19940315_wk11.zip\n",
      "http://storage.googleapis.com/patents/grant_full_text/1994/pftaps19940322_wk12.zip\n",
      "http://storage.googleapis.com/patents/grant_full_text/1994/pftaps19940329_wk13.zip\n",
      "http://storage.googleapis.com/patents/grant_full_text/1994/pftaps19940405_wk14.zip\n",
      "http://storage.googleapis.com/patents/grant_full_text/1994/pftaps19940412_wk15.zip\n",
      "http://storage.googleapis.com/patents/grant_full_text/1994/pftaps19940419_wk16.zip\n",
      "http://storage.googleapis.com/patents/grant_full_text/1994/pftaps19940426_wk17.zip\n",
      "http://storage.googleapis.com/patents/grant_full_text/1994/pftaps19940503_wk18.zip\n",
      "http://storage.googleapis.com/patents/grant_full_text/1994/pftaps19940510_wk19.zip\n",
      "http://storage.googleapis.com/patents/grant_full_text/1994/pftaps19940517_wk20.zip\n",
      "http://storage.googleapis.com/patents/grant_full_text/1994/pftaps19940524_wk21.zip\n",
      "http://storage.googleapis.com/patents/grant_full_text/1994/pftaps19940531_wk22.zip\n",
      "http://storage.googleapis.com/patents/grant_full_text/1994/pftaps19940607_wk23.zip\n",
      "http://storage.googleapis.com/patents/grant_full_text/1994/pftaps19940614_wk24.zip\n",
      "http://storage.googleapis.com/patents/grant_full_text/1994/pftaps19940621_wk25.zip\n",
      "http://storage.googleapis.com/patents/grant_full_text/1994/pftaps19940628_wk26.zip\n",
      "http://storage.googleapis.com/patents/grant_full_text/1994/pftaps19940705_wk27.zip\n",
      "http://storage.googleapis.com/patents/grant_full_text/1994/pftaps19940712_wk28.zip\n",
      "http://storage.googleapis.com/patents/grant_full_text/1994/pftaps19940719_wk29.zip\n",
      "http://storage.googleapis.com/patents/grant_full_text/1994/pftaps19940726_wk30.zip\n",
      "http://storage.googleapis.com/patents/grant_full_text/1994/pftaps19940802_wk31.zip\n",
      "http://storage.googleapis.com/patents/grant_full_text/1994/pftaps19940809_wk32.zip\n",
      "http://storage.googleapis.com/patents/grant_full_text/1994/pftaps19940816_wk33.zip\n",
      "http://storage.googleapis.com/patents/grant_full_text/1994/pftaps19940823_wk34.zip\n",
      "http://storage.googleapis.com/patents/grant_full_text/1994/pftaps19940830_wk35.zip\n",
      "http://storage.googleapis.com/patents/grant_full_text/1994/pftaps19940906_wk36.zip\n",
      "http://storage.googleapis.com/patents/grant_full_text/1994/pftaps19940913_wk37.zip\n",
      "http://storage.googleapis.com/patents/grant_full_text/1994/pftaps19940920_wk38.zip\n",
      "http://storage.googleapis.com/patents/grant_full_text/1994/pftaps19940927_wk39.zip\n",
      "http://storage.googleapis.com/patents/grant_full_text/1994/pftaps19941004_wk40.zip\n",
      "http://storage.googleapis.com/patents/grant_full_text/1994/pftaps19941011_wk41.zip\n",
      "http://storage.googleapis.com/patents/grant_full_text/1994/pftaps19941018_wk42.zip\n",
      "http://storage.googleapis.com/patents/grant_full_text/1994/pftaps19941025_wk43.zip\n",
      "http://storage.googleapis.com/patents/grant_full_text/1994/pftaps19941101_wk44.zip\n",
      "http://storage.googleapis.com/patents/grant_full_text/1994/pftaps19941108_wk45.zip\n",
      "http://storage.googleapis.com/patents/grant_full_text/1994/pftaps19941115_wk46.zip\n",
      "http://storage.googleapis.com/patents/grant_full_text/1994/pftaps19941122_wk47.zip\n",
      "http://storage.googleapis.com/patents/grant_full_text/1994/pftaps19941129_wk48.zip\n",
      "http://storage.googleapis.com/patents/grant_full_text/1994/pftaps19941206_wk49.zip\n",
      "http://storage.googleapis.com/patents/grant_full_text/1994/pftaps19941213_wk50.zip\n",
      "http://storage.googleapis.com/patents/grant_full_text/1994/pftaps19941220_wk51.zip\n",
      "http://storage.googleapis.com/patents/grant_full_text/1994/pftaps19941227_wk52.zip\n",
      "http://storage.googleapis.com/patents/grant_full_text/1993/pftaps19930105_wk01.zip\n",
      "http://storage.googleapis.com/patents/grant_full_text/1993/pftaps19930112_wk02.zip\n",
      "http://storage.googleapis.com/patents/grant_full_text/1993/pftaps19930119_wk03.zip\n",
      "http://storage.googleapis.com/patents/grant_full_text/1993/pftaps19930126_wk04.zip\n",
      "http://storage.googleapis.com/patents/grant_full_text/1993/pftaps19930202_wk05.zip\n",
      "http://storage.googleapis.com/patents/grant_full_text/1993/pftaps19930209_wk06.zip\n",
      "http://storage.googleapis.com/patents/grant_full_text/1993/pftaps19930216_wk07.zip\n",
      "http://storage.googleapis.com/patents/grant_full_text/1993/pftaps19930223_wk08.zip\n",
      "http://storage.googleapis.com/patents/grant_full_text/1993/pftaps19930302_wk09.zip\n",
      "http://storage.googleapis.com/patents/grant_full_text/1993/pftaps19930309_wk10.zip\n",
      "http://storage.googleapis.com/patents/grant_full_text/1993/pftaps19930316_wk11.zip\n",
      "http://storage.googleapis.com/patents/grant_full_text/1993/pftaps19930323_wk12.zip\n",
      "http://storage.googleapis.com/patents/grant_full_text/1993/pftaps19930330_wk13.zip\n",
      "http://storage.googleapis.com/patents/grant_full_text/1993/pftaps19930406_wk14.zip\n",
      "http://storage.googleapis.com/patents/grant_full_text/1993/pftaps19930413_wk15.zip\n",
      "http://storage.googleapis.com/patents/grant_full_text/1993/pftaps19930420_wk16.zip\n",
      "http://storage.googleapis.com/patents/grant_full_text/1993/pftaps19930427_wk17.zip\n",
      "http://storage.googleapis.com/patents/grant_full_text/1993/pftaps19930504_wk18.zip\n",
      "http://storage.googleapis.com/patents/grant_full_text/1993/pftaps19930511_wk19.zip\n",
      "http://storage.googleapis.com/patents/grant_full_text/1993/pftaps19930518_wk20.zip\n",
      "http://storage.googleapis.com/patents/grant_full_text/1993/pftaps19930525_wk21.zip\n",
      "http://storage.googleapis.com/patents/grant_full_text/1993/pftaps19930601_wk22.zip\n",
      "http://storage.googleapis.com/patents/grant_full_text/1993/pftaps19930608_wk23.zip\n",
      "http://storage.googleapis.com/patents/grant_full_text/1993/pftaps19930615_wk24.zip\n",
      "http://storage.googleapis.com/patents/grant_full_text/1993/pftaps19930622_wk25.zip\n",
      "http://storage.googleapis.com/patents/grant_full_text/1993/pftaps19930629_wk26.zip\n",
      "http://storage.googleapis.com/patents/grant_full_text/1993/pftaps19930706_wk27.zip\n",
      "http://storage.googleapis.com/patents/grant_full_text/1993/pftaps19930713_wk28.zip\n",
      "http://storage.googleapis.com/patents/grant_full_text/1993/pftaps19930720_wk29.zip\n",
      "http://storage.googleapis.com/patents/grant_full_text/1993/pftaps19930727_wk30.zip\n",
      "http://storage.googleapis.com/patents/grant_full_text/1993/pftaps19930803_wk31.zip\n",
      "http://storage.googleapis.com/patents/grant_full_text/1993/pftaps19930810_wk32.zip\n",
      "http://storage.googleapis.com/patents/grant_full_text/1993/pftaps19930817_wk33.zip\n",
      "http://storage.googleapis.com/patents/grant_full_text/1993/pftaps19930824_wk34.zip\n",
      "http://storage.googleapis.com/patents/grant_full_text/1993/pftaps19930831_wk35.zip\n",
      "http://storage.googleapis.com/patents/grant_full_text/1993/pftaps19930907_wk36.zip\n",
      "http://storage.googleapis.com/patents/grant_full_text/1993/pftaps19930914_wk37.zip\n",
      "http://storage.googleapis.com/patents/grant_full_text/1993/pftaps19930921_wk38.zip\n",
      "http://storage.googleapis.com/patents/grant_full_text/1993/pftaps19930928_wk39.zip\n",
      "http://storage.googleapis.com/patents/grant_full_text/1993/pftaps19931005_wk40.zip\n",
      "http://storage.googleapis.com/patents/grant_full_text/1993/pftaps19931012_wk41.zip\n",
      "http://storage.googleapis.com/patents/grant_full_text/1993/pftaps19931019_wk42.zip\n",
      "http://storage.googleapis.com/patents/grant_full_text/1993/pftaps19931026_wk43.zip\n",
      "http://storage.googleapis.com/patents/grant_full_text/1993/pftaps19931102_wk44.zip\n",
      "http://storage.googleapis.com/patents/grant_full_text/1993/pftaps19931109_wk45.zip\n",
      "http://storage.googleapis.com/patents/grant_full_text/1993/pftaps19931116_wk46.zip\n",
      "http://storage.googleapis.com/patents/grant_full_text/1993/pftaps19931123_wk47.zip\n",
      "http://storage.googleapis.com/patents/grant_full_text/1993/pftaps19931130_wk48.zip\n",
      "http://storage.googleapis.com/patents/grant_full_text/1993/pftaps19931207_wk49.zip\n",
      "http://storage.googleapis.com/patents/grant_full_text/1993/pftaps19931214_wk50.zip\n",
      "http://storage.googleapis.com/patents/grant_full_text/1993/pftaps19931221_wk51.zip\n",
      "http://storage.googleapis.com/patents/grant_full_text/1993/pftaps19931228_wk52.zip\n",
      "http://storage.googleapis.com/patents/grant_full_text/1992/pftaps19920107_wk01.zip\n",
      "http://storage.googleapis.com/patents/grant_full_text/1992/pftaps19920114_wk02.zip\n",
      "http://storage.googleapis.com/patents/grant_full_text/1992/pftaps19920121_wk03.zip\n",
      "http://storage.googleapis.com/patents/grant_full_text/1992/pftaps19920128_wk04.zip\n",
      "http://storage.googleapis.com/patents/grant_full_text/1992/pftaps19920204_wk05.zip\n",
      "http://storage.googleapis.com/patents/grant_full_text/1992/pftaps19920211_wk06.zip\n",
      "http://storage.googleapis.com/patents/grant_full_text/1992/pftaps19920218_wk07.zip\n",
      "http://storage.googleapis.com/patents/grant_full_text/1992/pftaps19920225_wk08.zip\n",
      "http://storage.googleapis.com/patents/grant_full_text/1992/pftaps19920303_wk09.zip\n",
      "http://storage.googleapis.com/patents/grant_full_text/1992/pftaps19920310_wk10.zip\n",
      "http://storage.googleapis.com/patents/grant_full_text/1992/pftaps19920317_wk11.zip\n",
      "http://storage.googleapis.com/patents/grant_full_text/1992/pftaps19920324_wk12.zip\n",
      "http://storage.googleapis.com/patents/grant_full_text/1992/pftaps19920331_wk13.zip\n",
      "http://storage.googleapis.com/patents/grant_full_text/1992/pftaps19920407_wk14.zip\n",
      "http://storage.googleapis.com/patents/grant_full_text/1992/pftaps19920414_wk15.zip\n",
      "http://storage.googleapis.com/patents/grant_full_text/1992/pftaps19920421_wk16.zip\n",
      "http://storage.googleapis.com/patents/grant_full_text/1992/pftaps19920428_wk17.zip\n",
      "http://storage.googleapis.com/patents/grant_full_text/1992/pftaps19920505_wk18.zip\n",
      "http://storage.googleapis.com/patents/grant_full_text/1992/pftaps19920512_wk19.zip\n",
      "http://storage.googleapis.com/patents/grant_full_text/1992/pftaps19920519_wk20.zip\n",
      "http://storage.googleapis.com/patents/grant_full_text/1992/pftaps19920526_wk21.zip\n",
      "http://storage.googleapis.com/patents/grant_full_text/1992/pftaps19920602_wk22.zip\n",
      "http://storage.googleapis.com/patents/grant_full_text/1992/pftaps19920609_wk23.zip\n",
      "http://storage.googleapis.com/patents/grant_full_text/1992/pftaps19920616_wk24.zip\n",
      "http://storage.googleapis.com/patents/grant_full_text/1992/pftaps19920623_wk25.zip\n",
      "http://storage.googleapis.com/patents/grant_full_text/1992/pftaps19920630_wk26.zip\n",
      "http://storage.googleapis.com/patents/grant_full_text/1992/pftaps19920707_wk27.zip\n",
      "http://storage.googleapis.com/patents/grant_full_text/1992/pftaps19920714_wk28.zip\n",
      "http://storage.googleapis.com/patents/grant_full_text/1992/pftaps19920721_wk29.zip\n",
      "http://storage.googleapis.com/patents/grant_full_text/1992/pftaps19920728_wk30.zip\n",
      "http://storage.googleapis.com/patents/grant_full_text/1992/pftaps19920804_wk31.zip\n",
      "http://storage.googleapis.com/patents/grant_full_text/1992/pftaps19920811_wk32.zip\n",
      "http://storage.googleapis.com/patents/grant_full_text/1992/pftaps19920818_wk33.zip\n",
      "http://storage.googleapis.com/patents/grant_full_text/1992/pftaps19920825_wk34.zip\n",
      "http://storage.googleapis.com/patents/grant_full_text/1992/pftaps19920901_wk35.zip\n",
      "http://storage.googleapis.com/patents/grant_full_text/1992/pftaps19920908_wk36.zip\n",
      "http://storage.googleapis.com/patents/grant_full_text/1992/pftaps19920915_wk37.zip\n",
      "http://storage.googleapis.com/patents/grant_full_text/1992/pftaps19920922_wk38.zip\n",
      "http://storage.googleapis.com/patents/grant_full_text/1992/pftaps19920929_wk39.zip\n",
      "http://storage.googleapis.com/patents/grant_full_text/1992/pftaps19921006_wk40.zip\n",
      "http://storage.googleapis.com/patents/grant_full_text/1992/pftaps19921013_wk41.zip\n",
      "http://storage.googleapis.com/patents/grant_full_text/1992/pftaps19921020_wk42.zip\n",
      "http://storage.googleapis.com/patents/grant_full_text/1992/pftaps19921027_wk43.zip\n",
      "http://storage.googleapis.com/patents/grant_full_text/1992/pftaps19921103_wk44.zip\n",
      "http://storage.googleapis.com/patents/grant_full_text/1992/pftaps19921110_wk45.zip\n",
      "http://storage.googleapis.com/patents/grant_full_text/1992/pftaps19921117_wk46.zip\n",
      "http://storage.googleapis.com/patents/grant_full_text/1992/pftaps19921124_wk47.zip\n",
      "http://storage.googleapis.com/patents/grant_full_text/1992/pftaps19921201_wk48.zip\n",
      "http://storage.googleapis.com/patents/grant_full_text/1992/pftaps19921208_wk49.zip\n",
      "http://storage.googleapis.com/patents/grant_full_text/1992/pftaps19921215_wk50.zip\n",
      "http://storage.googleapis.com/patents/grant_full_text/1992/pftaps19921222_wk51.zip\n",
      "http://storage.googleapis.com/patents/grant_full_text/1992/pftaps19921229_wk52.zip\n",
      "http://storage.googleapis.com/patents/grant_full_text/1991/pftaps19910101_wk01.zip\n",
      "http://storage.googleapis.com/patents/grant_full_text/1991/pftaps19910108_wk02.zip\n",
      "http://storage.googleapis.com/patents/grant_full_text/1991/pftaps19910115_wk03.zip\n",
      "http://storage.googleapis.com/patents/grant_full_text/1991/pftaps19910122_wk04.zip\n",
      "http://storage.googleapis.com/patents/grant_full_text/1991/pftaps19910129_wk05.zip\n",
      "http://storage.googleapis.com/patents/grant_full_text/1991/pftaps19910205_wk06.zip\n",
      "http://storage.googleapis.com/patents/grant_full_text/1991/pftaps19910212_wk07.zip\n",
      "http://storage.googleapis.com/patents/grant_full_text/1991/pftaps19910219_wk08.zip\n",
      "http://storage.googleapis.com/patents/grant_full_text/1991/pftaps19910226_wk09.zip\n",
      "http://storage.googleapis.com/patents/grant_full_text/1991/pftaps19910305_wk10.zip\n",
      "http://storage.googleapis.com/patents/grant_full_text/1991/pftaps19910312_wk11.zip\n",
      "http://storage.googleapis.com/patents/grant_full_text/1991/pftaps19910319_wk12.zip\n",
      "http://storage.googleapis.com/patents/grant_full_text/1991/pftaps19910326_wk13.zip\n",
      "http://storage.googleapis.com/patents/grant_full_text/1991/pftaps19910402_wk14.zip\n",
      "http://storage.googleapis.com/patents/grant_full_text/1991/pftaps19910409_wk15.zip\n",
      "http://storage.googleapis.com/patents/grant_full_text/1991/pftaps19910416_wk16.zip\n",
      "http://storage.googleapis.com/patents/grant_full_text/1991/pftaps19910423_wk17.zip\n",
      "http://storage.googleapis.com/patents/grant_full_text/1991/pftaps19910430_wk18.zip\n",
      "http://storage.googleapis.com/patents/grant_full_text/1991/pftaps19910507_wk19.zip\n",
      "http://storage.googleapis.com/patents/grant_full_text/1991/pftaps19910514_wk20.zip\n",
      "http://storage.googleapis.com/patents/grant_full_text/1991/pftaps19910521_wk21.zip\n",
      "http://storage.googleapis.com/patents/grant_full_text/1991/pftaps19910528_wk22.zip\n",
      "http://storage.googleapis.com/patents/grant_full_text/1991/pftaps19910604_wk23.zip\n",
      "http://storage.googleapis.com/patents/grant_full_text/1991/pftaps19910611_wk24.zip\n",
      "http://storage.googleapis.com/patents/grant_full_text/1991/pftaps19910618_wk25.zip\n",
      "http://storage.googleapis.com/patents/grant_full_text/1991/pftaps19910625_wk26.zip\n",
      "http://storage.googleapis.com/patents/grant_full_text/1991/pftaps19910702_wk27.zip\n",
      "http://storage.googleapis.com/patents/grant_full_text/1991/pftaps19910709_wk28.zip\n",
      "http://storage.googleapis.com/patents/grant_full_text/1991/pftaps19910716_wk29.zip\n",
      "http://storage.googleapis.com/patents/grant_full_text/1991/pftaps19910723_wk30.zip\n",
      "http://storage.googleapis.com/patents/grant_full_text/1991/pftaps19910730_wk31.zip\n",
      "http://storage.googleapis.com/patents/grant_full_text/1991/pftaps19910806_wk32.zip\n",
      "http://storage.googleapis.com/patents/grant_full_text/1991/pftaps19910813_wk33.zip\n",
      "http://storage.googleapis.com/patents/grant_full_text/1991/pftaps19910820_wk34.zip\n",
      "http://storage.googleapis.com/patents/grant_full_text/1991/pftaps19910827_wk35.zip\n",
      "http://storage.googleapis.com/patents/grant_full_text/1991/pftaps19910903_wk36.zip\n",
      "http://storage.googleapis.com/patents/grant_full_text/1991/pftaps19910910_wk37.zip\n",
      "http://storage.googleapis.com/patents/grant_full_text/1991/pftaps19910917_wk38.zip\n",
      "http://storage.googleapis.com/patents/grant_full_text/1991/pftaps19910924_wk39.zip\n",
      "http://storage.googleapis.com/patents/grant_full_text/1991/pftaps19911001_wk40.zip\n",
      "http://storage.googleapis.com/patents/grant_full_text/1991/pftaps19911008_wk41.zip\n",
      "http://storage.googleapis.com/patents/grant_full_text/1991/pftaps19911015_wk42.zip\n",
      "http://storage.googleapis.com/patents/grant_full_text/1991/pftaps19911022_wk43.zip\n",
      "http://storage.googleapis.com/patents/grant_full_text/1991/pftaps19911029_wk44.zip\n",
      "http://storage.googleapis.com/patents/grant_full_text/1991/pftaps19911105_wk45.zip\n",
      "http://storage.googleapis.com/patents/grant_full_text/1991/pftaps19911112_wk46.zip\n",
      "http://storage.googleapis.com/patents/grant_full_text/1991/pftaps19911119_wk47.zip\n",
      "http://storage.googleapis.com/patents/grant_full_text/1991/pftaps19911126_wk48.zip\n",
      "http://storage.googleapis.com/patents/grant_full_text/1991/pftaps19911203_wk49.zip\n",
      "http://storage.googleapis.com/patents/grant_full_text/1991/pftaps19911210_wk50.zip\n",
      "http://storage.googleapis.com/patents/grant_full_text/1991/pftaps19911217_wk51.zip\n",
      "http://storage.googleapis.com/patents/grant_full_text/1991/pftaps19911224_wk52.zip\n",
      "http://storage.googleapis.com/patents/grant_full_text/1991/pftaps19911231_wk53.zip\n",
      "http://storage.googleapis.com/patents/grant_full_text/1990/pftaps19900102_wk01.zip\n",
      "http://storage.googleapis.com/patents/grant_full_text/1990/pftaps19900109_wk02.zip\n",
      "http://storage.googleapis.com/patents/grant_full_text/1990/pftaps19900116_wk03.zip\n",
      "http://storage.googleapis.com/patents/grant_full_text/1990/pftaps19900123_wk04.zip\n",
      "http://storage.googleapis.com/patents/grant_full_text/1990/pftaps19900130_wk05.zip\n",
      "http://storage.googleapis.com/patents/grant_full_text/1990/pftaps19900206_wk06.zip\n",
      "http://storage.googleapis.com/patents/grant_full_text/1990/pftaps19900213_wk07.zip\n",
      "http://storage.googleapis.com/patents/grant_full_text/1990/pftaps19900220_wk08.zip\n",
      "http://storage.googleapis.com/patents/grant_full_text/1990/pftaps19900227_wk09.zip\n",
      "http://storage.googleapis.com/patents/grant_full_text/1990/pftaps19900306_wk10.zip\n",
      "http://storage.googleapis.com/patents/grant_full_text/1990/pftaps19900313_wk11.zip\n",
      "http://storage.googleapis.com/patents/grant_full_text/1990/pftaps19900320_wk12.zip\n",
      "http://storage.googleapis.com/patents/grant_full_text/1990/pftaps19900327_wk13.zip\n",
      "http://storage.googleapis.com/patents/grant_full_text/1990/pftaps19900403_wk14.zip\n",
      "http://storage.googleapis.com/patents/grant_full_text/1990/pftaps19900410_wk15.zip\n",
      "http://storage.googleapis.com/patents/grant_full_text/1990/pftaps19900417_wk16.zip\n",
      "http://storage.googleapis.com/patents/grant_full_text/1990/pftaps19900424_wk17.zip\n",
      "http://storage.googleapis.com/patents/grant_full_text/1990/pftaps19900501_wk18.zip\n",
      "http://storage.googleapis.com/patents/grant_full_text/1990/pftaps19900508_wk19.zip\n",
      "http://storage.googleapis.com/patents/grant_full_text/1990/pftaps19900515_wk20.zip\n",
      "http://storage.googleapis.com/patents/grant_full_text/1990/pftaps19900522_wk21.zip\n",
      "http://storage.googleapis.com/patents/grant_full_text/1990/pftaps19900529_wk22.zip\n",
      "http://storage.googleapis.com/patents/grant_full_text/1990/pftaps19900605_wk23.zip\n",
      "http://storage.googleapis.com/patents/grant_full_text/1990/pftaps19900612_wk24.zip\n",
      "http://storage.googleapis.com/patents/grant_full_text/1990/pftaps19900619_wk25.zip\n",
      "http://storage.googleapis.com/patents/grant_full_text/1990/pftaps19900626_wk26.zip\n",
      "http://storage.googleapis.com/patents/grant_full_text/1990/pftaps19900703_wk27.zip\n",
      "http://storage.googleapis.com/patents/grant_full_text/1990/pftaps19900710_wk28.zip\n",
      "http://storage.googleapis.com/patents/grant_full_text/1990/pftaps19900717_wk29.zip\n",
      "http://storage.googleapis.com/patents/grant_full_text/1990/pftaps19900724_wk30.zip\n",
      "http://storage.googleapis.com/patents/grant_full_text/1990/pftaps19900731_wk31.zip\n",
      "http://storage.googleapis.com/patents/grant_full_text/1990/pftaps19900807_wk32.zip\n",
      "http://storage.googleapis.com/patents/grant_full_text/1990/pftaps19900814_wk33.zip\n",
      "http://storage.googleapis.com/patents/grant_full_text/1990/pftaps19900821_wk34.zip\n",
      "http://storage.googleapis.com/patents/grant_full_text/1990/pftaps19900828_wk35.zip\n",
      "http://storage.googleapis.com/patents/grant_full_text/1990/pftaps19900904_wk36.zip\n",
      "http://storage.googleapis.com/patents/grant_full_text/1990/pftaps19900911_wk37.zip\n",
      "http://storage.googleapis.com/patents/grant_full_text/1990/pftaps19900918_wk38.zip\n",
      "http://storage.googleapis.com/patents/grant_full_text/1990/pftaps19900925_wk39.zip\n",
      "http://storage.googleapis.com/patents/grant_full_text/1990/pftaps19901002_wk40.zip\n",
      "http://storage.googleapis.com/patents/grant_full_text/1990/pftaps19901009_wk41.zip\n",
      "http://storage.googleapis.com/patents/grant_full_text/1990/pftaps19901016_wk42.zip\n",
      "http://storage.googleapis.com/patents/grant_full_text/1990/pftaps19901023_wk43.zip\n",
      "http://storage.googleapis.com/patents/grant_full_text/1990/pftaps19901030_wk44.zip\n",
      "http://storage.googleapis.com/patents/grant_full_text/1990/pftaps19901106_wk45.zip\n",
      "http://storage.googleapis.com/patents/grant_full_text/1990/pftaps19901113_wk46.zip\n",
      "http://storage.googleapis.com/patents/grant_full_text/1990/pftaps19901120_wk47.zip\n",
      "http://storage.googleapis.com/patents/grant_full_text/1990/pftaps19901127_wk48.zip\n",
      "http://storage.googleapis.com/patents/grant_full_text/1990/pftaps19901204_wk49.zip\n",
      "http://storage.googleapis.com/patents/grant_full_text/1990/pftaps19901211_wk50.zip\n",
      "http://storage.googleapis.com/patents/grant_full_text/1990/pftaps19901218_wk51.zip\n",
      "http://storage.googleapis.com/patents/grant_full_text/1990/pftaps19901225_wk52.zip\n",
      "http://storage.googleapis.com/patents/grant_full_text/1989/pftaps19890103_wk01.zip\n",
      "http://storage.googleapis.com/patents/grant_full_text/1989/pftaps19890110_wk02.zip\n",
      "http://storage.googleapis.com/patents/grant_full_text/1989/pftaps19890117_wk03.zip\n",
      "http://storage.googleapis.com/patents/grant_full_text/1989/pftaps19890124_wk04.zip\n",
      "http://storage.googleapis.com/patents/grant_full_text/1989/pftaps19890131_wk05.zip\n",
      "http://storage.googleapis.com/patents/grant_full_text/1989/pftaps19890207_wk06.zip\n",
      "http://storage.googleapis.com/patents/grant_full_text/1989/pftaps19890214_wk07.zip\n",
      "http://storage.googleapis.com/patents/grant_full_text/1989/pftaps19890221_wk08.zip\n",
      "http://storage.googleapis.com/patents/grant_full_text/1989/pftaps19890228_wk09.zip\n",
      "http://storage.googleapis.com/patents/grant_full_text/1989/pftaps19890307_wk10.zip\n",
      "http://storage.googleapis.com/patents/grant_full_text/1989/pftaps19890314_wk11.zip\n",
      "http://storage.googleapis.com/patents/grant_full_text/1989/pftaps19890321_wk12.zip\n",
      "http://storage.googleapis.com/patents/grant_full_text/1989/pftaps19890328_wk13.zip\n",
      "http://storage.googleapis.com/patents/grant_full_text/1989/pftaps19890404_wk14.zip\n",
      "http://storage.googleapis.com/patents/grant_full_text/1989/pftaps19890411_wk15.zip\n",
      "http://storage.googleapis.com/patents/grant_full_text/1989/pftaps19890418_wk16.zip\n",
      "http://storage.googleapis.com/patents/grant_full_text/1989/pftaps19890425_wk17.zip\n",
      "http://storage.googleapis.com/patents/grant_full_text/1989/pftaps19890502_wk18.zip\n",
      "http://storage.googleapis.com/patents/grant_full_text/1989/pftaps19890509_wk19.zip\n",
      "http://storage.googleapis.com/patents/grant_full_text/1989/pftaps19890516_wk20.zip\n",
      "http://storage.googleapis.com/patents/grant_full_text/1989/pftaps19890523_wk21.zip\n",
      "http://storage.googleapis.com/patents/grant_full_text/1989/pftaps19890530_wk22.zip\n",
      "http://storage.googleapis.com/patents/grant_full_text/1989/pftaps19890606_wk23.zip\n",
      "http://storage.googleapis.com/patents/grant_full_text/1989/pftaps19890613_wk24.zip\n",
      "http://storage.googleapis.com/patents/grant_full_text/1989/pftaps19890620_wk25.zip\n",
      "http://storage.googleapis.com/patents/grant_full_text/1989/pftaps19890627_wk26.zip\n",
      "http://storage.googleapis.com/patents/grant_full_text/1989/pftaps19890704_wk27.zip\n",
      "http://storage.googleapis.com/patents/grant_full_text/1989/pftaps19890711_wk28.zip\n",
      "http://storage.googleapis.com/patents/grant_full_text/1989/pftaps19890718_wk29.zip\n",
      "http://storage.googleapis.com/patents/grant_full_text/1989/pftaps19890725_wk30.zip\n",
      "http://storage.googleapis.com/patents/grant_full_text/1989/pftaps19890801_wk31.zip\n",
      "http://storage.googleapis.com/patents/grant_full_text/1989/pftaps19890808_wk32.zip\n",
      "http://storage.googleapis.com/patents/grant_full_text/1989/pftaps19890815_wk33.zip\n",
      "http://storage.googleapis.com/patents/grant_full_text/1989/pftaps19890822_wk34.zip\n",
      "http://storage.googleapis.com/patents/grant_full_text/1989/pftaps19890829_wk35.zip\n",
      "http://storage.googleapis.com/patents/grant_full_text/1989/pftaps19890905_wk36.zip\n",
      "http://storage.googleapis.com/patents/grant_full_text/1989/pftaps19890912_wk37.zip\n",
      "http://storage.googleapis.com/patents/grant_full_text/1989/pftaps19890919_wk38.zip\n",
      "http://storage.googleapis.com/patents/grant_full_text/1989/pftaps19890926_wk39.zip\n",
      "http://storage.googleapis.com/patents/grant_full_text/1989/pftaps19891003_wk40.zip\n",
      "http://storage.googleapis.com/patents/grant_full_text/1989/pftaps19891010_wk41.zip\n",
      "http://storage.googleapis.com/patents/grant_full_text/1989/pftaps19891017_wk42.zip\n",
      "http://storage.googleapis.com/patents/grant_full_text/1989/pftaps19891024_wk43.zip\n",
      "http://storage.googleapis.com/patents/grant_full_text/1989/pftaps19891031_wk44.zip\n",
      "http://storage.googleapis.com/patents/grant_full_text/1989/pftaps19891107_wk45.zip\n",
      "http://storage.googleapis.com/patents/grant_full_text/1989/pftaps19891114_wk46.zip\n",
      "http://storage.googleapis.com/patents/grant_full_text/1989/pftaps19891121_wk47.zip\n",
      "http://storage.googleapis.com/patents/grant_full_text/1989/pftaps19891128_wk48.zip\n",
      "http://storage.googleapis.com/patents/grant_full_text/1989/pftaps19891205_wk49.zip\n",
      "http://storage.googleapis.com/patents/grant_full_text/1989/pftaps19891212_wk50.zip\n",
      "http://storage.googleapis.com/patents/grant_full_text/1989/pftaps19891219_wk51.zip\n",
      "http://storage.googleapis.com/patents/grant_full_text/1989/pftaps19891226_wk52.zip\n",
      "http://storage.googleapis.com/patents/grant_full_text/1988/pftaps19880105_wk01.zip\n",
      "http://storage.googleapis.com/patents/grant_full_text/1988/pftaps19880112_wk02.zip\n",
      "http://storage.googleapis.com/patents/grant_full_text/1988/pftaps19880119_wk03.zip\n",
      "http://storage.googleapis.com/patents/grant_full_text/1988/pftaps19880126_wk04.zip\n",
      "http://storage.googleapis.com/patents/grant_full_text/1988/pftaps19880202_wk05.zip\n",
      "http://storage.googleapis.com/patents/grant_full_text/1988/pftaps19880209_wk06.zip\n",
      "http://storage.googleapis.com/patents/grant_full_text/1988/pftaps19880216_wk07.zip\n",
      "http://storage.googleapis.com/patents/grant_full_text/1988/pftaps19880223_wk08.zip\n",
      "http://storage.googleapis.com/patents/grant_full_text/1988/pftaps19880301_wk09.zip\n",
      "http://storage.googleapis.com/patents/grant_full_text/1988/pftaps19880308_wk10.zip\n",
      "http://storage.googleapis.com/patents/grant_full_text/1988/pftaps19880315_wk11.zip\n",
      "http://storage.googleapis.com/patents/grant_full_text/1988/pftaps19880322_wk12.zip\n",
      "http://storage.googleapis.com/patents/grant_full_text/1988/pftaps19880329_wk13.zip\n",
      "http://storage.googleapis.com/patents/grant_full_text/1988/pftaps19880405_wk14.zip\n",
      "http://storage.googleapis.com/patents/grant_full_text/1988/pftaps19880412_wk15.zip\n",
      "http://storage.googleapis.com/patents/grant_full_text/1988/pftaps19880419_wk16.zip\n",
      "http://storage.googleapis.com/patents/grant_full_text/1988/pftaps19880426_wk17.zip\n",
      "http://storage.googleapis.com/patents/grant_full_text/1988/pftaps19880503_wk18.zip\n",
      "http://storage.googleapis.com/patents/grant_full_text/1988/pftaps19880510_wk19.zip\n",
      "http://storage.googleapis.com/patents/grant_full_text/1988/pftaps19880517_wk20.zip\n",
      "http://storage.googleapis.com/patents/grant_full_text/1988/pftaps19880524_wk21.zip\n",
      "http://storage.googleapis.com/patents/grant_full_text/1988/pftaps19880531_wk22.zip\n",
      "http://storage.googleapis.com/patents/grant_full_text/1988/pftaps19880607_wk23.zip\n",
      "http://storage.googleapis.com/patents/grant_full_text/1988/pftaps19880614_wk24.zip\n",
      "http://storage.googleapis.com/patents/grant_full_text/1988/pftaps19880621_wk25.zip\n",
      "http://storage.googleapis.com/patents/grant_full_text/1988/pftaps19880628_wk26.zip\n",
      "http://storage.googleapis.com/patents/grant_full_text/1988/pftaps19880705_wk27.zip\n",
      "http://storage.googleapis.com/patents/grant_full_text/1988/pftaps19880712_wk28.zip\n",
      "http://storage.googleapis.com/patents/grant_full_text/1988/pftaps19880719_wk29.zip\n",
      "http://storage.googleapis.com/patents/grant_full_text/1988/pftaps19880726_wk30.zip\n",
      "http://storage.googleapis.com/patents/grant_full_text/1988/pftaps19880802_wk31.zip\n",
      "http://storage.googleapis.com/patents/grant_full_text/1988/pftaps19880809_wk32.zip\n",
      "http://storage.googleapis.com/patents/grant_full_text/1988/pftaps19880816_wk33.zip\n",
      "http://storage.googleapis.com/patents/grant_full_text/1988/pftaps19880823_wk34.zip\n",
      "http://storage.googleapis.com/patents/grant_full_text/1988/pftaps19880830_wk35.zip\n",
      "http://storage.googleapis.com/patents/grant_full_text/1988/pftaps19880906_wk36.zip\n",
      "http://storage.googleapis.com/patents/grant_full_text/1988/pftaps19880913_wk37.zip\n",
      "http://storage.googleapis.com/patents/grant_full_text/1988/pftaps19880920_wk38.zip\n",
      "http://storage.googleapis.com/patents/grant_full_text/1988/pftaps19880927_wk39.zip\n",
      "http://storage.googleapis.com/patents/grant_full_text/1988/pftaps19881004_wk40.zip\n",
      "http://storage.googleapis.com/patents/grant_full_text/1988/pftaps19881011_wk41.zip\n",
      "http://storage.googleapis.com/patents/grant_full_text/1988/pftaps19881018_wk42.zip\n",
      "http://storage.googleapis.com/patents/grant_full_text/1988/pftaps19881025_wk43.zip\n",
      "http://storage.googleapis.com/patents/grant_full_text/1988/pftaps19881101_wk44.zip\n",
      "http://storage.googleapis.com/patents/grant_full_text/1988/pftaps19881108_wk45.zip\n",
      "http://storage.googleapis.com/patents/grant_full_text/1988/pftaps19881115_wk46.zip\n",
      "http://storage.googleapis.com/patents/grant_full_text/1988/pftaps19881122_wk47.zip\n",
      "http://storage.googleapis.com/patents/grant_full_text/1988/pftaps19881129_wk48.zip\n",
      "http://storage.googleapis.com/patents/grant_full_text/1988/pftaps19881206_wk49.zip\n",
      "http://storage.googleapis.com/patents/grant_full_text/1988/pftaps19881213_wk50.zip\n",
      "http://storage.googleapis.com/patents/grant_full_text/1988/pftaps19881220_wk51.zip\n",
      "http://storage.googleapis.com/patents/grant_full_text/1988/pftaps19881227_wk52.zip\n",
      "http://storage.googleapis.com/patents/grant_full_text/1987/pftaps19870106_wk01.zip\n",
      "http://storage.googleapis.com/patents/grant_full_text/1987/pftaps19870113_wk02.zip\n",
      "http://storage.googleapis.com/patents/grant_full_text/1987/pftaps19870120_wk03.zip\n",
      "http://storage.googleapis.com/patents/grant_full_text/1987/pftaps19870127_wk04.zip\n",
      "http://storage.googleapis.com/patents/grant_full_text/1987/pftaps19870203_wk05.zip\n",
      "http://storage.googleapis.com/patents/grant_full_text/1987/pftaps19870210_wk06.zip\n",
      "http://storage.googleapis.com/patents/grant_full_text/1987/pftaps19870217_wk07.zip\n",
      "http://storage.googleapis.com/patents/grant_full_text/1987/pftaps19870224_wk08.zip\n",
      "http://storage.googleapis.com/patents/grant_full_text/1987/pftaps19870303_wk09.zip\n",
      "http://storage.googleapis.com/patents/grant_full_text/1987/pftaps19870310_wk10.zip\n",
      "http://storage.googleapis.com/patents/grant_full_text/1987/pftaps19870317_wk11.zip\n",
      "http://storage.googleapis.com/patents/grant_full_text/1987/pftaps19870324_wk12.zip\n",
      "http://storage.googleapis.com/patents/grant_full_text/1987/pftaps19870331_wk13.zip\n",
      "http://storage.googleapis.com/patents/grant_full_text/1987/pftaps19870407_wk14.zip\n",
      "http://storage.googleapis.com/patents/grant_full_text/1987/pftaps19870414_wk15.zip\n",
      "http://storage.googleapis.com/patents/grant_full_text/1987/pftaps19870421_wk16.zip\n",
      "http://storage.googleapis.com/patents/grant_full_text/1987/pftaps19870428_wk17.zip\n",
      "http://storage.googleapis.com/patents/grant_full_text/1987/pftaps19870505_wk18.zip\n",
      "http://storage.googleapis.com/patents/grant_full_text/1987/pftaps19870512_wk19.zip\n",
      "http://storage.googleapis.com/patents/grant_full_text/1987/pftaps19870519_wk20.zip\n",
      "http://storage.googleapis.com/patents/grant_full_text/1987/pftaps19870526_wk21.zip\n",
      "http://storage.googleapis.com/patents/grant_full_text/1987/pftaps19870602_wk22.zip\n",
      "http://storage.googleapis.com/patents/grant_full_text/1987/pftaps19870609_wk23.zip\n",
      "http://storage.googleapis.com/patents/grant_full_text/1987/pftaps19870616_wk24.zip\n",
      "http://storage.googleapis.com/patents/grant_full_text/1987/pftaps19870623_wk25.zip\n",
      "http://storage.googleapis.com/patents/grant_full_text/1987/pftaps19870630_wk26.zip\n",
      "http://storage.googleapis.com/patents/grant_full_text/1987/pftaps19870707_wk27.zip\n",
      "http://storage.googleapis.com/patents/grant_full_text/1987/pftaps19870714_wk28.zip\n",
      "http://storage.googleapis.com/patents/grant_full_text/1987/pftaps19870721_wk29.zip\n",
      "http://storage.googleapis.com/patents/grant_full_text/1987/pftaps19870728_wk30.zip\n",
      "http://storage.googleapis.com/patents/grant_full_text/1987/pftaps19870804_wk31.zip\n",
      "http://storage.googleapis.com/patents/grant_full_text/1987/pftaps19870811_wk32.zip\n",
      "http://storage.googleapis.com/patents/grant_full_text/1987/pftaps19870818_wk33.zip\n",
      "http://storage.googleapis.com/patents/grant_full_text/1987/pftaps19870825_wk34.zip\n",
      "http://storage.googleapis.com/patents/grant_full_text/1987/pftaps19870901_wk35.zip\n",
      "http://storage.googleapis.com/patents/grant_full_text/1987/pftaps19870908_wk36.zip\n",
      "http://storage.googleapis.com/patents/grant_full_text/1987/pftaps19870915_wk37.zip\n",
      "http://storage.googleapis.com/patents/grant_full_text/1987/pftaps19870922_wk38.zip\n",
      "http://storage.googleapis.com/patents/grant_full_text/1987/pftaps19870929_wk39.zip\n",
      "http://storage.googleapis.com/patents/grant_full_text/1987/pftaps19871006_wk40.zip\n",
      "http://storage.googleapis.com/patents/grant_full_text/1987/pftaps19871013_wk41.zip\n",
      "http://storage.googleapis.com/patents/grant_full_text/1987/pftaps19871020_wk42.zip\n",
      "http://storage.googleapis.com/patents/grant_full_text/1987/pftaps19871027_wk43.zip\n",
      "http://storage.googleapis.com/patents/grant_full_text/1987/pftaps19871103_wk44.zip\n",
      "http://storage.googleapis.com/patents/grant_full_text/1987/pftaps19871110_wk45.zip\n",
      "http://storage.googleapis.com/patents/grant_full_text/1987/pftaps19871117_wk46.zip\n",
      "http://storage.googleapis.com/patents/grant_full_text/1987/pftaps19871124_wk47.zip\n",
      "http://storage.googleapis.com/patents/grant_full_text/1987/pftaps19871201_wk48.zip\n",
      "http://storage.googleapis.com/patents/grant_full_text/1987/pftaps19871208_wk49.zip\n",
      "http://storage.googleapis.com/patents/grant_full_text/1987/pftaps19871215_wk50.zip\n",
      "http://storage.googleapis.com/patents/grant_full_text/1987/pftaps19871222_wk51.zip\n",
      "http://storage.googleapis.com/patents/grant_full_text/1987/pftaps19871229_wk52.zip\n",
      "http://storage.googleapis.com/patents/grant_full_text/1986/pftaps19860107_wk01.zip\n",
      "http://storage.googleapis.com/patents/grant_full_text/1986/pftaps19860114_wk02.zip\n",
      "http://storage.googleapis.com/patents/grant_full_text/1986/pftaps19860121_wk03.zip\n",
      "http://storage.googleapis.com/patents/grant_full_text/1986/pftaps19860128_wk04.zip\n",
      "http://storage.googleapis.com/patents/grant_full_text/1986/pftaps19860204_wk05.zip\n",
      "http://storage.googleapis.com/patents/grant_full_text/1986/pftaps19860211_wk06.zip\n",
      "http://storage.googleapis.com/patents/grant_full_text/1986/pftaps19860218_wk07.zip\n",
      "http://storage.googleapis.com/patents/grant_full_text/1986/pftaps19860225_wk08.zip\n",
      "http://storage.googleapis.com/patents/grant_full_text/1986/pftaps19860304_wk09.zip\n",
      "http://storage.googleapis.com/patents/grant_full_text/1986/pftaps19860311_wk10.zip\n",
      "http://storage.googleapis.com/patents/grant_full_text/1986/pftaps19860318_wk11.zip\n",
      "http://storage.googleapis.com/patents/grant_full_text/1986/pftaps19860325_wk12.zip\n",
      "http://storage.googleapis.com/patents/grant_full_text/1986/pftaps19860401_wk13.zip\n",
      "http://storage.googleapis.com/patents/grant_full_text/1986/pftaps19860408_wk14.zip\n",
      "http://storage.googleapis.com/patents/grant_full_text/1986/pftaps19860415_wk15.zip\n",
      "http://storage.googleapis.com/patents/grant_full_text/1986/pftaps19860422_wk16.zip\n",
      "http://storage.googleapis.com/patents/grant_full_text/1986/pftaps19860429_wk17.zip\n",
      "http://storage.googleapis.com/patents/grant_full_text/1986/pftaps19860506_wk18.zip\n",
      "http://storage.googleapis.com/patents/grant_full_text/1986/pftaps19860513_wk19.zip\n",
      "http://storage.googleapis.com/patents/grant_full_text/1986/pftaps19860520_wk20.zip\n",
      "http://storage.googleapis.com/patents/grant_full_text/1986/pftaps19860527_wk21.zip\n",
      "http://storage.googleapis.com/patents/grant_full_text/1986/pftaps19860603_wk22.zip\n",
      "http://storage.googleapis.com/patents/grant_full_text/1986/pftaps19860610_wk23.zip\n",
      "http://storage.googleapis.com/patents/grant_full_text/1986/pftaps19860617_wk24.zip\n",
      "http://storage.googleapis.com/patents/grant_full_text/1986/pftaps19860624_wk25.zip\n",
      "http://storage.googleapis.com/patents/grant_full_text/1986/pftaps19860701_wk26.zip\n",
      "http://storage.googleapis.com/patents/grant_full_text/1986/pftaps19860708_wk27.zip\n",
      "http://storage.googleapis.com/patents/grant_full_text/1986/pftaps19860715_wk28.zip\n",
      "http://storage.googleapis.com/patents/grant_full_text/1986/pftaps19860722_wk29.zip\n",
      "http://storage.googleapis.com/patents/grant_full_text/1986/pftaps19860729_wk30.zip\n",
      "http://storage.googleapis.com/patents/grant_full_text/1986/pftaps19860805_wk31.zip\n",
      "http://storage.googleapis.com/patents/grant_full_text/1986/pftaps19860812_wk32.zip\n",
      "http://storage.googleapis.com/patents/grant_full_text/1986/pftaps19860819_wk33.zip\n",
      "http://storage.googleapis.com/patents/grant_full_text/1986/pftaps19860826_wk34.zip\n",
      "http://storage.googleapis.com/patents/grant_full_text/1986/pftaps19860902_wk35.zip\n",
      "http://storage.googleapis.com/patents/grant_full_text/1986/pftaps19860909_wk36.zip\n",
      "http://storage.googleapis.com/patents/grant_full_text/1986/pftaps19860916_wk37.zip\n",
      "http://storage.googleapis.com/patents/grant_full_text/1986/pftaps19860923_wk38.zip\n",
      "http://storage.googleapis.com/patents/grant_full_text/1986/pftaps19860930_wk39.zip\n",
      "http://storage.googleapis.com/patents/grant_full_text/1986/pftaps19861007_wk40.zip\n",
      "http://storage.googleapis.com/patents/grant_full_text/1986/pftaps19861014_wk41.zip\n",
      "http://storage.googleapis.com/patents/grant_full_text/1986/pftaps19861021_wk42.zip\n",
      "http://storage.googleapis.com/patents/grant_full_text/1986/pftaps19861028_wk43.zip\n",
      "http://storage.googleapis.com/patents/grant_full_text/1986/pftaps19861104_wk44.zip\n",
      "http://storage.googleapis.com/patents/grant_full_text/1986/pftaps19861111_wk45.zip\n",
      "http://storage.googleapis.com/patents/grant_full_text/1986/pftaps19861118_wk46.zip\n",
      "http://storage.googleapis.com/patents/grant_full_text/1986/pftaps19861125_wk47.zip\n",
      "http://storage.googleapis.com/patents/grant_full_text/1986/pftaps19861202_wk48.zip\n",
      "http://storage.googleapis.com/patents/grant_full_text/1986/pftaps19861209_wk49.zip\n",
      "http://storage.googleapis.com/patents/grant_full_text/1986/pftaps19861216_wk50.zip\n",
      "http://storage.googleapis.com/patents/grant_full_text/1986/pftaps19861223_wk51.zip\n",
      "http://storage.googleapis.com/patents/grant_full_text/1986/pftaps19861230_wk52.zip\n",
      "http://storage.googleapis.com/patents/grant_full_text/1985/pftaps19850101_wk01.zip\n",
      "http://storage.googleapis.com/patents/grant_full_text/1985/pftaps19850108_wk02.zip\n",
      "http://storage.googleapis.com/patents/grant_full_text/1985/pftaps19850115_wk03.zip\n",
      "http://storage.googleapis.com/patents/grant_full_text/1985/pftaps19850122_wk04.zip\n",
      "http://storage.googleapis.com/patents/grant_full_text/1985/pftaps19850129_wk05.zip\n",
      "http://storage.googleapis.com/patents/grant_full_text/1985/pftaps19850205_wk06.zip\n",
      "http://storage.googleapis.com/patents/grant_full_text/1985/pftaps19850212_wk07.zip\n",
      "http://storage.googleapis.com/patents/grant_full_text/1985/pftaps19850219_wk08.zip\n",
      "http://storage.googleapis.com/patents/grant_full_text/1985/pftaps19850226_wk09.zip\n",
      "http://storage.googleapis.com/patents/grant_full_text/1985/pftaps19850305_wk10.zip\n",
      "http://storage.googleapis.com/patents/grant_full_text/1985/pftaps19850312_wk11.zip\n",
      "http://storage.googleapis.com/patents/grant_full_text/1985/pftaps19850319_wk12.zip\n",
      "http://storage.googleapis.com/patents/grant_full_text/1985/pftaps19850326_wk13.zip\n",
      "http://storage.googleapis.com/patents/grant_full_text/1985/pftaps19850402_wk14.zip\n",
      "http://storage.googleapis.com/patents/grant_full_text/1985/pftaps19850409_wk15.zip\n",
      "http://storage.googleapis.com/patents/grant_full_text/1985/pftaps19850416_wk16.zip\n",
      "http://storage.googleapis.com/patents/grant_full_text/1985/pftaps19850423_wk17.zip\n",
      "http://storage.googleapis.com/patents/grant_full_text/1985/pftaps19850430_wk18.zip\n",
      "http://storage.googleapis.com/patents/grant_full_text/1985/pftaps19850507_wk19.zip\n",
      "http://storage.googleapis.com/patents/grant_full_text/1985/pftaps19850514_wk20.zip\n",
      "http://storage.googleapis.com/patents/grant_full_text/1985/pftaps19850521_wk21.zip\n",
      "http://storage.googleapis.com/patents/grant_full_text/1985/pftaps19850528_wk22.zip\n",
      "http://storage.googleapis.com/patents/grant_full_text/1985/pftaps19850604_wk23.zip\n",
      "http://storage.googleapis.com/patents/grant_full_text/1985/pftaps19850611_wk24.zip\n",
      "http://storage.googleapis.com/patents/grant_full_text/1985/pftaps19850618_wk25.zip\n",
      "http://storage.googleapis.com/patents/grant_full_text/1985/pftaps19850625_wk26.zip\n",
      "http://storage.googleapis.com/patents/grant_full_text/1985/pftaps19850702_wk27.zip\n",
      "http://storage.googleapis.com/patents/grant_full_text/1985/pftaps19850709_wk28.zip\n",
      "http://storage.googleapis.com/patents/grant_full_text/1985/pftaps19850716_wk29.zip\n",
      "http://storage.googleapis.com/patents/grant_full_text/1985/pftaps19850723_wk30.zip\n",
      "http://storage.googleapis.com/patents/grant_full_text/1985/pftaps19850730_wk31.zip\n",
      "http://storage.googleapis.com/patents/grant_full_text/1985/pftaps19850806_wk32.zip\n",
      "http://storage.googleapis.com/patents/grant_full_text/1985/pftaps19850813_wk33.zip\n",
      "http://storage.googleapis.com/patents/grant_full_text/1985/pftaps19850820_wk34.zip\n",
      "http://storage.googleapis.com/patents/grant_full_text/1985/pftaps19850827_wk35.zip\n",
      "http://storage.googleapis.com/patents/grant_full_text/1985/pftaps19850903_wk36.zip\n",
      "http://storage.googleapis.com/patents/grant_full_text/1985/pftaps19850910_wk37.zip\n",
      "http://storage.googleapis.com/patents/grant_full_text/1985/pftaps19850917_wk38.zip\n",
      "http://storage.googleapis.com/patents/grant_full_text/1985/pftaps19850924_wk39.zip\n",
      "http://storage.googleapis.com/patents/grant_full_text/1985/pftaps19851001_wk40.zip\n",
      "http://storage.googleapis.com/patents/grant_full_text/1985/pftaps19851008_wk41.zip\n",
      "http://storage.googleapis.com/patents/grant_full_text/1985/pftaps19851015_wk42.zip\n",
      "http://storage.googleapis.com/patents/grant_full_text/1985/pftaps19851022_wk43.zip\n",
      "http://storage.googleapis.com/patents/grant_full_text/1985/pftaps19851029_wk44.zip\n",
      "http://storage.googleapis.com/patents/grant_full_text/1985/pftaps19851105_wk45.zip\n",
      "http://storage.googleapis.com/patents/grant_full_text/1985/pftaps19851112_wk46.zip\n",
      "http://storage.googleapis.com/patents/grant_full_text/1985/pftaps19851119_wk47.zip\n",
      "http://storage.googleapis.com/patents/grant_full_text/1985/pftaps19851126_wk48.zip\n",
      "http://storage.googleapis.com/patents/grant_full_text/1985/pftaps19851203_wk49.zip\n",
      "http://storage.googleapis.com/patents/grant_full_text/1985/pftaps19851210_wk50.zip\n",
      "http://storage.googleapis.com/patents/grant_full_text/1985/pftaps19851217_wk51.zip\n",
      "http://storage.googleapis.com/patents/grant_full_text/1985/pftaps19851224_wk52.zip\n",
      "http://storage.googleapis.com/patents/grant_full_text/1985/pftaps19851231_wk53.zip\n",
      "http://storage.googleapis.com/patents/grant_full_text/1984/pftaps19840103_wk01.zip\n",
      "http://storage.googleapis.com/patents/grant_full_text/1984/pftaps19840110_wk02.zip\n",
      "http://storage.googleapis.com/patents/grant_full_text/1984/pftaps19840117_wk03.zip\n",
      "http://storage.googleapis.com/patents/grant_full_text/1984/pftaps19840124_wk04.zip\n",
      "http://storage.googleapis.com/patents/grant_full_text/1984/pftaps19840131_wk05.zip\n",
      "http://storage.googleapis.com/patents/grant_full_text/1984/pftaps19840207_wk06.zip\n",
      "http://storage.googleapis.com/patents/grant_full_text/1984/pftaps19840214_wk07.zip\n",
      "http://storage.googleapis.com/patents/grant_full_text/1984/pftaps19840221_wk08.zip\n",
      "http://storage.googleapis.com/patents/grant_full_text/1984/pftaps19840228_wk09.zip\n",
      "http://storage.googleapis.com/patents/grant_full_text/1984/pftaps19840306_wk10.zip\n",
      "http://storage.googleapis.com/patents/grant_full_text/1984/pftaps19840313_wk11.zip\n",
      "http://storage.googleapis.com/patents/grant_full_text/1984/pftaps19840320_wk12.zip\n",
      "http://storage.googleapis.com/patents/grant_full_text/1984/pftaps19840327_wk13.zip\n",
      "http://storage.googleapis.com/patents/grant_full_text/1984/pftaps19840403_wk14.zip\n",
      "http://storage.googleapis.com/patents/grant_full_text/1984/pftaps19840410_wk15.zip\n",
      "http://storage.googleapis.com/patents/grant_full_text/1984/pftaps19840417_wk16.zip\n",
      "http://storage.googleapis.com/patents/grant_full_text/1984/pftaps19840424_wk17.zip\n",
      "http://storage.googleapis.com/patents/grant_full_text/1984/pftaps19840501_wk18.zip\n",
      "http://storage.googleapis.com/patents/grant_full_text/1984/pftaps19840508_wk19.zip\n",
      "http://storage.googleapis.com/patents/grant_full_text/1984/pftaps19840515_wk20.zip\n",
      "http://storage.googleapis.com/patents/grant_full_text/1984/pftaps19840522_wk21.zip\n",
      "http://storage.googleapis.com/patents/grant_full_text/1984/pftaps19840529_wk22.zip\n",
      "http://storage.googleapis.com/patents/grant_full_text/1984/pftaps19840605_wk23.zip\n",
      "http://storage.googleapis.com/patents/grant_full_text/1984/pftaps19840612_wk24.zip\n",
      "http://storage.googleapis.com/patents/grant_full_text/1984/pftaps19840619_wk25.zip\n",
      "http://storage.googleapis.com/patents/grant_full_text/1984/pftaps19840626_wk26.zip\n",
      "http://storage.googleapis.com/patents/grant_full_text/1984/pftaps19840703_wk27.zip\n",
      "http://storage.googleapis.com/patents/grant_full_text/1984/pftaps19840710_wk28.zip\n",
      "http://storage.googleapis.com/patents/grant_full_text/1984/pftaps19840717_wk29.zip\n",
      "http://storage.googleapis.com/patents/grant_full_text/1984/pftaps19840724_wk30.zip\n",
      "http://storage.googleapis.com/patents/grant_full_text/1984/pftaps19840731_wk31.zip\n",
      "http://storage.googleapis.com/patents/grant_full_text/1984/pftaps19840807_wk32.zip\n",
      "http://storage.googleapis.com/patents/grant_full_text/1984/pftaps19840814_wk33.zip\n",
      "http://storage.googleapis.com/patents/grant_full_text/1984/pftaps19840821_wk34.zip\n",
      "http://storage.googleapis.com/patents/grant_full_text/1984/pftaps19840828_wk35.zip\n",
      "http://storage.googleapis.com/patents/grant_full_text/1984/pftaps19840904_wk36.zip\n",
      "http://storage.googleapis.com/patents/grant_full_text/1984/pftaps19840911_wk37.zip\n",
      "http://storage.googleapis.com/patents/grant_full_text/1984/pftaps19840918_wk38.zip\n",
      "http://storage.googleapis.com/patents/grant_full_text/1984/pftaps19840925_wk39.zip\n",
      "http://storage.googleapis.com/patents/grant_full_text/1984/pftaps19841002_wk40.zip\n",
      "http://storage.googleapis.com/patents/grant_full_text/1984/pftaps19841009_wk41.zip\n",
      "http://storage.googleapis.com/patents/grant_full_text/1984/pftaps19841016_wk42.zip\n",
      "http://storage.googleapis.com/patents/grant_full_text/1984/pftaps19841023_wk43.zip\n",
      "http://storage.googleapis.com/patents/grant_full_text/1984/pftaps19841030_wk44.zip\n",
      "http://storage.googleapis.com/patents/grant_full_text/1984/pftaps19841106_wk45.zip\n",
      "http://storage.googleapis.com/patents/grant_full_text/1984/pftaps19841113_wk46.zip\n",
      "http://storage.googleapis.com/patents/grant_full_text/1984/pftaps19841120_wk47.zip\n",
      "http://storage.googleapis.com/patents/grant_full_text/1984/pftaps19841127_wk48.zip\n",
      "http://storage.googleapis.com/patents/grant_full_text/1984/pftaps19841204_wk49.zip\n",
      "http://storage.googleapis.com/patents/grant_full_text/1984/pftaps19841211_wk50.zip\n",
      "http://storage.googleapis.com/patents/grant_full_text/1984/pftaps19841218_wk51.zip\n",
      "http://storage.googleapis.com/patents/grant_full_text/1984/pftaps19841225_wk52.zip\n",
      "http://storage.googleapis.com/patents/grant_full_text/1983/pftaps19830104_wk01.zip\n",
      "http://storage.googleapis.com/patents/grant_full_text/1983/pftaps19830111_wk02.zip\n",
      "http://storage.googleapis.com/patents/grant_full_text/1983/pftaps19830118_wk03.zip\n",
      "http://storage.googleapis.com/patents/grant_full_text/1983/pftaps19830125_wk04.zip\n",
      "http://storage.googleapis.com/patents/grant_full_text/1983/pftaps19830201_wk05.zip\n",
      "http://storage.googleapis.com/patents/grant_full_text/1983/pftaps19830208_wk06.zip\n",
      "http://storage.googleapis.com/patents/grant_full_text/1983/pftaps19830215_wk07.zip\n",
      "http://storage.googleapis.com/patents/grant_full_text/1983/pftaps19830222_wk08.zip\n",
      "http://storage.googleapis.com/patents/grant_full_text/1983/pftaps19830301_wk09.zip\n",
      "http://storage.googleapis.com/patents/grant_full_text/1983/pftaps19830308_wk10.zip\n",
      "http://storage.googleapis.com/patents/grant_full_text/1983/pftaps19830315_wk11.zip\n",
      "http://storage.googleapis.com/patents/grant_full_text/1983/pftaps19830322_wk12.zip\n",
      "http://storage.googleapis.com/patents/grant_full_text/1983/pftaps19830329_wk13.zip\n",
      "http://storage.googleapis.com/patents/grant_full_text/1983/pftaps19830405_wk14.zip\n",
      "http://storage.googleapis.com/patents/grant_full_text/1983/pftaps19830412_wk15.zip\n",
      "http://storage.googleapis.com/patents/grant_full_text/1983/pftaps19830419_wk16.zip\n",
      "http://storage.googleapis.com/patents/grant_full_text/1983/pftaps19830426_wk17.zip\n",
      "http://storage.googleapis.com/patents/grant_full_text/1983/pftaps19830503_wk18.zip\n",
      "http://storage.googleapis.com/patents/grant_full_text/1983/pftaps19830510_wk19.zip\n",
      "http://storage.googleapis.com/patents/grant_full_text/1983/pftaps19830517_wk20.zip\n",
      "http://storage.googleapis.com/patents/grant_full_text/1983/pftaps19830524_wk21.zip\n",
      "http://storage.googleapis.com/patents/grant_full_text/1983/pftaps19830531_wk22.zip\n",
      "http://storage.googleapis.com/patents/grant_full_text/1983/pftaps19830607_wk23.zip\n",
      "http://storage.googleapis.com/patents/grant_full_text/1983/pftaps19830614_wk24.zip\n",
      "http://storage.googleapis.com/patents/grant_full_text/1983/pftaps19830621_wk25.zip\n",
      "http://storage.googleapis.com/patents/grant_full_text/1983/pftaps19830628_wk26.zip\n",
      "http://storage.googleapis.com/patents/grant_full_text/1983/pftaps19830705_wk27.zip\n",
      "http://storage.googleapis.com/patents/grant_full_text/1983/pftaps19830712_wk28.zip\n",
      "http://storage.googleapis.com/patents/grant_full_text/1983/pftaps19830719_wk29.zip\n",
      "http://storage.googleapis.com/patents/grant_full_text/1983/pftaps19830726_wk30.zip\n",
      "http://storage.googleapis.com/patents/grant_full_text/1983/pftaps19830802_wk31.zip\n",
      "http://storage.googleapis.com/patents/grant_full_text/1983/pftaps19830809_wk32.zip\n",
      "http://storage.googleapis.com/patents/grant_full_text/1983/pftaps19830816_wk33.zip\n",
      "http://storage.googleapis.com/patents/grant_full_text/1983/pftaps19830823_wk34.zip\n",
      "http://storage.googleapis.com/patents/grant_full_text/1983/pftaps19830830_wk35.zip\n",
      "http://storage.googleapis.com/patents/grant_full_text/1983/pftaps19830906_wk36.zip\n",
      "http://storage.googleapis.com/patents/grant_full_text/1983/pftaps19830913_wk37.zip\n",
      "http://storage.googleapis.com/patents/grant_full_text/1983/pftaps19830920_wk38.zip\n",
      "http://storage.googleapis.com/patents/grant_full_text/1983/pftaps19830927_wk39.zip\n",
      "http://storage.googleapis.com/patents/grant_full_text/1983/pftaps19831004_wk40.zip\n",
      "http://storage.googleapis.com/patents/grant_full_text/1983/pftaps19831011_wk41.zip\n",
      "http://storage.googleapis.com/patents/grant_full_text/1983/pftaps19831018_wk42.zip\n",
      "http://storage.googleapis.com/patents/grant_full_text/1983/pftaps19831025_wk43.zip\n",
      "http://storage.googleapis.com/patents/grant_full_text/1983/pftaps19831101_wk44.zip\n",
      "http://storage.googleapis.com/patents/grant_full_text/1983/pftaps19831108_wk45.zip\n",
      "http://storage.googleapis.com/patents/grant_full_text/1983/pftaps19831115_wk46.zip\n",
      "http://storage.googleapis.com/patents/grant_full_text/1983/pftaps19831122_wk47.zip\n",
      "http://storage.googleapis.com/patents/grant_full_text/1983/pftaps19831129_wk48.zip\n",
      "http://storage.googleapis.com/patents/grant_full_text/1983/pftaps19831206_wk49.zip\n",
      "http://storage.googleapis.com/patents/grant_full_text/1983/pftaps19831213_wk50.zip\n",
      "http://storage.googleapis.com/patents/grant_full_text/1983/pftaps19831220_wk51.zip\n",
      "http://storage.googleapis.com/patents/grant_full_text/1983/pftaps19831227_wk52.zip\n",
      "http://storage.googleapis.com/patents/grant_full_text/1982/pftaps19820105_wk01.zip\n",
      "http://storage.googleapis.com/patents/grant_full_text/1982/pftaps19820112_wk02.zip\n",
      "http://storage.googleapis.com/patents/grant_full_text/1982/pftaps19820119_wk03.zip\n",
      "http://storage.googleapis.com/patents/grant_full_text/1982/pftaps19820126_wk04.zip\n",
      "http://storage.googleapis.com/patents/grant_full_text/1982/pftaps19820202_wk05.zip\n",
      "http://storage.googleapis.com/patents/grant_full_text/1982/pftaps19820209_wk06.zip\n",
      "http://storage.googleapis.com/patents/grant_full_text/1982/pftaps19820216_wk07.zip\n",
      "http://storage.googleapis.com/patents/grant_full_text/1982/pftaps19820223_wk08.zip\n",
      "http://storage.googleapis.com/patents/grant_full_text/1982/pftaps19820302_wk09.zip\n",
      "http://storage.googleapis.com/patents/grant_full_text/1982/pftaps19820309_wk10.zip\n",
      "http://storage.googleapis.com/patents/grant_full_text/1982/pftaps19820316_wk11.zip\n",
      "http://storage.googleapis.com/patents/grant_full_text/1982/pftaps19820323_wk12.zip\n",
      "http://storage.googleapis.com/patents/grant_full_text/1982/pftaps19820330_wk13.zip\n",
      "http://storage.googleapis.com/patents/grant_full_text/1982/pftaps19820406_wk14.zip\n",
      "http://storage.googleapis.com/patents/grant_full_text/1982/pftaps19820413_wk15.zip\n",
      "http://storage.googleapis.com/patents/grant_full_text/1982/pftaps19820420_wk16.zip\n",
      "http://storage.googleapis.com/patents/grant_full_text/1982/pftaps19820427_wk17.zip\n",
      "http://storage.googleapis.com/patents/grant_full_text/1982/pftaps19820504_wk18.zip\n",
      "http://storage.googleapis.com/patents/grant_full_text/1982/pftaps19820511_wk19.zip\n",
      "http://storage.googleapis.com/patents/grant_full_text/1982/pftaps19820518_wk20.zip\n",
      "http://storage.googleapis.com/patents/grant_full_text/1982/pftaps19820525_wk21.zip\n",
      "http://storage.googleapis.com/patents/grant_full_text/1982/pftaps19820601_wk22.zip\n",
      "http://storage.googleapis.com/patents/grant_full_text/1982/pftaps19820608_wk23.zip\n",
      "http://storage.googleapis.com/patents/grant_full_text/1982/pftaps19820615_wk24.zip\n",
      "http://storage.googleapis.com/patents/grant_full_text/1982/pftaps19820622_wk25.zip\n",
      "http://storage.googleapis.com/patents/grant_full_text/1982/pftaps19820629_wk26.zip\n",
      "http://storage.googleapis.com/patents/grant_full_text/1982/pftaps19820706_wk27.zip\n",
      "http://storage.googleapis.com/patents/grant_full_text/1982/pftaps19820713_wk28.zip\n",
      "http://storage.googleapis.com/patents/grant_full_text/1982/pftaps19820720_wk29.zip\n",
      "http://storage.googleapis.com/patents/grant_full_text/1982/pftaps19820727_wk30.zip\n",
      "http://storage.googleapis.com/patents/grant_full_text/1982/pftaps19820803_wk31.zip\n",
      "http://storage.googleapis.com/patents/grant_full_text/1982/pftaps19820810_wk32.zip\n",
      "http://storage.googleapis.com/patents/grant_full_text/1982/pftaps19820817_wk33.zip\n",
      "http://storage.googleapis.com/patents/grant_full_text/1982/pftaps19820824_wk34.zip\n",
      "http://storage.googleapis.com/patents/grant_full_text/1982/pftaps19820831_wk35.zip\n",
      "http://storage.googleapis.com/patents/grant_full_text/1982/pftaps19820907_wk36.zip\n",
      "http://storage.googleapis.com/patents/grant_full_text/1982/pftaps19820914_wk37.zip\n",
      "http://storage.googleapis.com/patents/grant_full_text/1982/pftaps19820921_wk38.zip\n",
      "http://storage.googleapis.com/patents/grant_full_text/1982/pftaps19820928_wk39.zip\n",
      "http://storage.googleapis.com/patents/grant_full_text/1982/pftaps19821005_wk40.zip\n",
      "http://storage.googleapis.com/patents/grant_full_text/1982/pftaps19821012_wk41.zip\n",
      "http://storage.googleapis.com/patents/grant_full_text/1982/pftaps19821019_wk42.zip\n",
      "http://storage.googleapis.com/patents/grant_full_text/1982/pftaps19821026_wk43.zip\n",
      "http://storage.googleapis.com/patents/grant_full_text/1982/pftaps19821102_wk44.zip\n",
      "http://storage.googleapis.com/patents/grant_full_text/1982/pftaps19821109_wk45.zip\n",
      "http://storage.googleapis.com/patents/grant_full_text/1982/pftaps19821116_wk46.zip\n",
      "http://storage.googleapis.com/patents/grant_full_text/1982/pftaps19821123_wk47.zip\n",
      "http://storage.googleapis.com/patents/grant_full_text/1982/pftaps19821130_wk48.zip\n",
      "http://storage.googleapis.com/patents/grant_full_text/1982/pftaps19821207_wk49.zip\n",
      "http://storage.googleapis.com/patents/grant_full_text/1982/pftaps19821214_wk50.zip\n",
      "http://storage.googleapis.com/patents/grant_full_text/1982/pftaps19821221_wk51.zip\n",
      "http://storage.googleapis.com/patents/grant_full_text/1982/pftaps19821228_wk52.zip\n",
      "http://storage.googleapis.com/patents/grant_full_text/1981/pftaps19810106_wk01.zip\n",
      "http://storage.googleapis.com/patents/grant_full_text/1981/pftaps19810113_wk02.zip\n",
      "http://storage.googleapis.com/patents/grant_full_text/1981/pftaps19810120_wk03.zip\n",
      "http://storage.googleapis.com/patents/grant_full_text/1981/pftaps19810127_wk04.zip\n",
      "http://storage.googleapis.com/patents/grant_full_text/1981/pftaps19810203_wk05.zip\n",
      "http://storage.googleapis.com/patents/grant_full_text/1981/pftaps19810210_wk06.zip\n",
      "http://storage.googleapis.com/patents/grant_full_text/1981/pftaps19810217_wk07.zip\n",
      "http://storage.googleapis.com/patents/grant_full_text/1981/pftaps19810224_wk08.zip\n",
      "http://storage.googleapis.com/patents/grant_full_text/1981/pftaps19810303_wk09.zip\n",
      "http://storage.googleapis.com/patents/grant_full_text/1981/pftaps19810310_wk10.zip\n",
      "http://storage.googleapis.com/patents/grant_full_text/1981/pftaps19810317_wk11.zip\n",
      "http://storage.googleapis.com/patents/grant_full_text/1981/pftaps19810324_wk12.zip\n",
      "http://storage.googleapis.com/patents/grant_full_text/1981/pftaps19810331_wk13.zip\n",
      "http://storage.googleapis.com/patents/grant_full_text/1981/pftaps19810407_wk14.zip\n",
      "http://storage.googleapis.com/patents/grant_full_text/1981/pftaps19810414_wk15.zip\n",
      "http://storage.googleapis.com/patents/grant_full_text/1981/pftaps19810421_wk16.zip\n",
      "http://storage.googleapis.com/patents/grant_full_text/1981/pftaps19810428_wk17.zip\n",
      "http://storage.googleapis.com/patents/grant_full_text/1981/pftaps19810505_wk18.zip\n",
      "http://storage.googleapis.com/patents/grant_full_text/1981/pftaps19810512_wk19.zip\n",
      "http://storage.googleapis.com/patents/grant_full_text/1981/pftaps19810519_wk20.zip\n",
      "http://storage.googleapis.com/patents/grant_full_text/1981/pftaps19810526_wk21.zip\n",
      "http://storage.googleapis.com/patents/grant_full_text/1981/pftaps19810602_wk22.zip\n",
      "http://storage.googleapis.com/patents/grant_full_text/1981/pftaps19810609_wk23.zip\n",
      "http://storage.googleapis.com/patents/grant_full_text/1981/pftaps19810616_wk24.zip\n",
      "http://storage.googleapis.com/patents/grant_full_text/1981/pftaps19810623_wk25.zip\n",
      "http://storage.googleapis.com/patents/grant_full_text/1981/pftaps19810630_wk26.zip\n",
      "http://storage.googleapis.com/patents/grant_full_text/1981/pftaps19810707_wk27.zip\n",
      "http://storage.googleapis.com/patents/grant_full_text/1981/pftaps19810714_wk28.zip\n",
      "http://storage.googleapis.com/patents/grant_full_text/1981/pftaps19810721_wk29.zip\n",
      "http://storage.googleapis.com/patents/grant_full_text/1981/pftaps19810728_wk30.zip\n",
      "http://storage.googleapis.com/patents/grant_full_text/1981/pftaps19810804_wk31.zip\n",
      "http://storage.googleapis.com/patents/grant_full_text/1981/pftaps19810811_wk32.zip\n",
      "http://storage.googleapis.com/patents/grant_full_text/1981/pftaps19810818_wk33.zip\n",
      "http://storage.googleapis.com/patents/grant_full_text/1981/pftaps19810825_wk34.zip\n",
      "http://storage.googleapis.com/patents/grant_full_text/1981/pftaps19810901_wk35.zip\n",
      "http://storage.googleapis.com/patents/grant_full_text/1981/pftaps19810908_wk36.zip\n",
      "http://storage.googleapis.com/patents/grant_full_text/1981/pftaps19810915_wk37.zip\n",
      "http://storage.googleapis.com/patents/grant_full_text/1981/pftaps19810922_wk38.zip\n",
      "http://storage.googleapis.com/patents/grant_full_text/1981/pftaps19810929_wk39.zip\n",
      "http://storage.googleapis.com/patents/grant_full_text/1981/pftaps19811006_wk40.zip\n",
      "http://storage.googleapis.com/patents/grant_full_text/1981/pftaps19811013_wk41.zip\n",
      "http://storage.googleapis.com/patents/grant_full_text/1981/pftaps19811020_wk42.zip\n",
      "http://storage.googleapis.com/patents/grant_full_text/1981/pftaps19811027_wk43.zip\n",
      "http://storage.googleapis.com/patents/grant_full_text/1981/pftaps19811103_wk44.zip\n",
      "http://storage.googleapis.com/patents/grant_full_text/1981/pftaps19811110_wk45.zip\n",
      "http://storage.googleapis.com/patents/grant_full_text/1981/pftaps19811117_wk46.zip\n",
      "http://storage.googleapis.com/patents/grant_full_text/1981/pftaps19811124_wk47.zip\n",
      "http://storage.googleapis.com/patents/grant_full_text/1981/pftaps19811201_wk48.zip\n",
      "http://storage.googleapis.com/patents/grant_full_text/1981/pftaps19811208_wk49.zip\n",
      "http://storage.googleapis.com/patents/grant_full_text/1981/pftaps19811215_wk50.zip\n",
      "http://storage.googleapis.com/patents/grant_full_text/1981/pftaps19811222_wk51.zip\n",
      "http://storage.googleapis.com/patents/grant_full_text/1981/pftaps19811229_wk52.zip\n",
      "http://storage.googleapis.com/patents/grant_full_text/1980/pftaps19800101_wk01.zip\n",
      "http://storage.googleapis.com/patents/grant_full_text/1980/pftaps19800108_wk02.zip\n",
      "http://storage.googleapis.com/patents/grant_full_text/1980/pftaps19800115_wk03.zip\n",
      "http://storage.googleapis.com/patents/grant_full_text/1980/pftaps19800122_wk04.zip\n",
      "http://storage.googleapis.com/patents/grant_full_text/1980/pftaps19800129_wk05.zip\n",
      "http://storage.googleapis.com/patents/grant_full_text/1980/pftaps19800205_wk06.zip\n",
      "http://storage.googleapis.com/patents/grant_full_text/1980/pftaps19800212_wk07.zip\n",
      "http://storage.googleapis.com/patents/grant_full_text/1980/pftaps19800219_wk08.zip\n",
      "http://storage.googleapis.com/patents/grant_full_text/1980/pftaps19800226_wk09.zip\n",
      "http://storage.googleapis.com/patents/grant_full_text/1980/pftaps19800304_wk10.zip\n",
      "http://storage.googleapis.com/patents/grant_full_text/1980/pftaps19800311_wk11.zip\n",
      "http://storage.googleapis.com/patents/grant_full_text/1980/pftaps19800318_wk12.zip\n",
      "http://storage.googleapis.com/patents/grant_full_text/1980/pftaps19800325_wk13.zip\n",
      "http://storage.googleapis.com/patents/grant_full_text/1980/pftaps19800401_wk14.zip\n",
      "http://storage.googleapis.com/patents/grant_full_text/1980/pftaps19800408_wk15.zip\n",
      "http://storage.googleapis.com/patents/grant_full_text/1980/pftaps19800415_wk16.zip\n",
      "http://storage.googleapis.com/patents/grant_full_text/1980/pftaps19800422_wk17.zip\n",
      "http://storage.googleapis.com/patents/grant_full_text/1980/pftaps19800429_wk18.zip\n",
      "http://storage.googleapis.com/patents/grant_full_text/1980/pftaps19800506_wk19.zip\n",
      "http://storage.googleapis.com/patents/grant_full_text/1980/pftaps19800513_wk20.zip\n",
      "http://storage.googleapis.com/patents/grant_full_text/1980/pftaps19800520_wk21.zip\n",
      "http://storage.googleapis.com/patents/grant_full_text/1980/pftaps19800527_wk22.zip\n",
      "http://storage.googleapis.com/patents/grant_full_text/1980/pftaps19800603_wk23.zip\n",
      "http://storage.googleapis.com/patents/grant_full_text/1980/pftaps19800610_wk24.zip\n",
      "http://storage.googleapis.com/patents/grant_full_text/1980/pftaps19800617_wk25.zip\n",
      "http://storage.googleapis.com/patents/grant_full_text/1980/pftaps19800624_wk26.zip\n",
      "http://storage.googleapis.com/patents/grant_full_text/1980/pftaps19800701_wk27.zip\n",
      "http://storage.googleapis.com/patents/grant_full_text/1980/pftaps19800708_wk28.zip\n",
      "http://storage.googleapis.com/patents/grant_full_text/1980/pftaps19800715_wk29.zip\n",
      "http://storage.googleapis.com/patents/grant_full_text/1980/pftaps19800722_wk30.zip\n",
      "http://storage.googleapis.com/patents/grant_full_text/1980/pftaps19800729_wk31.zip\n",
      "http://storage.googleapis.com/patents/grant_full_text/1980/pftaps19800805_wk32.zip\n",
      "http://storage.googleapis.com/patents/grant_full_text/1980/pftaps19800812_wk33.zip\n",
      "http://storage.googleapis.com/patents/grant_full_text/1980/pftaps19800819_wk34.zip\n",
      "http://storage.googleapis.com/patents/grant_full_text/1980/pftaps19800826_wk35.zip\n",
      "http://storage.googleapis.com/patents/grant_full_text/1980/pftaps19800902_wk36.zip\n",
      "http://storage.googleapis.com/patents/grant_full_text/1980/pftaps19800909_wk37.zip\n",
      "http://storage.googleapis.com/patents/grant_full_text/1980/pftaps19800916_wk38.zip\n",
      "http://storage.googleapis.com/patents/grant_full_text/1980/pftaps19800923_wk39.zip\n",
      "http://storage.googleapis.com/patents/grant_full_text/1980/pftaps19800930_wk40.zip\n",
      "http://storage.googleapis.com/patents/grant_full_text/1980/pftaps19801007_wk41.zip\n",
      "http://storage.googleapis.com/patents/grant_full_text/1980/pftaps19801014_wk42.zip\n",
      "http://storage.googleapis.com/patents/grant_full_text/1980/pftaps19801021_wk43.zip\n",
      "http://storage.googleapis.com/patents/grant_full_text/1980/pftaps19801028_wk44.zip\n",
      "http://storage.googleapis.com/patents/grant_full_text/1980/pftaps19801104_wk45.zip\n",
      "http://storage.googleapis.com/patents/grant_full_text/1980/pftaps19801111_wk46.zip\n",
      "http://storage.googleapis.com/patents/grant_full_text/1980/pftaps19801118_wk47.zip\n",
      "http://storage.googleapis.com/patents/grant_full_text/1980/pftaps19801125_wk48.zip\n",
      "http://storage.googleapis.com/patents/grant_full_text/1980/pftaps19801202_wk49.zip\n",
      "http://storage.googleapis.com/patents/grant_full_text/1980/pftaps19801209_wk50.zip\n",
      "http://storage.googleapis.com/patents/grant_full_text/1980/pftaps19801216_wk51.zip\n",
      "http://storage.googleapis.com/patents/grant_full_text/1980/pftaps19801223_wk52.zip\n",
      "http://storage.googleapis.com/patents/grant_full_text/1980/pftaps19801230_wk53.zip\n",
      "http://storage.googleapis.com/patents/grant_full_text/1979/pftaps19790102_wk01.zip\n",
      "http://storage.googleapis.com/patents/grant_full_text/1979/pftaps19790109_wk02.zip\n",
      "http://storage.googleapis.com/patents/grant_full_text/1979/pftaps19790116_wk03.zip\n",
      "http://storage.googleapis.com/patents/grant_full_text/1979/pftaps19790123_wk04.zip\n",
      "http://storage.googleapis.com/patents/grant_full_text/1979/pftaps19790130_wk05.zip\n",
      "http://storage.googleapis.com/patents/grant_full_text/1979/pftaps19790206_wk06.zip\n",
      "http://storage.googleapis.com/patents/grant_full_text/1979/pftaps19790213_wk07.zip\n",
      "http://storage.googleapis.com/patents/grant_full_text/1979/pftaps19790220_wk08.zip\n",
      "http://storage.googleapis.com/patents/grant_full_text/1979/pftaps19790227_wk09.zip\n",
      "http://storage.googleapis.com/patents/grant_full_text/1979/pftaps19790306_wk10.zip\n",
      "http://storage.googleapis.com/patents/grant_full_text/1979/pftaps19790313_wk11.zip\n",
      "http://storage.googleapis.com/patents/grant_full_text/1979/pftaps19790320_wk12.zip\n",
      "http://storage.googleapis.com/patents/grant_full_text/1979/pftaps19790327_wk13.zip\n",
      "http://storage.googleapis.com/patents/grant_full_text/1979/pftaps19790403_wk14.zip\n",
      "http://storage.googleapis.com/patents/grant_full_text/1979/pftaps19790410_wk15.zip\n",
      "http://storage.googleapis.com/patents/grant_full_text/1979/pftaps19790417_wk16.zip\n",
      "http://storage.googleapis.com/patents/grant_full_text/1979/pftaps19790424_wk17.zip\n",
      "http://storage.googleapis.com/patents/grant_full_text/1979/pftaps19790501_wk18.zip\n",
      "http://storage.googleapis.com/patents/grant_full_text/1979/pftaps19790508_wk19.zip\n",
      "http://storage.googleapis.com/patents/grant_full_text/1979/pftaps19790515_wk20.zip\n",
      "http://storage.googleapis.com/patents/grant_full_text/1979/pftaps19790522_wk21.zip\n",
      "http://storage.googleapis.com/patents/grant_full_text/1979/pftaps19790529_wk22.zip\n",
      "http://storage.googleapis.com/patents/grant_full_text/1979/pftaps19790605_wk23.zip\n",
      "http://storage.googleapis.com/patents/grant_full_text/1979/pftaps19790612_wk24.zip\n",
      "http://storage.googleapis.com/patents/grant_full_text/1979/pftaps19790619_wk25.zip\n",
      "http://storage.googleapis.com/patents/grant_full_text/1979/pftaps19790626_wk26.zip\n",
      "http://storage.googleapis.com/patents/grant_full_text/1979/pftaps19790703_wk27.zip\n",
      "http://storage.googleapis.com/patents/grant_full_text/1979/pftaps19790710_wk28.zip\n",
      "http://storage.googleapis.com/patents/grant_full_text/1979/pftaps19790717_wk29.zip\n",
      "http://storage.googleapis.com/patents/grant_full_text/1979/pftaps19790724_wk30.zip\n",
      "http://storage.googleapis.com/patents/grant_full_text/1979/pftaps19790731_wk31.zip\n",
      "http://storage.googleapis.com/patents/grant_full_text/1979/pftaps19790807_wk32.zip\n",
      "http://storage.googleapis.com/patents/grant_full_text/1979/pftaps19790814_wk33.zip\n",
      "http://storage.googleapis.com/patents/grant_full_text/1979/pftaps19790821_wk34.zip\n",
      "http://storage.googleapis.com/patents/grant_full_text/1979/pftaps19790828_wk35.zip\n",
      "http://storage.googleapis.com/patents/grant_full_text/1979/pftaps19790904_wk36.zip\n",
      "http://storage.googleapis.com/patents/grant_full_text/1979/pftaps19790911_wk37.zip\n",
      "http://storage.googleapis.com/patents/grant_full_text/1979/pftaps19790918_wk38.zip\n",
      "http://storage.googleapis.com/patents/grant_full_text/1979/pftaps19790925_wk39.zip\n",
      "http://storage.googleapis.com/patents/grant_full_text/1979/pftaps19791002_wk40.zip\n",
      "http://storage.googleapis.com/patents/grant_full_text/1979/pftaps19791009_wk41.zip\n",
      "http://storage.googleapis.com/patents/grant_full_text/1979/pftaps19791016_wk42.zip\n",
      "http://storage.googleapis.com/patents/grant_full_text/1979/pftaps19791023_wk43.zip\n",
      "http://storage.googleapis.com/patents/grant_full_text/1979/pftaps19791030_wk44.zip\n",
      "http://storage.googleapis.com/patents/grant_full_text/1979/pftaps19791106_wk45.zip\n",
      "http://storage.googleapis.com/patents/grant_full_text/1979/pftaps19791113_wk46.zip\n",
      "http://storage.googleapis.com/patents/grant_full_text/1979/pftaps19791120_wk47.zip\n",
      "http://storage.googleapis.com/patents/grant_full_text/1979/pftaps19791127_wk48.zip\n",
      "http://storage.googleapis.com/patents/grant_full_text/1979/pftaps19791204_wk49.zip\n",
      "http://storage.googleapis.com/patents/grant_full_text/1979/pftaps19791211_wk50.zip\n",
      "http://storage.googleapis.com/patents/grant_full_text/1979/pftaps19791218_wk51.zip\n",
      "http://storage.googleapis.com/patents/grant_full_text/1979/pftaps19791225_wk52.zip\n",
      "http://storage.googleapis.com/patents/grant_full_text/1978/pftaps19780103_wk01.zip\n",
      "http://storage.googleapis.com/patents/grant_full_text/1978/pftaps19780110_wk02.zip\n",
      "http://storage.googleapis.com/patents/grant_full_text/1978/pftaps19780117_wk03.zip\n",
      "http://storage.googleapis.com/patents/grant_full_text/1978/pftaps19780124_wk04.zip\n",
      "http://storage.googleapis.com/patents/grant_full_text/1978/pftaps19780131_wk05.zip\n",
      "http://storage.googleapis.com/patents/grant_full_text/1978/pftaps19780207_wk06.zip\n",
      "http://storage.googleapis.com/patents/grant_full_text/1978/pftaps19780214_wk07.zip\n",
      "http://storage.googleapis.com/patents/grant_full_text/1978/pftaps19780221_wk08.zip\n",
      "http://storage.googleapis.com/patents/grant_full_text/1978/pftaps19780228_wk09.zip\n",
      "http://storage.googleapis.com/patents/grant_full_text/1978/pftaps19780307_wk10.zip\n",
      "http://storage.googleapis.com/patents/grant_full_text/1978/pftaps19780314_wk11.zip\n",
      "http://storage.googleapis.com/patents/grant_full_text/1978/pftaps19780321_wk12.zip\n",
      "http://storage.googleapis.com/patents/grant_full_text/1978/pftaps19780328_wk13.zip\n",
      "http://storage.googleapis.com/patents/grant_full_text/1978/pftaps19780404_wk14.zip\n",
      "http://storage.googleapis.com/patents/grant_full_text/1978/pftaps19780411_wk15.zip\n",
      "http://storage.googleapis.com/patents/grant_full_text/1978/pftaps19780418_wk16.zip\n",
      "http://storage.googleapis.com/patents/grant_full_text/1978/pftaps19780425_wk17.zip\n",
      "http://storage.googleapis.com/patents/grant_full_text/1978/pftaps19780502_wk18.zip\n",
      "http://storage.googleapis.com/patents/grant_full_text/1978/pftaps19780509_wk19.zip\n",
      "http://storage.googleapis.com/patents/grant_full_text/1978/pftaps19780516_wk20.zip\n",
      "http://storage.googleapis.com/patents/grant_full_text/1978/pftaps19780523_wk21.zip\n",
      "http://storage.googleapis.com/patents/grant_full_text/1978/pftaps19780530_wk22.zip\n",
      "http://storage.googleapis.com/patents/grant_full_text/1978/pftaps19780606_wk23.zip\n",
      "http://storage.googleapis.com/patents/grant_full_text/1978/pftaps19780613_wk24.zip\n",
      "http://storage.googleapis.com/patents/grant_full_text/1978/pftaps19780620_wk25.zip\n",
      "http://storage.googleapis.com/patents/grant_full_text/1978/pftaps19780627_wk26.zip\n",
      "http://storage.googleapis.com/patents/grant_full_text/1978/pftaps19780704_wk27.zip\n",
      "http://storage.googleapis.com/patents/grant_full_text/1978/pftaps19780711_wk28.zip\n",
      "http://storage.googleapis.com/patents/grant_full_text/1978/pftaps19780718_wk29.zip\n",
      "http://storage.googleapis.com/patents/grant_full_text/1978/pftaps19780725_wk30.zip\n",
      "http://storage.googleapis.com/patents/grant_full_text/1978/pftaps19780801_wk31.zip\n",
      "http://storage.googleapis.com/patents/grant_full_text/1978/pftaps19780808_wk32.zip\n",
      "http://storage.googleapis.com/patents/grant_full_text/1978/pftaps19780815_wk33.zip\n",
      "http://storage.googleapis.com/patents/grant_full_text/1978/pftaps19780822_wk34.zip\n",
      "http://storage.googleapis.com/patents/grant_full_text/1978/pftaps19780829_wk35.zip\n",
      "http://storage.googleapis.com/patents/grant_full_text/1978/pftaps19780905_wk36.zip\n",
      "http://storage.googleapis.com/patents/grant_full_text/1978/pftaps19780912_wk37.zip\n",
      "http://storage.googleapis.com/patents/grant_full_text/1978/pftaps19780919_wk38.zip\n",
      "http://storage.googleapis.com/patents/grant_full_text/1978/pftaps19780926_wk39.zip\n",
      "http://storage.googleapis.com/patents/grant_full_text/1978/pftaps19781003_wk40.zip\n",
      "http://storage.googleapis.com/patents/grant_full_text/1978/pftaps19781010_wk41.zip\n",
      "http://storage.googleapis.com/patents/grant_full_text/1978/pftaps19781017_wk42.zip\n",
      "http://storage.googleapis.com/patents/grant_full_text/1978/pftaps19781024_wk43.zip\n",
      "http://storage.googleapis.com/patents/grant_full_text/1978/pftaps19781031_wk44.zip\n",
      "http://storage.googleapis.com/patents/grant_full_text/1978/pftaps19781107_wk45.zip\n",
      "http://storage.googleapis.com/patents/grant_full_text/1978/pftaps19781114_wk46.zip\n",
      "http://storage.googleapis.com/patents/grant_full_text/1978/pftaps19781121_wk47.zip\n",
      "http://storage.googleapis.com/patents/grant_full_text/1978/pftaps19781128_wk48.zip\n",
      "http://storage.googleapis.com/patents/grant_full_text/1978/pftaps19781205_wk49.zip\n",
      "http://storage.googleapis.com/patents/grant_full_text/1978/pftaps19781212_wk50.zip\n",
      "http://storage.googleapis.com/patents/grant_full_text/1978/pftaps19781219_wk51.zip\n",
      "http://storage.googleapis.com/patents/grant_full_text/1978/pftaps19781226_wk52.zip\n",
      "http://storage.googleapis.com/patents/grant_full_text/1977/pftaps19770104_wk01.zip\n",
      "http://storage.googleapis.com/patents/grant_full_text/1977/pftaps19770111_wk02.zip\n",
      "http://storage.googleapis.com/patents/grant_full_text/1977/pftaps19770118_wk03.zip\n",
      "http://storage.googleapis.com/patents/grant_full_text/1977/pftaps19770125_wk04.zip\n",
      "http://storage.googleapis.com/patents/grant_full_text/1977/pftaps19770201_wk05.zip\n",
      "http://storage.googleapis.com/patents/grant_full_text/1977/pftaps19770208_wk06.zip\n",
      "http://storage.googleapis.com/patents/grant_full_text/1977/pftaps19770215_wk07.zip\n",
      "http://storage.googleapis.com/patents/grant_full_text/1977/pftaps19770222_wk08.zip\n",
      "http://storage.googleapis.com/patents/grant_full_text/1977/pftaps19770301_wk09.zip\n",
      "http://storage.googleapis.com/patents/grant_full_text/1977/pftaps19770308_wk10.zip\n",
      "http://storage.googleapis.com/patents/grant_full_text/1977/pftaps19770315_wk11.zip\n",
      "http://storage.googleapis.com/patents/grant_full_text/1977/pftaps19770322_wk12.zip\n",
      "http://storage.googleapis.com/patents/grant_full_text/1977/pftaps19770329_wk13.zip\n",
      "http://storage.googleapis.com/patents/grant_full_text/1977/pftaps19770405_wk14.zip\n",
      "http://storage.googleapis.com/patents/grant_full_text/1977/pftaps19770412_wk15.zip\n",
      "http://storage.googleapis.com/patents/grant_full_text/1977/pftaps19770419_wk16.zip\n",
      "http://storage.googleapis.com/patents/grant_full_text/1977/pftaps19770426_wk17.zip\n",
      "http://storage.googleapis.com/patents/grant_full_text/1977/pftaps19770503_wk18.zip\n",
      "http://storage.googleapis.com/patents/grant_full_text/1977/pftaps19770510_wk19.zip\n",
      "http://storage.googleapis.com/patents/grant_full_text/1977/pftaps19770517_wk20.zip\n",
      "http://storage.googleapis.com/patents/grant_full_text/1977/pftaps19770524_wk21.zip\n",
      "http://storage.googleapis.com/patents/grant_full_text/1977/pftaps19770531_wk22.zip\n",
      "http://storage.googleapis.com/patents/grant_full_text/1977/pftaps19770607_wk23.zip\n",
      "http://storage.googleapis.com/patents/grant_full_text/1977/pftaps19770614_wk24.zip\n",
      "http://storage.googleapis.com/patents/grant_full_text/1977/pftaps19770621_wk25.zip\n",
      "http://storage.googleapis.com/patents/grant_full_text/1977/pftaps19770628_wk26.zip\n",
      "http://storage.googleapis.com/patents/grant_full_text/1977/pftaps19770705_wk27.zip\n",
      "http://storage.googleapis.com/patents/grant_full_text/1977/pftaps19770712_wk28.zip\n",
      "http://storage.googleapis.com/patents/grant_full_text/1977/pftaps19770719_wk29.zip\n",
      "http://storage.googleapis.com/patents/grant_full_text/1977/pftaps19770726_wk30.zip\n",
      "http://storage.googleapis.com/patents/grant_full_text/1977/pftaps19770802_wk31.zip\n",
      "http://storage.googleapis.com/patents/grant_full_text/1977/pftaps19770809_wk32.zip\n",
      "http://storage.googleapis.com/patents/grant_full_text/1977/pftaps19770816_wk33.zip\n",
      "http://storage.googleapis.com/patents/grant_full_text/1977/pftaps19770823_wk34.zip\n",
      "http://storage.googleapis.com/patents/grant_full_text/1977/pftaps19770830_wk35.zip\n",
      "http://storage.googleapis.com/patents/grant_full_text/1977/pftaps19770906_wk36.zip\n",
      "http://storage.googleapis.com/patents/grant_full_text/1977/pftaps19770913_wk37.zip\n",
      "http://storage.googleapis.com/patents/grant_full_text/1977/pftaps19770920_wk38.zip\n",
      "http://storage.googleapis.com/patents/grant_full_text/1977/pftaps19770927_wk39.zip\n",
      "http://storage.googleapis.com/patents/grant_full_text/1977/pftaps19771004_wk40.zip\n",
      "http://storage.googleapis.com/patents/grant_full_text/1977/pftaps19771011_wk41.zip\n",
      "http://storage.googleapis.com/patents/grant_full_text/1977/pftaps19771018_wk42.zip\n",
      "http://storage.googleapis.com/patents/grant_full_text/1977/pftaps19771025_wk43.zip\n",
      "http://storage.googleapis.com/patents/grant_full_text/1977/pftaps19771101_wk44.zip\n",
      "http://storage.googleapis.com/patents/grant_full_text/1977/pftaps19771108_wk45.zip\n",
      "http://storage.googleapis.com/patents/grant_full_text/1977/pftaps19771115_wk46.zip\n",
      "http://storage.googleapis.com/patents/grant_full_text/1977/pftaps19771122_wk47.zip\n",
      "http://storage.googleapis.com/patents/grant_full_text/1977/pftaps19771129_wk48.zip\n",
      "http://storage.googleapis.com/patents/grant_full_text/1977/pftaps19771206_wk49.zip\n",
      "http://storage.googleapis.com/patents/grant_full_text/1977/pftaps19771213_wk50.zip\n",
      "http://storage.googleapis.com/patents/grant_full_text/1977/pftaps19771220_wk51.zip\n",
      "http://storage.googleapis.com/patents/grant_full_text/1977/pftaps19771227_wk52.zip\n",
      "http://storage.googleapis.com/patents/grant_full_text/1976/pftaps19760106_wk01.zip\n",
      "http://storage.googleapis.com/patents/grant_full_text/1976/pftaps19760113_wk02.zip\n",
      "http://storage.googleapis.com/patents/grant_full_text/1976/pftaps19760120_wk03.zip\n",
      "http://storage.googleapis.com/patents/grant_full_text/1976/pftaps19760127_wk04.zip\n",
      "http://storage.googleapis.com/patents/grant_full_text/1976/pftaps19760203_wk05.zip\n",
      "http://storage.googleapis.com/patents/grant_full_text/1976/pftaps19760210_wk06.zip\n",
      "http://storage.googleapis.com/patents/grant_full_text/1976/pftaps19760217_wk07.zip\n",
      "http://storage.googleapis.com/patents/grant_full_text/1976/pftaps19760224_wk08.zip\n",
      "http://storage.googleapis.com/patents/grant_full_text/1976/pftaps19760302_wk09.zip\n",
      "http://storage.googleapis.com/patents/grant_full_text/1976/pftaps19760309_wk10.zip\n",
      "http://storage.googleapis.com/patents/grant_full_text/1976/pftaps19760316_wk11.zip\n",
      "http://storage.googleapis.com/patents/grant_full_text/1976/pftaps19760323_wk12.zip\n",
      "http://storage.googleapis.com/patents/grant_full_text/1976/pftaps19760330_wk13.zip\n",
      "http://storage.googleapis.com/patents/grant_full_text/1976/pftaps19760406_wk14.zip\n",
      "http://storage.googleapis.com/patents/grant_full_text/1976/pftaps19760413_wk15.zip\n",
      "http://storage.googleapis.com/patents/grant_full_text/1976/pftaps19760420_wk16.zip\n",
      "http://storage.googleapis.com/patents/grant_full_text/1976/pftaps19760427_wk17.zip\n",
      "http://storage.googleapis.com/patents/grant_full_text/1976/pftaps19760504_wk18.zip\n",
      "http://storage.googleapis.com/patents/grant_full_text/1976/pftaps19760511_wk19.zip\n",
      "http://storage.googleapis.com/patents/grant_full_text/1976/pftaps19760518_wk20.zip\n",
      "http://storage.googleapis.com/patents/grant_full_text/1976/pftaps19760525_wk21.zip\n",
      "http://storage.googleapis.com/patents/grant_full_text/1976/pftaps19760601_wk22.zip\n",
      "http://storage.googleapis.com/patents/grant_full_text/1976/pftaps19760608_wk23.zip\n",
      "http://storage.googleapis.com/patents/grant_full_text/1976/pftaps19760615_wk24.zip\n",
      "http://storage.googleapis.com/patents/grant_full_text/1976/pftaps19760622_wk25.zip\n",
      "http://storage.googleapis.com/patents/grant_full_text/1976/pftaps19760629_wk26.zip\n",
      "http://storage.googleapis.com/patents/grant_full_text/1976/pftaps19760706_wk27.zip\n",
      "http://storage.googleapis.com/patents/grant_full_text/1976/pftaps19760713_wk28.zip\n",
      "http://storage.googleapis.com/patents/grant_full_text/1976/pftaps19760720_wk29.zip\n",
      "http://storage.googleapis.com/patents/grant_full_text/1976/pftaps19760727_wk30.zip\n",
      "http://storage.googleapis.com/patents/grant_full_text/1976/pftaps19760803_wk31.zip\n",
      "http://storage.googleapis.com/patents/grant_full_text/1976/pftaps19760810_wk32.zip\n",
      "http://storage.googleapis.com/patents/grant_full_text/1976/pftaps19760817_wk33.zip\n",
      "http://storage.googleapis.com/patents/grant_full_text/1976/pftaps19760824_wk34.zip\n",
      "http://storage.googleapis.com/patents/grant_full_text/1976/pftaps19760831_wk35.zip\n",
      "http://storage.googleapis.com/patents/grant_full_text/1976/pftaps19760907_wk36.zip\n",
      "http://storage.googleapis.com/patents/grant_full_text/1976/pftaps19760914_wk37.zip\n",
      "http://storage.googleapis.com/patents/grant_full_text/1976/pftaps19760921_wk38.zip\n",
      "http://storage.googleapis.com/patents/grant_full_text/1976/pftaps19760928_wk39.zip\n",
      "http://storage.googleapis.com/patents/grant_full_text/1976/pftaps19761005_wk40.zip\n",
      "http://storage.googleapis.com/patents/grant_full_text/1976/pftaps19761012_wk41.zip\n",
      "http://storage.googleapis.com/patents/grant_full_text/1976/pftaps19761019_wk42.zip\n",
      "http://storage.googleapis.com/patents/grant_full_text/1976/pftaps19761026_wk43.zip\n",
      "http://storage.googleapis.com/patents/grant_full_text/1976/pftaps19761102_wk44.zip\n",
      "http://storage.googleapis.com/patents/grant_full_text/1976/pftaps19761109_wk45.zip\n",
      "http://storage.googleapis.com/patents/grant_full_text/1976/pftaps19761116_wk46.zip\n",
      "http://storage.googleapis.com/patents/grant_full_text/1976/pftaps19761123_wk47.zip\n",
      "http://storage.googleapis.com/patents/grant_full_text/1976/pftaps19761130_wk48.zip\n",
      "http://storage.googleapis.com/patents/grant_full_text/1976/pftaps19761207_wk49.zip\n",
      "http://storage.googleapis.com/patents/grant_full_text/1976/pftaps19761214_wk50.zip\n",
      "http://storage.googleapis.com/patents/grant_full_text/1976/pftaps19761221_wk51.zip\n",
      "http://storage.googleapis.com/patents/grant_full_text/1976/pftaps19761228_wk52.zip\n"
     ]
    }
   ],
   "source": [
    "import urllib.request # urllib 모듈 호출\n",
    "import re\n",
    "\n",
    "url = \"http://www.google.com/googlebooks/uspto-patents-grants-text.html\" #url 값 입력\n",
    "html = urllib.request.urlopen(url) # url 열기\n",
    "html_contents = str(html.read().decode(\"utf8\")) # html 파일 읽고, 문자열로 변환\n",
    "\n",
    "url_list = re.findall(r\"(http)(.+)(zip)\", html_contents)\n",
    "for url in url_list:\n",
    "    print(\"\".join(url)) # 출력된 Tuple 형태 데이터 str으로 join"
   ]
  },
  {
   "cell_type": "code",
   "execution_count": 9,
   "metadata": {},
   "outputs": [
    {
     "name": "stdout",
     "output_type": "stream",
     "text": [
      "2022년 07월 19일 16시 11분 기준 장마감\n",
      "종목명 삼성전자\n",
      "종목코드 005930 코스피\n",
      "현재가 60,900 전일대비 하락 1,000 마이너스 1.62 퍼센트\n",
      "전일가 61,900\n",
      "시가 61,400\n",
      "고가 61,500\n",
      "상한가 80,400\n",
      "저가 60,200\n",
      "하한가 43,400\n",
      "거래량 15,140,679\n",
      "거래대금 919,379백만\n"
     ]
    }
   ],
   "source": [
    "import urllib.request\n",
    "import re\n",
    "\n",
    "url = \"http://finance.naver.com/item/main.nhn?code=005930\"\n",
    "html = urllib.request.urlopen(url)\n",
    "html_contents = str(html.read().decode(\"ms949\"))\n",
    "\n",
    "stock_results = re.findall(\"(\\<dl class=\\\"blind\\\"\\>)([\\s\\S]+?)(\\<\\/dl\\>)\", html_contents)\n",
    "samsung_stock = stock_results[0] # 두 개 tuple 값중 첫번째 패턴\n",
    "samsung_index = samsung_stock[1] # 세 개의 tuple 값중 두 번째 값\n",
    "                                # 하나의 괄호가 tuple index가 됨\n",
    "index_list= re.findall(\"(\\<dd\\>)([\\s\\S]+?)(\\<\\/dd\\>)\", samsung_index)\n",
    "for index in index_list:\n",
    "    print (index[1]) # 세 개의 tuple 값중 두 번째 값"
   ]
  },
  {
   "cell_type": "markdown",
   "metadata": {
    "collapsed": true
   },
   "source": [
    "### Numpy"
   ]
  },
  {
   "cell_type": "code",
   "execution_count": 1,
   "metadata": {
    "collapsed": true
   },
   "outputs": [],
   "source": [
    "import numpy as np"
   ]
  },
  {
   "cell_type": "code",
   "execution_count": 6,
   "metadata": {
    "collapsed": true
   },
   "outputs": [],
   "source": [
    "a = [1, 2, 3, 4, 5]\n",
    "b = [5, 4, 3, 2, 1]"
   ]
  },
  {
   "cell_type": "code",
   "execution_count": 7,
   "metadata": {},
   "outputs": [
    {
     "data": {
      "text/plain": [
       "array([1, 2, 3, 4, 5])"
      ]
     },
     "execution_count": 7,
     "metadata": {},
     "output_type": "execute_result"
    }
   ],
   "source": [
    "a = np.array(a, int)\n",
    "a"
   ]
  },
  {
   "cell_type": "code",
   "execution_count": 8,
   "metadata": {},
   "outputs": [
    {
     "data": {
      "text/plain": [
       "array([ 1.,  4.,  5.,  8.])"
      ]
     },
     "execution_count": 8,
     "metadata": {},
     "output_type": "execute_result"
    }
   ],
   "source": [
    "test_array = np.array([\"1\", \"4\", 5.0, 8], float) # String Type의 데이터를 입력해도\n",
    "test_array"
   ]
  },
  {
   "cell_type": "code",
   "execution_count": 10,
   "metadata": {},
   "outputs": [
    {
     "data": {
      "text/plain": [
       "numpy.ndarray"
      ]
     },
     "execution_count": 10,
     "metadata": {},
     "output_type": "execute_result"
    }
   ],
   "source": [
    "type(test_array)"
   ]
  },
  {
   "cell_type": "code",
   "execution_count": 11,
   "metadata": {},
   "outputs": [
    {
     "data": {
      "text/plain": [
       "numpy.float64"
      ]
     },
     "execution_count": 11,
     "metadata": {},
     "output_type": "execute_result"
    }
   ],
   "source": [
    "type(test_array[3]) # Float Type으로 자동 형변환을 실시"
   ]
  },
  {
   "cell_type": "code",
   "execution_count": 12,
   "metadata": {},
   "outputs": [
    {
     "data": {
      "text/plain": [
       "True"
      ]
     },
     "execution_count": 12,
     "metadata": {},
     "output_type": "execute_result"
    }
   ],
   "source": [
    "a = [1,2,3,4,5]\n",
    "b = [5,4,3,2,1]\n",
    "a[0] is b[-1] # 'is'는 메모리의 위치를 판별"
   ]
  },
  {
   "cell_type": "code",
   "execution_count": 13,
   "metadata": {},
   "outputs": [
    {
     "data": {
      "text/plain": [
       "False"
      ]
     },
     "execution_count": 13,
     "metadata": {},
     "output_type": "execute_result"
    }
   ],
   "source": [
    "a is b"
   ]
  },
  {
   "cell_type": "code",
   "execution_count": 14,
   "metadata": {},
   "outputs": [
    {
     "data": {
      "text/plain": [
       "False"
      ]
     },
     "execution_count": 14,
     "metadata": {},
     "output_type": "execute_result"
    }
   ],
   "source": [
    "a = np.array(a)\n",
    "b = np.array(b)\n",
    "a[0] is b[-1]"
   ]
  },
  {
   "cell_type": "code",
   "execution_count": 15,
   "metadata": {},
   "outputs": [
    {
     "data": {
      "text/plain": [
       "dtype('float64')"
      ]
     },
     "execution_count": 15,
     "metadata": {},
     "output_type": "execute_result"
    }
   ],
   "source": [
    "test_array.dtype"
   ]
  },
  {
   "cell_type": "code",
   "execution_count": 16,
   "metadata": {
    "collapsed": true
   },
   "outputs": [],
   "source": [
    "a = [[1, 2, 3], [4, 5, 6,], [7, 8, 9]]"
   ]
  },
  {
   "cell_type": "code",
   "execution_count": 17,
   "metadata": {},
   "outputs": [
    {
     "data": {
      "text/plain": [
       "(3, 3)"
      ]
     },
     "execution_count": 17,
     "metadata": {},
     "output_type": "execute_result"
    }
   ],
   "source": [
    "np.array(a).shape"
   ]
  },
  {
   "cell_type": "markdown",
   "metadata": {},
   "source": [
    "#### .array shape"
   ]
  },
  {
   "cell_type": "code",
   "execution_count": 18,
   "metadata": {},
   "outputs": [
    {
     "data": {
      "text/plain": [
       "(4,)"
      ]
     },
     "execution_count": 18,
     "metadata": {},
     "output_type": "execute_result"
    }
   ],
   "source": [
    "vector = [1, 2, 3, 4]\n",
    "np.array(vector, int).shape"
   ]
  },
  {
   "cell_type": "code",
   "execution_count": 21,
   "metadata": {},
   "outputs": [
    {
     "data": {
      "text/plain": [
       "(3, 4)"
      ]
     },
     "execution_count": 21,
     "metadata": {},
     "output_type": "execute_result"
    }
   ],
   "source": [
    "matrix = [[1, 2, 5, 8], [1, 2, 5, 8], [1, 2, 5, 8]]\n",
    "np.array(matrix, int).shape"
   ]
  },
  {
   "cell_type": "code",
   "execution_count": 22,
   "metadata": {},
   "outputs": [
    {
     "data": {
      "text/plain": [
       "(4, 3, 4)"
      ]
     },
     "execution_count": 22,
     "metadata": {},
     "output_type": "execute_result"
    }
   ],
   "source": [
    "tensor = [\n",
    "    [[1, 2, 5, 8], [1, 2, 5, 8], [1, 2, 5, 8]],\n",
    "    [[1, 2, 5, 8], [1, 2, 5, 8], [1, 2, 5, 8]],\n",
    "    [[1, 2, 5, 8], [1, 2, 5, 8], [1, 2, 5, 8]],\n",
    "    [[1, 2, 5, 8], [1, 2, 5, 8], [1, 2, 5, 8]]\n",
    "]\n",
    "np.array(tensor, int).shape"
   ]
  },
  {
   "cell_type": "code",
   "execution_count": 23,
   "metadata": {},
   "outputs": [
    {
     "data": {
      "text/plain": [
       "3"
      ]
     },
     "execution_count": 23,
     "metadata": {},
     "output_type": "execute_result"
    }
   ],
   "source": [
    "np.array(tensor, int).ndim # number of dimensions"
   ]
  },
  {
   "cell_type": "code",
   "execution_count": 24,
   "metadata": {},
   "outputs": [
    {
     "data": {
      "text/plain": [
       "48"
      ]
     },
     "execution_count": 24,
     "metadata": {},
     "output_type": "execute_result"
    }
   ],
   "source": [
    "np.array(tensor, int).size"
   ]
  },
  {
   "cell_type": "markdown",
   "metadata": {},
   "source": [
    "#### .numpy dtype"
   ]
  },
  {
   "cell_type": "code",
   "execution_count": 26,
   "metadata": {
    "collapsed": true
   },
   "outputs": [],
   "source": [
    "a = np.array([[1, 2, 3], [4.5, 5, 6]], dtype=np.int8)"
   ]
  },
  {
   "cell_type": "code",
   "execution_count": 27,
   "metadata": {},
   "outputs": [
    {
     "data": {
      "text/plain": [
       "dtype('int8')"
      ]
     },
     "execution_count": 27,
     "metadata": {},
     "output_type": "execute_result"
    }
   ],
   "source": [
    "a.dtype"
   ]
  },
  {
   "cell_type": "code",
   "execution_count": 28,
   "metadata": {},
   "outputs": [
    {
     "data": {
      "text/plain": [
       "24"
      ]
     },
     "execution_count": 28,
     "metadata": {},
     "output_type": "execute_result"
    }
   ],
   "source": [
    "np.array([[1, 2, 3],  [4.5, \"5\", \"6\"]], dtype=np.float32).nbytes"
   ]
  },
  {
   "cell_type": "code",
   "execution_count": 29,
   "metadata": {},
   "outputs": [
    {
     "data": {
      "text/plain": [
       "24"
      ]
     },
     "execution_count": 29,
     "metadata": {},
     "output_type": "execute_result"
    }
   ],
   "source": [
    "np.array([[1, 2, 3],  [4.5, \"5\", \"6\"]], dtype=np.int32).nbytes"
   ]
  },
  {
   "cell_type": "code",
   "execution_count": 30,
   "metadata": {},
   "outputs": [
    {
     "data": {
      "text/plain": [
       "6"
      ]
     },
     "execution_count": 30,
     "metadata": {},
     "output_type": "execute_result"
    }
   ],
   "source": [
    "np.array([[1, 2, 3],  [4.5, \"5\", \"6\"]], dtype=np.int8).nbytes"
   ]
  },
  {
   "cell_type": "code",
   "execution_count": 31,
   "metadata": {},
   "outputs": [
    {
     "data": {
      "text/plain": [
       "48"
      ]
     },
     "execution_count": 31,
     "metadata": {},
     "output_type": "execute_result"
    }
   ],
   "source": [
    "np.array([[1, 2, 3],  [4.5, \"5\", \"6\"]], dtype=np.float64).nbytes"
   ]
  },
  {
   "cell_type": "markdown",
   "metadata": {},
   "source": [
    "### Handling shape"
   ]
  },
  {
   "cell_type": "markdown",
   "metadata": {
    "collapsed": true
   },
   "source": [
    "#### .reshape"
   ]
  },
  {
   "cell_type": "code",
   "execution_count": 2,
   "metadata": {},
   "outputs": [
    {
     "data": {
      "text/plain": [
       "(2, 4)"
      ]
     },
     "execution_count": 2,
     "metadata": {},
     "output_type": "execute_result"
    }
   ],
   "source": [
    "import numpy as np\n",
    "\n",
    "test_matrix = [[1,2,3,4], [1,2,5,8]]\n",
    "np.array(test_matrix).shape"
   ]
  },
  {
   "cell_type": "code",
   "execution_count": 3,
   "metadata": {},
   "outputs": [
    {
     "data": {
      "text/plain": [
       "array([1, 2, 3, 4, 1, 2, 5, 8])"
      ]
     },
     "execution_count": 3,
     "metadata": {},
     "output_type": "execute_result"
    }
   ],
   "source": [
    "np.array(test_matrix).reshape(8,)"
   ]
  },
  {
   "cell_type": "code",
   "execution_count": 4,
   "metadata": {},
   "outputs": [
    {
     "data": {
      "text/plain": [
       "(8,)"
      ]
     },
     "execution_count": 4,
     "metadata": {},
     "output_type": "execute_result"
    }
   ],
   "source": [
    "np.array(test_matrix).reshape(8,).shape"
   ]
  },
  {
   "cell_type": "code",
   "execution_count": 5,
   "metadata": {},
   "outputs": [
    {
     "data": {
      "text/plain": [
       "(2, 4)"
      ]
     },
     "execution_count": 5,
     "metadata": {},
     "output_type": "execute_result"
    }
   ],
   "source": [
    "np.array(test_matrix).reshape(2,4).shape"
   ]
  },
  {
   "cell_type": "code",
   "execution_count": 6,
   "metadata": {},
   "outputs": [
    {
     "data": {
      "text/plain": [
       "(4, 2)"
      ]
     },
     "execution_count": 6,
     "metadata": {},
     "output_type": "execute_result"
    }
   ],
   "source": [
    "np.array(test_matrix).reshape(-1,2).shape"
   ]
  },
  {
   "cell_type": "code",
   "execution_count": 7,
   "metadata": {},
   "outputs": [
    {
     "data": {
      "text/plain": [
       "array([[[1, 2],\n",
       "        [3, 4]],\n",
       "\n",
       "       [[1, 2],\n",
       "        [5, 8]]])"
      ]
     },
     "execution_count": 7,
     "metadata": {},
     "output_type": "execute_result"
    }
   ],
   "source": [
    "np.array(test_matrix).reshape(2,2,2) # 결과가 출력됐을 뿐"
   ]
  },
  {
   "cell_type": "code",
   "execution_count": 8,
   "metadata": {},
   "outputs": [
    {
     "data": {
      "text/plain": [
       "(2, 2, 2)"
      ]
     },
     "execution_count": 8,
     "metadata": {},
     "output_type": "execute_result"
    }
   ],
   "source": [
    "np.array(test_matrix).reshape(2,2,2).shape"
   ]
  },
  {
   "cell_type": "code",
   "execution_count": 9,
   "metadata": {},
   "outputs": [
    {
     "data": {
      "text/plain": [
       "(2, 2, 2)"
      ]
     },
     "execution_count": 9,
     "metadata": {},
     "output_type": "execute_result"
    }
   ],
   "source": [
    "np.array(test_matrix).reshape(2,-1,2).shape"
   ]
  },
  {
   "cell_type": "code",
   "execution_count": 10,
   "metadata": {},
   "outputs": [
    {
     "data": {
      "text/plain": [
       "(1, 4, 2)"
      ]
     },
     "execution_count": 10,
     "metadata": {},
     "output_type": "execute_result"
    }
   ],
   "source": [
    "np.array(test_matrix).reshape(1,-1,2).shape"
   ]
  },
  {
   "cell_type": "code",
   "execution_count": 11,
   "metadata": {},
   "outputs": [
    {
     "data": {
      "text/plain": [
       "[[1, 2, 3, 4], [1, 2, 5, 8]]"
      ]
     },
     "execution_count": 11,
     "metadata": {},
     "output_type": "execute_result"
    }
   ],
   "source": [
    "test_matrix # 할당되지 않았기 때문에 test_matrix 자체는 바뀌지 않음"
   ]
  },
  {
   "cell_type": "code",
   "execution_count": 14,
   "metadata": {},
   "outputs": [
    {
     "data": {
      "text/plain": [
       "array([[1, 2, 3, 4, 1, 2, 5, 8]])"
      ]
     },
     "execution_count": 14,
     "metadata": {},
     "output_type": "execute_result"
    }
   ],
   "source": [
    "np.array(test_matrix).reshape(1,-1)"
   ]
  },
  {
   "cell_type": "code",
   "execution_count": 15,
   "metadata": {},
   "outputs": [
    {
     "data": {
      "text/plain": [
       "(1, 8)"
      ]
     },
     "execution_count": 15,
     "metadata": {},
     "output_type": "execute_result"
    }
   ],
   "source": [
    " np.array(test_matrix).reshape(1,-1).shape"
   ]
  },
  {
   "cell_type": "code",
   "execution_count": 17,
   "metadata": {},
   "outputs": [
    {
     "data": {
      "text/plain": [
       "array([[[1, 2, 3, 4],\n",
       "        [1, 2, 5, 8]],\n",
       "\n",
       "       [[1, 2, 3, 4],\n",
       "        [1, 2, 5, 8]]])"
      ]
     },
     "execution_count": 17,
     "metadata": {},
     "output_type": "execute_result"
    }
   ],
   "source": [
    "test_matrix = [[[1,2,3,4],[1,2,5,8]], [[1,2,3,4], [1,2,5,8]]]\n",
    "np.array(test_matrix)"
   ]
  },
  {
   "cell_type": "code",
   "execution_count": 18,
   "metadata": {},
   "outputs": [
    {
     "data": {
      "text/plain": [
       "[[[1, 2, 3, 4], [1, 2, 5, 8]], [[1, 2, 3, 4], [1, 2, 5, 8]]]"
      ]
     },
     "execution_count": 18,
     "metadata": {},
     "output_type": "execute_result"
    }
   ],
   "source": [
    "test_matrix"
   ]
  },
  {
   "cell_type": "code",
   "execution_count": 22,
   "metadata": {},
   "outputs": [
    {
     "data": {
      "text/plain": [
       "(2, 2, 4)"
      ]
     },
     "execution_count": 22,
     "metadata": {},
     "output_type": "execute_result"
    }
   ],
   "source": [
    "test_matrix = np.array(test_matrix)\n",
    "test_matrix.shape"
   ]
  },
  {
   "cell_type": "code",
   "execution_count": 23,
   "metadata": {},
   "outputs": [
    {
     "data": {
      "text/plain": [
       "array([1, 2, 3, 4, 1, 2, 5, 8, 1, 2, 3, 4, 1, 2, 5, 8])"
      ]
     },
     "execution_count": 23,
     "metadata": {},
     "output_type": "execute_result"
    }
   ],
   "source": [
    "np.array(test_matrix).flatten()"
   ]
  },
  {
   "cell_type": "code",
   "execution_count": 24,
   "metadata": {},
   "outputs": [
    {
     "data": {
      "text/plain": [
       "(16,)"
      ]
     },
     "execution_count": 24,
     "metadata": {},
     "output_type": "execute_result"
    }
   ],
   "source": [
    "np.array(test_matrix).flatten().shape"
   ]
  },
  {
   "cell_type": "code",
   "execution_count": 21,
   "metadata": {},
   "outputs": [
    {
     "data": {
      "text/plain": [
       "16"
      ]
     },
     "execution_count": 21,
     "metadata": {},
     "output_type": "execute_result"
    }
   ],
   "source": [
    "np.array(test_matrix).flatten().size"
   ]
  },
  {
   "cell_type": "markdown",
   "metadata": {},
   "source": [
    "#### .indexing & slicing"
   ]
  },
  {
   "cell_type": "code",
   "execution_count": 26,
   "metadata": {},
   "outputs": [
    {
     "data": {
      "text/plain": [
       "array([[1, 2, 3],\n",
       "       [4, 5, 6]])"
      ]
     },
     "execution_count": 26,
     "metadata": {},
     "output_type": "execute_result"
    }
   ],
   "source": [
    "test_example = np.array([[1,2,3], [4.5,5,6]], int)\n",
    "test_example"
   ]
  },
  {
   "cell_type": "code",
   "execution_count": 27,
   "metadata": {},
   "outputs": [
    {
     "data": {
      "text/plain": [
       "3"
      ]
     },
     "execution_count": 27,
     "metadata": {},
     "output_type": "execute_result"
    }
   ],
   "source": [
    "test_example[0][2]"
   ]
  },
  {
   "cell_type": "code",
   "execution_count": 28,
   "metadata": {},
   "outputs": [
    {
     "data": {
      "text/plain": [
       "3"
      ]
     },
     "execution_count": 28,
     "metadata": {},
     "output_type": "execute_result"
    }
   ],
   "source": [
    "test_example[0,2]"
   ]
  },
  {
   "cell_type": "code",
   "execution_count": 29,
   "metadata": {},
   "outputs": [
    {
     "data": {
      "text/plain": [
       "array([[10,  2,  3],\n",
       "       [ 4,  5,  6]])"
      ]
     },
     "execution_count": 29,
     "metadata": {},
     "output_type": "execute_result"
    }
   ],
   "source": [
    "test_example[0,0] = 10\n",
    "test_example"
   ]
  },
  {
   "cell_type": "code",
   "execution_count": 30,
   "metadata": {},
   "outputs": [
    {
     "data": {
      "text/plain": [
       "5"
      ]
     },
     "execution_count": 30,
     "metadata": {},
     "output_type": "execute_result"
    }
   ],
   "source": [
    "test_example[1,2] = 5\n",
    "test_example[1,2]"
   ]
  },
  {
   "cell_type": "code",
   "execution_count": 31,
   "metadata": {
    "collapsed": true
   },
   "outputs": [],
   "source": [
    "a = np.array([[1,2,3,4,5],[6,7,8,9,10]], int)"
   ]
  },
  {
   "cell_type": "code",
   "execution_count": 32,
   "metadata": {},
   "outputs": [
    {
     "data": {
      "text/plain": [
       "array([[ 1,  2,  3,  4,  5],\n",
       "       [ 6,  7,  8,  9, 10]])"
      ]
     },
     "execution_count": 32,
     "metadata": {},
     "output_type": "execute_result"
    }
   ],
   "source": [
    "a"
   ]
  },
  {
   "cell_type": "code",
   "execution_count": 33,
   "metadata": {},
   "outputs": [
    {
     "data": {
      "text/plain": [
       "array([[ 3,  4,  5],\n",
       "       [ 8,  9, 10]])"
      ]
     },
     "execution_count": 33,
     "metadata": {},
     "output_type": "execute_result"
    }
   ],
   "source": [
    "a[:,2:]"
   ]
  },
  {
   "cell_type": "code",
   "execution_count": 34,
   "metadata": {},
   "outputs": [
    {
     "data": {
      "text/plain": [
       "array([7, 8])"
      ]
     },
     "execution_count": 34,
     "metadata": {},
     "output_type": "execute_result"
    }
   ],
   "source": [
    "a[1,1:3]"
   ]
  },
  {
   "cell_type": "code",
   "execution_count": 35,
   "metadata": {},
   "outputs": [
    {
     "data": {
      "text/plain": [
       "array([[ 6,  7,  8,  9, 10]])"
      ]
     },
     "execution_count": 35,
     "metadata": {},
     "output_type": "execute_result"
    }
   ],
   "source": [
    "a[1:3]"
   ]
  },
  {
   "cell_type": "code",
   "execution_count": 36,
   "metadata": {},
   "outputs": [
    {
     "data": {
      "text/plain": [
       "array([ 6,  7,  8,  9, 10])"
      ]
     },
     "execution_count": 36,
     "metadata": {},
     "output_type": "execute_result"
    }
   ],
   "source": [
    "a[1]"
   ]
  },
  {
   "cell_type": "code",
   "execution_count": 37,
   "metadata": {},
   "outputs": [
    {
     "data": {
      "text/plain": [
       "array([[ 6,  7,  8,  9, 10]])"
      ]
     },
     "execution_count": 37,
     "metadata": {},
     "output_type": "execute_result"
    }
   ],
   "source": [
    "a[1:2]"
   ]
  },
  {
   "cell_type": "code",
   "execution_count": 38,
   "metadata": {},
   "outputs": [
    {
     "data": {
      "text/plain": [
       "array([1, 2, 3, 4, 5])"
      ]
     },
     "execution_count": 38,
     "metadata": {},
     "output_type": "execute_result"
    }
   ],
   "source": [
    "a[0]"
   ]
  },
  {
   "cell_type": "code",
   "execution_count": 45,
   "metadata": {},
   "outputs": [
    {
     "data": {
      "text/plain": [
       "array([[1],\n",
       "       [6]])"
      ]
     },
     "execution_count": 45,
     "metadata": {},
     "output_type": "execute_result"
    }
   ],
   "source": [
    "a[:,:1]"
   ]
  },
  {
   "cell_type": "code",
   "execution_count": 46,
   "metadata": {},
   "outputs": [
    {
     "data": {
      "text/plain": [
       "array([[1, 2, 5, 8],\n",
       "       [1, 2, 5, 8],\n",
       "       [1, 2, 5, 8],\n",
       "       [1, 2, 5, 8]])"
      ]
     },
     "execution_count": 46,
     "metadata": {},
     "output_type": "execute_result"
    }
   ],
   "source": [
    "test_example = np.array([[1,2,5,8], [1,2,5,8], [1,2,5,8], [1,2,5,8]], int)\n",
    "test_example"
   ]
  },
  {
   "cell_type": "code",
   "execution_count": 47,
   "metadata": {},
   "outputs": [
    {
     "data": {
      "text/plain": [
       "array([[5, 8],\n",
       "       [5, 8],\n",
       "       [5, 8],\n",
       "       [5, 8]])"
      ]
     },
     "execution_count": 47,
     "metadata": {},
     "output_type": "execute_result"
    }
   ],
   "source": [
    "test_example[:, 2:]"
   ]
  },
  {
   "cell_type": "code",
   "execution_count": 48,
   "metadata": {},
   "outputs": [
    {
     "data": {
      "text/plain": [
       "array([[1, 2, 5, 8],\n",
       "       [1, 2, 5, 8],\n",
       "       [1, 2, 5, 8],\n",
       "       [1, 2, 5, 8]])"
      ]
     },
     "execution_count": 48,
     "metadata": {},
     "output_type": "execute_result"
    }
   ],
   "source": [
    "test_example # test_example 자체가 바뀌지 않음"
   ]
  },
  {
   "cell_type": "code",
   "execution_count": 49,
   "metadata": {},
   "outputs": [
    {
     "data": {
      "text/plain": [
       "array([[2, 5],\n",
       "       [2, 5],\n",
       "       [2, 5],\n",
       "       [2, 5]])"
      ]
     },
     "execution_count": 49,
     "metadata": {},
     "output_type": "execute_result"
    }
   ],
   "source": [
    "test_example[:, 1:3]"
   ]
  },
  {
   "cell_type": "code",
   "execution_count": 50,
   "metadata": {},
   "outputs": [
    {
     "data": {
      "text/plain": [
       "(4, 2)"
      ]
     },
     "execution_count": 50,
     "metadata": {},
     "output_type": "execute_result"
    }
   ],
   "source": [
    "test_example[:, 1:3].shape"
   ]
  },
  {
   "cell_type": "code",
   "execution_count": 51,
   "metadata": {},
   "outputs": [
    {
     "data": {
      "text/plain": [
       "array([[1, 2]])"
      ]
     },
     "execution_count": 51,
     "metadata": {},
     "output_type": "execute_result"
    }
   ],
   "source": [
    "test_example[1:2, :2]"
   ]
  },
  {
   "cell_type": "code",
   "execution_count": 52,
   "metadata": {},
   "outputs": [
    {
     "data": {
      "text/plain": [
       "array([[ 1,  2,  3,  4,  5],\n",
       "       [ 6,  7,  8,  9, 10]])"
      ]
     },
     "execution_count": 52,
     "metadata": {},
     "output_type": "execute_result"
    }
   ],
   "source": [
    "test_example = np.array([[1,2,3,4,5],[6,7,8,9,10]], int)\n",
    "test_example"
   ]
  },
  {
   "cell_type": "code",
   "execution_count": 53,
   "metadata": {},
   "outputs": [
    {
     "data": {
      "text/plain": [
       "array([ 6,  7,  8,  9, 10])"
      ]
     },
     "execution_count": 53,
     "metadata": {},
     "output_type": "execute_result"
    }
   ],
   "source": [
    "test_example[1] # 1 dimension으로 나옴"
   ]
  },
  {
   "cell_type": "code",
   "execution_count": 54,
   "metadata": {},
   "outputs": [
    {
     "data": {
      "text/plain": [
       "array([[ 6,  7,  8,  9, 10]])"
      ]
     },
     "execution_count": 54,
     "metadata": {},
     "output_type": "execute_result"
    }
   ],
   "source": [
    "test_example[1:3] # 2 dimension으로 나옴"
   ]
  },
  {
   "cell_type": "code",
   "execution_count": 56,
   "metadata": {},
   "outputs": [
    {
     "data": {
      "text/plain": [
       "array([[ 0,  1,  2,  3,  4,  5,  6,  7,  8,  9],\n",
       "       [10, 11, 12, 13, 14, 15, 16, 17, 18, 19],\n",
       "       [20, 21, 22, 23, 24, 25, 26, 27, 28, 29],\n",
       "       [30, 31, 32, 33, 34, 35, 36, 37, 38, 39],\n",
       "       [40, 41, 42, 43, 44, 45, 46, 47, 48, 49],\n",
       "       [50, 51, 52, 53, 54, 55, 56, 57, 58, 59],\n",
       "       [60, 61, 62, 63, 64, 65, 66, 67, 68, 69],\n",
       "       [70, 71, 72, 73, 74, 75, 76, 77, 78, 79],\n",
       "       [80, 81, 82, 83, 84, 85, 86, 87, 88, 89],\n",
       "       [90, 91, 92, 93, 94, 95, 96, 97, 98, 99]])"
      ]
     },
     "execution_count": 56,
     "metadata": {},
     "output_type": "execute_result"
    }
   ],
   "source": [
    "a = np.arange(100).reshape(10,10)\n",
    "a"
   ]
  },
  {
   "cell_type": "code",
   "execution_count": 58,
   "metadata": {},
   "outputs": [
    {
     "data": {
      "text/plain": [
       "array([ 9, 19, 29, 39, 49, 59, 69, 79, 89, 99])"
      ]
     },
     "execution_count": 58,
     "metadata": {},
     "output_type": "execute_result"
    }
   ],
   "source": [
    "a[:, -1]"
   ]
  },
  {
   "cell_type": "markdown",
   "metadata": {},
   "source": [
    "#### .creation function"
   ]
  },
  {
   "cell_type": "code",
   "execution_count": 59,
   "metadata": {},
   "outputs": [
    {
     "data": {
      "text/plain": [
       "[0, 3, 6, 9]"
      ]
     },
     "execution_count": 59,
     "metadata": {},
     "output_type": "execute_result"
    }
   ],
   "source": [
    "list(range(0,10,3))"
   ]
  },
  {
   "cell_type": "code",
   "execution_count": 60,
   "metadata": {},
   "outputs": [
    {
     "data": {
      "text/plain": [
       "list"
      ]
     },
     "execution_count": 60,
     "metadata": {},
     "output_type": "execute_result"
    }
   ],
   "source": [
    "type(list(range(30)))"
   ]
  },
  {
   "cell_type": "markdown",
   "metadata": {},
   "source": [
    "#### ..arange"
   ]
  },
  {
   "cell_type": "code",
   "execution_count": 61,
   "metadata": {},
   "outputs": [
    {
     "data": {
      "text/plain": [
       "array([ 0,  1,  2,  3,  4,  5,  6,  7,  8,  9, 10, 11, 12, 13, 14, 15, 16,\n",
       "       17, 18, 19, 20, 21, 22, 23, 24, 25, 26, 27, 28, 29])"
      ]
     },
     "execution_count": 61,
     "metadata": {},
     "output_type": "execute_result"
    }
   ],
   "source": [
    "np.arange(30)"
   ]
  },
  {
   "cell_type": "code",
   "execution_count": 62,
   "metadata": {},
   "outputs": [
    {
     "data": {
      "text/plain": [
       "array([ 0. ,  0.5,  1. ,  1.5,  2. ,  2.5,  3. ,  3.5,  4. ,  4.5,  5. ,\n",
       "        5.5,  6. ,  6.5,  7. ,  7.5,  8. ,  8.5,  9. ,  9.5])"
      ]
     },
     "execution_count": 62,
     "metadata": {},
     "output_type": "execute_result"
    }
   ],
   "source": [
    "np.arange(0, 10, 0.5)"
   ]
  },
  {
   "cell_type": "code",
   "execution_count": 63,
   "metadata": {},
   "outputs": [
    {
     "data": {
      "text/plain": [
       "array([ 0. ,  0.5,  1. ,  1.5,  2. ,  2.5,  3. ,  3.5,  4. ,  4.5])"
      ]
     },
     "execution_count": 63,
     "metadata": {},
     "output_type": "execute_result"
    }
   ],
   "source": [
    "np.arange(0, 5, 0.5)"
   ]
  },
  {
   "cell_type": "code",
   "execution_count": 64,
   "metadata": {},
   "outputs": [
    {
     "data": {
      "text/plain": [
       "array([[ 0,  1,  2,  3,  4,  5],\n",
       "       [ 6,  7,  8,  9, 10, 11],\n",
       "       [12, 13, 14, 15, 16, 17],\n",
       "       [18, 19, 20, 21, 22, 23],\n",
       "       [24, 25, 26, 27, 28, 29]])"
      ]
     },
     "execution_count": 64,
     "metadata": {},
     "output_type": "execute_result"
    }
   ],
   "source": [
    "np.arange(30).reshape(5,6)"
   ]
  },
  {
   "cell_type": "markdown",
   "metadata": {},
   "source": [
    "#### ..ones, zeros & empty"
   ]
  },
  {
   "cell_type": "code",
   "execution_count": 66,
   "metadata": {},
   "outputs": [
    {
     "data": {
      "text/plain": [
       "array([0, 0, 0, 0, 0, 0, 0, 0, 0, 0], dtype=int8)"
      ]
     },
     "execution_count": 66,
     "metadata": {},
     "output_type": "execute_result"
    }
   ],
   "source": [
    "np.zeros(shape=(10,), dtype=np.int8)"
   ]
  },
  {
   "cell_type": "code",
   "execution_count": 67,
   "metadata": {},
   "outputs": [
    {
     "data": {
      "text/plain": [
       "array([[ 0.,  0.,  0.,  0.,  0.],\n",
       "       [ 0.,  0.,  0.,  0.,  0.]])"
      ]
     },
     "execution_count": 67,
     "metadata": {},
     "output_type": "execute_result"
    }
   ],
   "source": [
    "np.zeros((2,5))"
   ]
  },
  {
   "cell_type": "code",
   "execution_count": 68,
   "metadata": {},
   "outputs": [
    {
     "data": {
      "text/plain": [
       "array([1, 1, 1, 1, 1, 1, 1, 1, 1, 1], dtype=int8)"
      ]
     },
     "execution_count": 68,
     "metadata": {},
     "output_type": "execute_result"
    }
   ],
   "source": [
    "np.ones(shape=(10,), dtype=np.int8)"
   ]
  },
  {
   "cell_type": "code",
   "execution_count": 69,
   "metadata": {},
   "outputs": [
    {
     "data": {
      "text/plain": [
       "array([[ 1.,  1.,  1.,  1.,  1.],\n",
       "       [ 1.,  1.,  1.,  1.,  1.]])"
      ]
     },
     "execution_count": 69,
     "metadata": {},
     "output_type": "execute_result"
    }
   ],
   "source": [
    "np.ones((2,5))"
   ]
  },
  {
   "cell_type": "code",
   "execution_count": 78,
   "metadata": {},
   "outputs": [
    {
     "data": {
      "text/plain": [
       "array([-107,    0,    0,    0,  114,    9,    0,    0,  -16, -109], dtype=int8)"
      ]
     },
     "execution_count": 78,
     "metadata": {},
     "output_type": "execute_result"
    }
   ],
   "source": [
    "np.empty(shape=(10,), dtype=np.int8)"
   ]
  },
  {
   "cell_type": "code",
   "execution_count": 86,
   "metadata": {},
   "outputs": [
    {
     "data": {
      "text/plain": [
       "array([[  2.12199579e-314,   6.36598737e-314,   1.06099790e-313,\n",
       "          1.48539705e-313,   1.90979621e-313],\n",
       "       [  2.33419537e-313,   2.75859453e-313,   3.18299369e-313,\n",
       "          3.60739285e-313,   4.03179200e-313],\n",
       "       [  4.45619116e-313,   4.88059032e-313,   5.30498948e-313,\n",
       "          5.72938864e-313,   6.15378780e-313],\n",
       "       [  6.57818695e-313,   7.00258611e-313,   7.42698527e-313,\n",
       "          7.85138443e-313,   8.27578359e-313],\n",
       "       [  8.70018274e-313,   9.12458190e-313,   9.54898106e-313,\n",
       "          9.97338022e-313,   1.03977794e-312],\n",
       "       [  1.08221785e-312,   1.12465777e-312,   1.16709769e-312,\n",
       "          1.20953760e-312,   1.25197752e-312],\n",
       "       [  1.29441743e-312,   1.33685735e-312,   1.37929726e-312,\n",
       "          1.42173718e-312,   1.46417710e-312],\n",
       "       [  1.50661701e-312,   1.54905693e-312,   1.59149684e-312,\n",
       "          1.63393676e-312,   1.67637668e-312],\n",
       "       [  1.71881659e-312,   1.76125651e-312,   1.80369642e-312,\n",
       "          1.84613634e-312,   1.88857625e-312],\n",
       "       [  1.93101617e-312,   1.97345609e-312,   2.01589600e-312,\n",
       "          2.05833592e-312,   2.10077583e-312]])"
      ]
     },
     "execution_count": 86,
     "metadata": {},
     "output_type": "execute_result"
    }
   ],
   "source": [
    "np.empty((10,5))"
   ]
  },
  {
   "cell_type": "markdown",
   "metadata": {},
   "source": [
    " #### ..something _like"
   ]
  },
  {
   "cell_type": "code",
   "execution_count": 87,
   "metadata": {},
   "outputs": [
    {
     "data": {
      "text/plain": [
       "(5, 20)"
      ]
     },
     "execution_count": 87,
     "metadata": {},
     "output_type": "execute_result"
    }
   ],
   "source": [
    "test_matrix = np.arange(100).reshape(5, -1)\n",
    "test_matrix.shape"
   ]
  },
  {
   "cell_type": "code",
   "execution_count": 89,
   "metadata": {},
   "outputs": [
    {
     "data": {
      "text/plain": [
       "array([[ 0,  1,  2,  3,  4,  5,  6,  7,  8,  9, 10, 11, 12, 13, 14, 15, 16,\n",
       "        17, 18, 19],\n",
       "       [20, 21, 22, 23, 24, 25, 26, 27, 28, 29, 30, 31, 32, 33, 34, 35, 36,\n",
       "        37, 38, 39],\n",
       "       [40, 41, 42, 43, 44, 45, 46, 47, 48, 49, 50, 51, 52, 53, 54, 55, 56,\n",
       "        57, 58, 59],\n",
       "       [60, 61, 62, 63, 64, 65, 66, 67, 68, 69, 70, 71, 72, 73, 74, 75, 76,\n",
       "        77, 78, 79],\n",
       "       [80, 81, 82, 83, 84, 85, 86, 87, 88, 89, 90, 91, 92, 93, 94, 95, 96,\n",
       "        97, 98, 99]])"
      ]
     },
     "execution_count": 89,
     "metadata": {},
     "output_type": "execute_result"
    }
   ],
   "source": [
    "test_matrix\n"
   ]
  },
  {
   "cell_type": "code",
   "execution_count": 90,
   "metadata": {},
   "outputs": [
    {
     "data": {
      "text/plain": [
       "array([[ 0.,  0.,  0.,  0.,  0.,  0.,  0.,  0.,  0.,  0.,  0.,  0.,  0.,\n",
       "         0.,  0.,  0.,  0.,  0.,  0.,  0.],\n",
       "       [ 0.,  0.,  0.,  0.,  0.,  0.,  0.,  0.,  0.,  0.,  0.,  0.,  0.,\n",
       "         0.,  0.,  0.,  0.,  0.,  0.,  0.],\n",
       "       [ 0.,  0.,  0.,  0.,  0.,  0.,  0.,  0.,  0.,  0.,  0.,  0.,  0.,\n",
       "         0.,  0.,  0.,  0.,  0.,  0.,  0.],\n",
       "       [ 0.,  0.,  0.,  0.,  0.,  0.,  0.,  0.,  0.,  0.,  0.,  0.,  0.,\n",
       "         0.,  0.,  0.,  0.,  0.,  0.,  0.],\n",
       "       [ 0.,  0.,  0.,  0.,  0.,  0.,  0.,  0.,  0.,  0.,  0.,  0.,  0.,\n",
       "         0.,  0.,  0.,  0.,  0.,  0.,  0.]], dtype=float32)"
      ]
     },
     "execution_count": 90,
     "metadata": {},
     "output_type": "execute_result"
    }
   ],
   "source": [
    "np.zeros_like(test_matrix, dtype=np.float32)"
   ]
  },
  {
   "cell_type": "code",
   "execution_count": 91,
   "metadata": {},
   "outputs": [
    {
     "data": {
      "text/plain": [
       "array([[ 1.,  1.,  1.,  1.,  1.,  1.,  1.,  1.,  1.,  1.,  1.,  1.,  1.,\n",
       "         1.,  1.,  1.,  1.,  1.,  1.,  1.],\n",
       "       [ 1.,  1.,  1.,  1.,  1.,  1.,  1.,  1.,  1.,  1.,  1.,  1.,  1.,\n",
       "         1.,  1.,  1.,  1.,  1.,  1.,  1.],\n",
       "       [ 1.,  1.,  1.,  1.,  1.,  1.,  1.,  1.,  1.,  1.,  1.,  1.,  1.,\n",
       "         1.,  1.,  1.,  1.,  1.,  1.,  1.],\n",
       "       [ 1.,  1.,  1.,  1.,  1.,  1.,  1.,  1.,  1.,  1.,  1.,  1.,  1.,\n",
       "         1.,  1.,  1.,  1.,  1.,  1.,  1.],\n",
       "       [ 1.,  1.,  1.,  1.,  1.,  1.,  1.,  1.,  1.,  1.,  1.,  1.,  1.,\n",
       "         1.,  1.,  1.,  1.,  1.,  1.,  1.]], dtype=float32)"
      ]
     },
     "execution_count": 91,
     "metadata": {},
     "output_type": "execute_result"
    }
   ],
   "source": [
    "np.ones_like(test_matrix, dtype=np.float32)"
   ]
  },
  {
   "cell_type": "code",
   "execution_count": 94,
   "metadata": {},
   "outputs": [
    {
     "data": {
      "text/plain": [
       "array([[ 1.,  1.,  1.,  1.,  1.,  1.,  1.,  1.,  1.,  1.,  1.,  1.,  1.,\n",
       "         1.,  1.,  1.,  1.,  1.,  1.,  1.],\n",
       "       [ 1.,  1.,  1.,  1.,  1.,  1.,  1.,  1.,  1.,  1.,  1.,  1.,  1.,\n",
       "         1.,  1.,  1.,  1.,  1.,  1.,  1.],\n",
       "       [ 1.,  1.,  1.,  1.,  1.,  1.,  1.,  1.,  1.,  1.,  1.,  1.,  1.,\n",
       "         1.,  1.,  1.,  1.,  1.,  1.,  1.],\n",
       "       [ 1.,  1.,  1.,  1.,  1.,  1.,  1.,  1.,  1.,  1.,  1.,  1.,  1.,\n",
       "         1.,  1.,  1.,  1.,  1.,  1.,  1.],\n",
       "       [ 1.,  1.,  1.,  1.,  1.,  1.,  1.,  1.,  1.,  1.,  1.,  1.,  1.,\n",
       "         1.,  1.,  1.,  1.,  1.,  1.,  1.]], dtype=float32)"
      ]
     },
     "execution_count": 94,
     "metadata": {},
     "output_type": "execute_result"
    }
   ],
   "source": [
    "np.empty_like(test_matrix, dtype=np.float32)"
   ]
  },
  {
   "cell_type": "markdown",
   "metadata": {},
   "source": [
    "#### ..eye, identity & digonal"
   ]
  },
  {
   "cell_type": "code",
   "execution_count": 95,
   "metadata": {},
   "outputs": [
    {
     "data": {
      "text/plain": [
       "array([[1, 0, 0, 0, 0],\n",
       "       [0, 1, 0, 0, 0],\n",
       "       [0, 0, 1, 0, 0],\n",
       "       [0, 0, 0, 1, 0],\n",
       "       [0, 0, 0, 0, 1]], dtype=int8)"
      ]
     },
     "execution_count": 95,
     "metadata": {},
     "output_type": "execute_result"
    }
   ],
   "source": [
    "np.identity(n = 5, dtype=np.int8)"
   ]
  },
  {
   "cell_type": "code",
   "execution_count": 96,
   "metadata": {},
   "outputs": [
    {
     "data": {
      "text/plain": [
       "array([[1, 0, 0, 0, 0],\n",
       "       [0, 1, 0, 0, 0],\n",
       "       [0, 0, 1, 0, 0]], dtype=int8)"
      ]
     },
     "execution_count": 96,
     "metadata": {},
     "output_type": "execute_result"
    }
   ],
   "source": [
    "np.eye(N = 3, M = 5, dtype=np.int8)"
   ]
  },
  {
   "cell_type": "code",
   "execution_count": 97,
   "metadata": {},
   "outputs": [
    {
     "data": {
      "text/plain": [
       "array([[0, 0, 1, 0, 0],\n",
       "       [0, 0, 0, 1, 0],\n",
       "       [0, 0, 0, 0, 1]], dtype=int8)"
      ]
     },
     "execution_count": 97,
     "metadata": {},
     "output_type": "execute_result"
    }
   ],
   "source": [
    "np.eye(N = 3, M = 5, k=2, dtype=np.int8)"
   ]
  },
  {
   "cell_type": "code",
   "execution_count": 98,
   "metadata": {},
   "outputs": [
    {
     "data": {
      "text/plain": [
       "array([[ 1.,  0.,  0.],\n",
       "       [ 0.,  1.,  0.],\n",
       "       [ 0.,  0.,  1.]])"
      ]
     },
     "execution_count": 98,
     "metadata": {},
     "output_type": "execute_result"
    }
   ],
   "source": [
    "np.eye(3)"
   ]
  },
  {
   "cell_type": "code",
   "execution_count": 99,
   "metadata": {},
   "outputs": [
    {
     "data": {
      "text/plain": [
       "array([[ 0.,  0.,  1.,  0.,  0.],\n",
       "       [ 0.,  0.,  0.,  1.,  0.],\n",
       "       [ 0.,  0.,  0.,  0.,  1.]])"
      ]
     },
     "execution_count": 99,
     "metadata": {},
     "output_type": "execute_result"
    }
   ],
   "source": [
    "np.eye(3, 5, k=2)"
   ]
  },
  {
   "cell_type": "code",
   "execution_count": 101,
   "metadata": {},
   "outputs": [
    {
     "data": {
      "text/plain": [
       "array([[ 0,  1,  2,  3],\n",
       "       [ 4,  5,  6,  7],\n",
       "       [ 8,  9, 10, 11]])"
      ]
     },
     "execution_count": 101,
     "metadata": {},
     "output_type": "execute_result"
    }
   ],
   "source": [
    "matrix = np.arange(12).reshape(3,4)\n",
    "matrix"
   ]
  },
  {
   "cell_type": "code",
   "execution_count": 102,
   "metadata": {},
   "outputs": [
    {
     "data": {
      "text/plain": [
       "array([2, 7])"
      ]
     },
     "execution_count": 102,
     "metadata": {},
     "output_type": "execute_result"
    }
   ],
   "source": [
    "np.diag(matrix, k=2)"
   ]
  },
  {
   "cell_type": "markdown",
   "metadata": {},
   "source": [
    "#### ..numpy.random"
   ]
  },
  {
   "cell_type": "code",
   "execution_count": 103,
   "metadata": {},
   "outputs": [
    {
     "data": {
      "text/plain": [
       "array([[ 1.2440134 , -1.52936808, -0.35052042,  0.15232942, -0.34829893],\n",
       "       [ 0.17599831, -0.14327957,  0.74420503, -0.10454721,  0.88594801]])"
      ]
     },
     "execution_count": 103,
     "metadata": {},
     "output_type": "execute_result"
    }
   ],
   "source": [
    "np.random.normal(0,1,10).reshape(2,5)"
   ]
  },
  {
   "cell_type": "code",
   "execution_count": 104,
   "metadata": {},
   "outputs": [
    {
     "data": {
      "text/plain": [
       "array([  2.21732517e-01,   4.89540072e-02,   1.51342906e+00,\n",
       "         6.12524095e+00,   5.15516400e+00,   2.88462379e+00,\n",
       "         8.12963761e-01,   2.96786778e+00,   5.65162698e-01,\n",
       "         5.30551454e+00,   2.08613745e+00,   3.17091657e+00,\n",
       "         1.04692345e+00,   4.64604303e-01,   2.65982476e+00,\n",
       "         9.94951145e-02,   1.05930132e+00,   3.92077314e-01,\n",
       "         1.51794495e+00,   1.10641159e-01,   1.23380990e+00,\n",
       "         1.06432901e-01,   2.11641695e+00,   4.15073642e+00,\n",
       "         1.36019968e-01,   1.06264011e+00,   2.44071378e+00,\n",
       "         1.20377585e+00,   1.58568689e+00,   4.42714365e-01,\n",
       "         9.41656560e-01,   2.53060533e+00,   6.54480443e-01,\n",
       "         1.51894839e+00,   2.46033229e+00,   2.92938043e+00,\n",
       "         2.53713883e+00,   5.23640988e+00,   2.56217974e+00,\n",
       "         6.49742454e-01,   6.33644622e-02,   2.53804533e+00,\n",
       "         1.09705679e+00,   4.43452325e-01,   1.83120565e+00,\n",
       "         7.78516843e+00,   1.72986148e+00,   4.04932341e+00,\n",
       "         1.57991043e+00,   4.91197278e+00,   2.13794504e+00,\n",
       "         1.97569859e+00,   1.00732612e+00,   2.21079643e+00,\n",
       "         2.28026127e+00,   1.02414445e+00,   2.88888778e-01,\n",
       "         1.11146384e-02,   3.84162435e-01,   6.17290669e-01,\n",
       "         1.11659501e+01,   8.09434013e+00,   5.37690576e-01,\n",
       "         5.91692025e-01,   6.58467774e-01,   1.69392657e+00,\n",
       "         3.01839437e+00,   2.55606239e-01,   4.47142001e-01,\n",
       "         2.07511503e-01,   3.67361057e-01,   7.85469134e-01,\n",
       "         5.01495398e+00,   3.69575855e+00,   2.59202339e-01,\n",
       "         2.05245847e+00,   1.03698274e+00,   4.01571686e+00,\n",
       "         5.79696454e+00,   2.68627646e-01,   5.25866936e+00,\n",
       "         6.44331796e+00,   3.76929141e-01,   4.84123405e+00,\n",
       "         2.16263506e+00,   6.08461524e-01,   3.96820082e-01,\n",
       "         4.57812691e+00,   5.65952455e-01,   8.32874169e-02,\n",
       "         3.32506191e+00,   5.01877679e+00,   4.42112840e-01,\n",
       "         8.60725244e+00,   6.12625356e+00,   1.24486494e+00,\n",
       "         2.95644419e+00,   1.02889371e+00,   3.56683278e-01,\n",
       "         3.61774080e-01])"
      ]
     },
     "execution_count": 104,
     "metadata": {},
     "output_type": "execute_result"
    }
   ],
   "source": [
    "np.random.exponential(scale=2, size=100)"
   ]
  },
  {
   "cell_type": "markdown",
   "metadata": {},
   "source": [
    "#### .operation functions"
   ]
  },
  {
   "cell_type": "markdown",
   "metadata": {},
   "source": [
    "#### ..sum"
   ]
  },
  {
   "cell_type": "code",
   "execution_count": 105,
   "metadata": {},
   "outputs": [
    {
     "data": {
      "text/plain": [
       "array([ 1,  2,  3,  4,  5,  6,  7,  8,  9, 10])"
      ]
     },
     "execution_count": 105,
     "metadata": {},
     "output_type": "execute_result"
    }
   ],
   "source": [
    "test_array = np.arange(1,11)\n",
    "test_array"
   ]
  },
  {
   "cell_type": "code",
   "execution_count": 106,
   "metadata": {},
   "outputs": [
    {
     "data": {
      "text/plain": [
       "55.0"
      ]
     },
     "execution_count": 106,
     "metadata": {},
     "output_type": "execute_result"
    }
   ],
   "source": [
    "test_array.sum(dtype=np.float)"
   ]
  },
  {
   "cell_type": "code",
   "execution_count": 107,
   "metadata": {},
   "outputs": [
    {
     "data": {
      "text/plain": [
       "55"
      ]
     },
     "execution_count": 107,
     "metadata": {},
     "output_type": "execute_result"
    }
   ],
   "source": [
    "sum(test_array)"
   ]
  },
  {
   "cell_type": "markdown",
   "metadata": {},
   "source": [
    "#### ..axis"
   ]
  },
  {
   "cell_type": "code",
   "execution_count": 108,
   "metadata": {},
   "outputs": [
    {
     "data": {
      "text/plain": [
       "array([[ 1,  2,  3,  4],\n",
       "       [ 5,  6,  7,  8],\n",
       "       [ 9, 10, 11, 12]])"
      ]
     },
     "execution_count": 108,
     "metadata": {},
     "output_type": "execute_result"
    }
   ],
   "source": [
    "test_array = np.arange(1,13).reshape(3,4)\n",
    "test_array"
   ]
  },
  {
   "cell_type": "code",
   "execution_count": 109,
   "metadata": {},
   "outputs": [
    {
     "data": {
      "text/plain": [
       "(array([10, 26, 42]), array([15, 18, 21, 24]))"
      ]
     },
     "execution_count": 109,
     "metadata": {},
     "output_type": "execute_result"
    }
   ],
   "source": [
    "test_array.sum(axis=1), test_array.sum(axis=0)"
   ]
  },
  {
   "cell_type": "code",
   "execution_count": 110,
   "metadata": {},
   "outputs": [
    {
     "data": {
      "text/plain": [
       "array([[[ 1,  2,  3,  4],\n",
       "        [ 5,  6,  7,  8],\n",
       "        [ 9, 10, 11, 12]],\n",
       "\n",
       "       [[ 1,  2,  3,  4],\n",
       "        [ 5,  6,  7,  8],\n",
       "        [ 9, 10, 11, 12]],\n",
       "\n",
       "       [[ 1,  2,  3,  4],\n",
       "        [ 5,  6,  7,  8],\n",
       "        [ 9, 10, 11, 12]]])"
      ]
     },
     "execution_count": 110,
     "metadata": {},
     "output_type": "execute_result"
    }
   ],
   "source": [
    "third_order_tensor = np.array([test_array, test_array, test_array])\n",
    "third_order_tensor"
   ]
  },
  {
   "cell_type": "code",
   "execution_count": 111,
   "metadata": {},
   "outputs": [
    {
     "data": {
      "text/plain": [
       "array([[15, 18, 21, 24],\n",
       "       [15, 18, 21, 24],\n",
       "       [15, 18, 21, 24]])"
      ]
     },
     "execution_count": 111,
     "metadata": {},
     "output_type": "execute_result"
    }
   ],
   "source": [
    "third_order_tensor.sum(axis=1)"
   ]
  },
  {
   "cell_type": "code",
   "execution_count": 112,
   "metadata": {},
   "outputs": [
    {
     "data": {
      "text/plain": [
       "array([[ 3,  6,  9, 12],\n",
       "       [15, 18, 21, 24],\n",
       "       [27, 30, 33, 36]])"
      ]
     },
     "execution_count": 112,
     "metadata": {},
     "output_type": "execute_result"
    }
   ],
   "source": [
    "third_order_tensor.sum(axis=0)"
   ]
  },
  {
   "cell_type": "markdown",
   "metadata": {},
   "source": [
    "#### .. mathematical functions"
   ]
  },
  {
   "cell_type": "code",
   "execution_count": 113,
   "metadata": {},
   "outputs": [
    {
     "data": {
      "text/plain": [
       "array([[ 1,  2,  3,  4],\n",
       "       [ 5,  6,  7,  8],\n",
       "       [ 9, 10, 11, 12]])"
      ]
     },
     "execution_count": 113,
     "metadata": {},
     "output_type": "execute_result"
    }
   ],
   "source": [
    "test_array = np.arange(1,13).reshape(3,4)\n",
    "test_array"
   ]
  },
  {
   "cell_type": "code",
   "execution_count": 114,
   "metadata": {},
   "outputs": [
    {
     "data": {
      "text/plain": [
       "array([  2.5,   6.5,  10.5])"
      ]
     },
     "execution_count": 114,
     "metadata": {},
     "output_type": "execute_result"
    }
   ],
   "source": [
    "test_array.mean(axis=1)"
   ]
  },
  {
   "cell_type": "code",
   "execution_count": 116,
   "metadata": {},
   "outputs": [
    {
     "data": {
      "text/plain": [
       "(array([ 3.26598632,  3.26598632,  3.26598632,  3.26598632]),\n",
       " array([ 1.11803399,  1.11803399,  1.11803399]))"
      ]
     },
     "execution_count": 116,
     "metadata": {},
     "output_type": "execute_result"
    }
   ],
   "source": [
    "test_array.std(axis=0), test_array.std(axis=1)"
   ]
  },
  {
   "cell_type": "code",
   "execution_count": 117,
   "metadata": {},
   "outputs": [
    {
     "data": {
      "text/plain": [
       "array([[ 1.        ,  1.41421356,  1.73205081,  2.        ],\n",
       "       [ 2.23606798,  2.44948974,  2.64575131,  2.82842712],\n",
       "       [ 3.        ,  3.16227766,  3.31662479,  3.46410162]])"
      ]
     },
     "execution_count": 117,
     "metadata": {},
     "output_type": "execute_result"
    }
   ],
   "source": [
    "np.sqrt(test_array)"
   ]
  },
  {
   "cell_type": "code",
   "execution_count": 118,
   "metadata": {},
   "outputs": [
    {
     "data": {
      "text/plain": [
       "array([[  2.71828183e+00,   7.38905610e+00,   2.00855369e+01,\n",
       "          5.45981500e+01],\n",
       "       [  1.48413159e+02,   4.03428793e+02,   1.09663316e+03,\n",
       "          2.98095799e+03],\n",
       "       [  8.10308393e+03,   2.20264658e+04,   5.98741417e+04,\n",
       "          1.62754791e+05]])"
      ]
     },
     "execution_count": 118,
     "metadata": {},
     "output_type": "execute_result"
    }
   ],
   "source": [
    "np.exp(test_array)"
   ]
  },
  {
   "cell_type": "markdown",
   "metadata": {},
   "source": [
    " #### ..Concatenate"
   ]
  },
  {
   "cell_type": "code",
   "execution_count": 119,
   "metadata": {},
   "outputs": [
    {
     "data": {
      "text/plain": [
       "array([[1, 2, 3],\n",
       "       [2, 3, 4]])"
      ]
     },
     "execution_count": 119,
     "metadata": {},
     "output_type": "execute_result"
    }
   ],
   "source": [
    "a = np.array([1,2,3])\n",
    "b = np.array([2,3,4])\n",
    "np.vstack((a,b))"
   ]
  },
  {
   "cell_type": "code",
   "execution_count": 122,
   "metadata": {},
   "outputs": [
    {
     "data": {
      "text/plain": [
       "array([[1, 2],\n",
       "       [2, 3],\n",
       "       [3, 4]])"
      ]
     },
     "execution_count": 122,
     "metadata": {},
     "output_type": "execute_result"
    }
   ],
   "source": [
    "a = np.array([[1],[2],[3]])\n",
    "b = np.array([[2],[3],[4]])\n",
    "np.hstack((a,b))"
   ]
  },
  {
   "cell_type": "code",
   "execution_count": 124,
   "metadata": {},
   "outputs": [
    {
     "data": {
      "text/plain": [
       "array([[1, 2, 3, 2, 3, 4]])"
      ]
     },
     "execution_count": 124,
     "metadata": {},
     "output_type": "execute_result"
    }
   ],
   "source": [
    "a = np.array([[1,2,3]])\n",
    "b = np.array([[2,3,4]])\n",
    "np.concatenate((a,b), axis=1)"
   ]
  },
  {
   "cell_type": "code",
   "execution_count": 125,
   "metadata": {},
   "outputs": [
    {
     "data": {
      "text/plain": [
       "array([[1, 2, 5],\n",
       "       [3, 4, 6]])"
      ]
     },
     "execution_count": 125,
     "metadata": {},
     "output_type": "execute_result"
    }
   ],
   "source": [
    "a = np.array([[1,2],[3,4]])\n",
    "b = np.array([[5],[6]])\n",
    "np.concatenate((a,b), axis=1)"
   ]
  },
  {
   "cell_type": "code",
   "execution_count": 138,
   "metadata": {},
   "outputs": [
    {
     "data": {
      "text/plain": [
       "array([[1, 2],\n",
       "       [3, 4]])"
      ]
     },
     "execution_count": 138,
     "metadata": {},
     "output_type": "execute_result"
    }
   ],
   "source": [
    "a = np.array([[1,2],[3,4]])\n",
    "b = np.array([5,6])\n",
    "a\n"
   ]
  },
  {
   "cell_type": "code",
   "execution_count": 139,
   "metadata": {},
   "outputs": [
    {
     "data": {
      "text/plain": [
       "array([5, 6])"
      ]
     },
     "execution_count": 139,
     "metadata": {},
     "output_type": "execute_result"
    }
   ],
   "source": [
    "b"
   ]
  },
  {
   "cell_type": "code",
   "execution_count": 140,
   "metadata": {},
   "outputs": [
    {
     "data": {
      "text/plain": [
       "array([[5, 6]])"
      ]
     },
     "execution_count": 140,
     "metadata": {},
     "output_type": "execute_result"
    }
   ],
   "source": [
    "b = b[np.newaxis, :] # a의 dimension을 맞추기 위해 축을 하나 추가한다\n",
    "b"
   ]
  },
  {
   "cell_type": "code",
   "execution_count": 141,
   "metadata": {},
   "outputs": [
    {
     "data": {
      "text/plain": [
       "array([[1, 2, 5],\n",
       "       [3, 4, 6]])"
      ]
     },
     "execution_count": 141,
     "metadata": {},
     "output_type": "execute_result"
    }
   ],
   "source": [
    "np.concatenate((a,b.T), axis=1)"
   ]
  },
  {
   "cell_type": "markdown",
   "metadata": {},
   "source": [
    "#### ..Opreations b/t arrays"
   ]
  },
  {
   "cell_type": "code",
   "execution_count": 144,
   "metadata": {},
   "outputs": [],
   "source": [
    "test_a = np.array([[1,2,3],[4,5,6]], float)"
   ]
  },
  {
   "cell_type": "code",
   "execution_count": 145,
   "metadata": {},
   "outputs": [
    {
     "data": {
      "text/plain": [
       "array([[ 1.,  2.,  3.],\n",
       "       [ 4.,  5.,  6.]])"
      ]
     },
     "execution_count": 145,
     "metadata": {},
     "output_type": "execute_result"
    }
   ],
   "source": [
    "test_a"
   ]
  },
  {
   "cell_type": "code",
   "execution_count": 146,
   "metadata": {},
   "outputs": [
    {
     "data": {
      "text/plain": [
       "array([[  2.,   4.,   6.],\n",
       "       [  8.,  10.,  12.]])"
      ]
     },
     "execution_count": 146,
     "metadata": {},
     "output_type": "execute_result"
    }
   ],
   "source": [
    "test_a + test_a"
   ]
  },
  {
   "cell_type": "code",
   "execution_count": 147,
   "metadata": {},
   "outputs": [
    {
     "data": {
      "text/plain": [
       "array([[ 0.,  0.,  0.],\n",
       "       [ 0.,  0.,  0.]])"
      ]
     },
     "execution_count": 147,
     "metadata": {},
     "output_type": "execute_result"
    }
   ],
   "source": [
    "test_a - test_a"
   ]
  },
  {
   "cell_type": "markdown",
   "metadata": {},
   "source": [
    "#### ..Element-wise operations"
   ]
  },
  {
   "cell_type": "code",
   "execution_count": 148,
   "metadata": {},
   "outputs": [
    {
     "data": {
      "text/plain": [
       "array([[0, 0, 0, 0],\n",
       "       [0, 0, 0, 0],\n",
       "       [0, 0, 0, 0]])"
      ]
     },
     "execution_count": 148,
     "metadata": {},
     "output_type": "execute_result"
    }
   ],
   "source": [
    "matrix_a = np.arange(1,13).reshape(3,4)\n",
    "matrix_a - matrix_a"
   ]
  },
  {
   "cell_type": "code",
   "execution_count": 149,
   "metadata": {},
   "outputs": [
    {
     "data": {
      "text/plain": [
       "array([[  1,   4,   9,  16],\n",
       "       [ 25,  36,  49,  64],\n",
       "       [ 81, 100, 121, 144]])"
      ]
     },
     "execution_count": 149,
     "metadata": {},
     "output_type": "execute_result"
    }
   ],
   "source": [
    "matrix_a * matrix_a"
   ]
  },
  {
   "cell_type": "markdown",
   "metadata": {},
   "source": [
    "#### ..dot product"
   ]
  },
  {
   "cell_type": "code",
   "execution_count": 150,
   "metadata": {
    "collapsed": true
   },
   "outputs": [],
   "source": [
    "test_a = np.arange(1,7).reshape(2,3)\n",
    "test_b = np.arange(7,13).reshape(3,2)"
   ]
  },
  {
   "cell_type": "code",
   "execution_count": 151,
   "metadata": {},
   "outputs": [
    {
     "data": {
      "text/plain": [
       "array([[ 7,  8],\n",
       "       [ 9, 10],\n",
       "       [11, 12]])"
      ]
     },
     "execution_count": 151,
     "metadata": {},
     "output_type": "execute_result"
    }
   ],
   "source": [
    "test_b"
   ]
  },
  {
   "cell_type": "code",
   "execution_count": 152,
   "metadata": {},
   "outputs": [
    {
     "data": {
      "text/plain": [
       "array([[ 58,  64],\n",
       "       [139, 154]])"
      ]
     },
     "execution_count": 152,
     "metadata": {},
     "output_type": "execute_result"
    }
   ],
   "source": [
    "test_a.dot(test_b)"
   ]
  },
  {
   "cell_type": "markdown",
   "metadata": {},
   "source": [
    "#### ..transpose"
   ]
  },
  {
   "cell_type": "code",
   "execution_count": 153,
   "metadata": {},
   "outputs": [
    {
     "data": {
      "text/plain": [
       "array([[1, 2, 3],\n",
       "       [4, 5, 6]])"
      ]
     },
     "execution_count": 153,
     "metadata": {},
     "output_type": "execute_result"
    }
   ],
   "source": [
    "test_a = np.arange(1,7).reshape(2,3)\n",
    "test_a"
   ]
  },
  {
   "cell_type": "code",
   "execution_count": 154,
   "metadata": {},
   "outputs": [
    {
     "data": {
      "text/plain": [
       "array([[1, 4],\n",
       "       [2, 5],\n",
       "       [3, 6]])"
      ]
     },
     "execution_count": 154,
     "metadata": {},
     "output_type": "execute_result"
    }
   ],
   "source": [
    "test_a.transpose()"
   ]
  },
  {
   "cell_type": "code",
   "execution_count": 155,
   "metadata": {},
   "outputs": [
    {
     "data": {
      "text/plain": [
       "array([[1, 4],\n",
       "       [2, 5],\n",
       "       [3, 6]])"
      ]
     },
     "execution_count": 155,
     "metadata": {},
     "output_type": "execute_result"
    }
   ],
   "source": [
    "test_a.T"
   ]
  },
  {
   "cell_type": "code",
   "execution_count": 156,
   "metadata": {},
   "outputs": [
    {
     "data": {
      "text/plain": [
       "array([[17, 22, 27],\n",
       "       [22, 29, 36],\n",
       "       [27, 36, 45]])"
      ]
     },
     "execution_count": 156,
     "metadata": {},
     "output_type": "execute_result"
    }
   ],
   "source": [
    "test_a.T.dot(test_a)"
   ]
  },
  {
   "cell_type": "markdown",
   "metadata": {},
   "source": [
    "#### ..broadcasting"
   ]
  },
  {
   "cell_type": "code",
   "execution_count": 157,
   "metadata": {
    "collapsed": true
   },
   "outputs": [],
   "source": [
    "test_matrix = np.array([[1,2,3],[4,5,6]],float)\n",
    "scalar = 3"
   ]
  },
  {
   "cell_type": "code",
   "execution_count": 158,
   "metadata": {},
   "outputs": [
    {
     "data": {
      "text/plain": [
       "array([[ 4.,  5.,  6.],\n",
       "       [ 7.,  8.,  9.]])"
      ]
     },
     "execution_count": 158,
     "metadata": {},
     "output_type": "execute_result"
    }
   ],
   "source": [
    "test_matrix + scalar"
   ]
  },
  {
   "cell_type": "code",
   "execution_count": 159,
   "metadata": {},
   "outputs": [
    {
     "data": {
      "text/plain": [
       "array([[  5.,  10.,  15.],\n",
       "       [ 20.,  25.,  30.]])"
      ]
     },
     "execution_count": 159,
     "metadata": {},
     "output_type": "execute_result"
    }
   ],
   "source": [
    "test_matrix * 5"
   ]
  },
  {
   "cell_type": "code",
   "execution_count": 160,
   "metadata": {},
   "outputs": [
    {
     "data": {
      "text/plain": [
       "array([[ 0.2,  0.4,  0.6],\n",
       "       [ 0.8,  1. ,  1.2]])"
      ]
     },
     "execution_count": 160,
     "metadata": {},
     "output_type": "execute_result"
    }
   ],
   "source": [
    "test_matrix / 5"
   ]
  },
  {
   "cell_type": "code",
   "execution_count": 161,
   "metadata": {},
   "outputs": [
    {
     "data": {
      "text/plain": [
       "array([[  4.,   9.,  14.],\n",
       "       [ 19.,  24.,  29.]])"
      ]
     },
     "execution_count": 161,
     "metadata": {},
     "output_type": "execute_result"
    }
   ],
   "source": [
    "test_matrix // 0.2"
   ]
  },
  {
   "cell_type": "code",
   "execution_count": 162,
   "metadata": {},
   "outputs": [
    {
     "data": {
      "text/plain": [
       "array([[  1.,   4.,   9.],\n",
       "       [ 16.,  25.,  36.]])"
      ]
     },
     "execution_count": 162,
     "metadata": {},
     "output_type": "execute_result"
    }
   ],
   "source": [
    "test_matrix ** 2"
   ]
  },
  {
   "cell_type": "code",
   "execution_count": 163,
   "metadata": {},
   "outputs": [
    {
     "data": {
      "text/plain": [
       "array([[11, 22, 33],\n",
       "       [14, 25, 36],\n",
       "       [17, 28, 39],\n",
       "       [20, 31, 42]])"
      ]
     },
     "execution_count": 163,
     "metadata": {},
     "output_type": "execute_result"
    }
   ],
   "source": [
    "test_matrix = np.arange(1,13).reshape(4,3)\n",
    "test_vector = np.arange(10,40,10)\n",
    "test_matrix + test_vector"
   ]
  },
  {
   "cell_type": "markdown",
   "metadata": {},
   "source": [
    "#### .comparisons"
   ]
  },
  {
   "cell_type": "markdown",
   "metadata": {},
   "source": [
    "#### ..All & Any"
   ]
  },
  {
   "cell_type": "code",
   "execution_count": 165,
   "metadata": {},
   "outputs": [
    {
     "data": {
      "text/plain": [
       "array([0, 1, 2, 3, 4, 5, 6, 7, 8, 9])"
      ]
     },
     "execution_count": 165,
     "metadata": {},
     "output_type": "execute_result"
    }
   ],
   "source": [
    "a = np.arange(10)\n",
    "a"
   ]
  },
  {
   "cell_type": "code",
   "execution_count": 166,
   "metadata": {},
   "outputs": [
    {
     "data": {
      "text/plain": [
       "array([ True,  True,  True,  True, False, False, False, False, False, False], dtype=bool)"
      ]
     },
     "execution_count": 166,
     "metadata": {},
     "output_type": "execute_result"
    }
   ],
   "source": [
    "a < 4"
   ]
  },
  {
   "cell_type": "code",
   "execution_count": 167,
   "metadata": {},
   "outputs": [
    {
     "data": {
      "text/plain": [
       "array([ True, False, False, False, False, False, False, False, False, False], dtype=bool)"
      ]
     },
     "execution_count": 167,
     "metadata": {},
     "output_type": "execute_result"
    }
   ],
   "source": [
    "a < 1"
   ]
  },
  {
   "cell_type": "code",
   "execution_count": 168,
   "metadata": {},
   "outputs": [
    {
     "data": {
      "text/plain": [
       "array([ True,  True,  True,  True,  True,  True,  True,  True,  True,  True], dtype=bool)"
      ]
     },
     "execution_count": 168,
     "metadata": {},
     "output_type": "execute_result"
    }
   ],
   "source": [
    "a < 10"
   ]
  },
  {
   "cell_type": "code",
   "execution_count": 169,
   "metadata": {},
   "outputs": [
    {
     "data": {
      "text/plain": [
       "True"
      ]
     },
     "execution_count": 169,
     "metadata": {},
     "output_type": "execute_result"
    }
   ],
   "source": [
    "np.all(a<10)"
   ]
  },
  {
   "cell_type": "code",
   "execution_count": 170,
   "metadata": {},
   "outputs": [
    {
     "data": {
      "text/plain": [
       "False"
      ]
     },
     "execution_count": 170,
     "metadata": {},
     "output_type": "execute_result"
    }
   ],
   "source": [
    "np.all(a < 5)"
   ]
  },
  {
   "cell_type": "code",
   "execution_count": 171,
   "metadata": {},
   "outputs": [
    {
     "data": {
      "text/plain": [
       "True"
      ]
     },
     "execution_count": 171,
     "metadata": {},
     "output_type": "execute_result"
    }
   ],
   "source": [
    "np.any(a > 5)"
   ]
  },
  {
   "cell_type": "code",
   "execution_count": 172,
   "metadata": {},
   "outputs": [
    {
     "data": {
      "text/plain": [
       "False"
      ]
     },
     "execution_count": 172,
     "metadata": {},
     "output_type": "execute_result"
    }
   ],
   "source": [
    "np.any(a < 0)"
   ]
  },
  {
   "cell_type": "code",
   "execution_count": 174,
   "metadata": {},
   "outputs": [
    {
     "data": {
      "text/plain": [
       "array([False,  True, False], dtype=bool)"
      ]
     },
     "execution_count": 174,
     "metadata": {},
     "output_type": "execute_result"
    }
   ],
   "source": [
    "test_a = np.array([1,3,0],float) \n",
    "test_b = np.array([5,2,1],float) \n",
    "test_a > test_b"
   ]
  },
  {
   "cell_type": "code",
   "execution_count": 175,
   "metadata": {},
   "outputs": [
    {
     "data": {
      "text/plain": [
       "array([False, False, False], dtype=bool)"
      ]
     },
     "execution_count": 175,
     "metadata": {},
     "output_type": "execute_result"
    }
   ],
   "source": [
    "test_a == test_b"
   ]
  },
  {
   "cell_type": "code",
   "execution_count": 177,
   "metadata": {},
   "outputs": [
    {
     "data": {
      "text/plain": [
       "True"
      ]
     },
     "execution_count": 177,
     "metadata": {},
     "output_type": "execute_result"
    }
   ],
   "source": [
    "(test_a > test_b).any()"
   ]
  },
  {
   "cell_type": "code",
   "execution_count": 179,
   "metadata": {},
   "outputs": [
    {
     "data": {
      "text/plain": [
       "array([ True, False, False], dtype=bool)"
      ]
     },
     "execution_count": 179,
     "metadata": {},
     "output_type": "execute_result"
    }
   ],
   "source": [
    "a =test_a = np.array([1,3,0],float)\n",
    "np.logical_and(a>0, a<3)"
   ]
  },
  {
   "cell_type": "code",
   "execution_count": 180,
   "metadata": {},
   "outputs": [
    {
     "data": {
      "text/plain": [
       "array([False,  True, False], dtype=bool)"
      ]
     },
     "execution_count": 180,
     "metadata": {},
     "output_type": "execute_result"
    }
   ],
   "source": [
    "b = np.array([True, False, True], bool)\n",
    "np.logical_not(b)"
   ]
  },
  {
   "cell_type": "code",
   "execution_count": 181,
   "metadata": {},
   "outputs": [
    {
     "data": {
      "text/plain": [
       "array([ True,  True,  True], dtype=bool)"
      ]
     },
     "execution_count": 181,
     "metadata": {},
     "output_type": "execute_result"
    }
   ],
   "source": [
    "c = np.array([False, True, False], bool)\n",
    "np.logical_or(b,c)"
   ]
  },
  {
   "cell_type": "markdown",
   "metadata": {},
   "source": [
    "#### ..np.where"
   ]
  },
  {
   "cell_type": "code",
   "execution_count": 182,
   "metadata": {},
   "outputs": [
    {
     "data": {
      "text/plain": [
       "array([ 1.,  3.,  0.])"
      ]
     },
     "execution_count": 182,
     "metadata": {},
     "output_type": "execute_result"
    }
   ],
   "source": [
    " a"
   ]
  },
  {
   "cell_type": "code",
   "execution_count": 183,
   "metadata": {},
   "outputs": [
    {
     "data": {
      "text/plain": [
       "(array([], dtype=int64),)"
      ]
     },
     "execution_count": 183,
     "metadata": {},
     "output_type": "execute_result"
    }
   ],
   "source": [
    "np.where(a>5)"
   ]
  },
  {
   "cell_type": "code",
   "execution_count": 184,
   "metadata": {},
   "outputs": [
    {
     "data": {
      "text/plain": [
       "(array([1], dtype=int64),)"
      ]
     },
     "execution_count": 184,
     "metadata": {},
     "output_type": "execute_result"
    }
   ],
   "source": [
    "np.where(a>2) # index 반환"
   ]
  },
  {
   "cell_type": "code",
   "execution_count": 189,
   "metadata": {},
   "outputs": [
    {
     "data": {
      "text/plain": [
       "array([0, 2], dtype=int64)"
      ]
     },
     "execution_count": 189,
     "metadata": {},
     "output_type": "execute_result"
    }
   ],
   "source": [
    "np.where(a<3)[0]"
   ]
  },
  {
   "cell_type": "code",
   "execution_count": 190,
   "metadata": {},
   "outputs": [
    {
     "data": {
      "text/plain": [
       "array([3, 2, 3])"
      ]
     },
     "execution_count": 190,
     "metadata": {},
     "output_type": "execute_result"
    }
   ],
   "source": [
    "np.where(a<3, 3, 2) # True이면 3, False이면 2"
   ]
  },
  {
   "cell_type": "code",
   "execution_count": 191,
   "metadata": {},
   "outputs": [
    {
     "data": {
      "text/plain": [
       "array([ 5,  6,  7,  8,  9, 10, 11, 12, 13, 14])"
      ]
     },
     "execution_count": 191,
     "metadata": {},
     "output_type": "execute_result"
    }
   ],
   "source": [
    "a = np.arange(5, 15)\n",
    "a"
   ]
  },
  {
   "cell_type": "code",
   "execution_count": 192,
   "metadata": {},
   "outputs": [
    {
     "data": {
      "text/plain": [
       "(array([6, 7, 8, 9], dtype=int64),)"
      ]
     },
     "execution_count": 192,
     "metadata": {},
     "output_type": "execute_result"
    }
   ],
   "source": [
    "np.where(a > 10) # 10보다 큰 값의 인덱스 반환"
   ]
  },
  {
   "cell_type": "code",
   "execution_count": 194,
   "metadata": {},
   "outputs": [
    {
     "data": {
      "text/plain": [
       "array([False,  True, False], dtype=bool)"
      ]
     },
     "execution_count": 194,
     "metadata": {},
     "output_type": "execute_result"
    }
   ],
   "source": [
    "a = np.array([1, np.NaN, np.Inf],float)\n",
    "np.isnan(a)"
   ]
  },
  {
   "cell_type": "code",
   "execution_count": 195,
   "metadata": {},
   "outputs": [
    {
     "data": {
      "text/plain": [
       "array([ True, False, False], dtype=bool)"
      ]
     },
     "execution_count": 195,
     "metadata": {},
     "output_type": "execute_result"
    }
   ],
   "source": [
    "np.isfinite(a)"
   ]
  },
  {
   "cell_type": "markdown",
   "metadata": {},
   "source": [
    "#### ..argmax & argmin"
   ]
  },
  {
   "cell_type": "code",
   "execution_count": 199,
   "metadata": {},
   "outputs": [
    {
     "data": {
      "text/plain": [
       "(5, 0)"
      ]
     },
     "execution_count": 199,
     "metadata": {},
     "output_type": "execute_result"
    }
   ],
   "source": [
    "a = np.array([1,2,4,5,8,78,23,3])\n",
    "np.argmax(a), np.argmin(a) # index 반환"
   ]
  },
  {
   "cell_type": "code",
   "execution_count": 200,
   "metadata": {},
   "outputs": [
    {
     "data": {
      "text/plain": [
       "array([0, 1, 7, 2, 3, 4, 6, 5], dtype=int64)"
      ]
     },
     "execution_count": 200,
     "metadata": {},
     "output_type": "execute_result"
    }
   ],
   "source": [
    "a.argsort() # index 반환"
   ]
  },
  {
   "cell_type": "code",
   "execution_count": 201,
   "metadata": {},
   "outputs": [
    {
     "data": {
      "text/plain": [
       "(array([3, 1, 1], dtype=int64), array([0, 0, 2, 2], dtype=int64))"
      ]
     },
     "execution_count": 201,
     "metadata": {},
     "output_type": "execute_result"
    }
   ],
   "source": [
    "a = np.array([[1,2,4,7],[9,88,6,45],[9,76,3,4]])\n",
    "np.argmax(a, axis=1), np.argmin(a, axis=0)"
   ]
  },
  {
   "cell_type": "markdown",
   "metadata": {},
   "source": [
    "#### .boolean & fancy index"
   ]
  },
  {
   "cell_type": "code",
   "execution_count": 202,
   "metadata": {
    "collapsed": true
   },
   "outputs": [],
   "source": [
    "test_array = np.array([1,4,0,2,3,8,9,7], float)"
   ]
  },
  {
   "cell_type": "code",
   "execution_count": 203,
   "metadata": {},
   "outputs": [
    {
     "data": {
      "text/plain": [
       "array([False,  True, False, False, False,  True,  True,  True], dtype=bool)"
      ]
     },
     "execution_count": 203,
     "metadata": {},
     "output_type": "execute_result"
    }
   ],
   "source": [
    "test_array > 3"
   ]
  },
  {
   "cell_type": "code",
   "execution_count": 204,
   "metadata": {},
   "outputs": [
    {
     "data": {
      "text/plain": [
       "array([ 4.,  8.,  9.,  7.])"
      ]
     },
     "execution_count": 204,
     "metadata": {},
     "output_type": "execute_result"
    }
   ],
   "source": [
    "test_array[test_array > 3] # 조건이 True인 index의 element만 추출"
   ]
  },
  {
   "cell_type": "code",
   "execution_count": 205,
   "metadata": {},
   "outputs": [
    {
     "data": {
      "text/plain": [
       "array([ 1.,  0.,  2.])"
      ]
     },
     "execution_count": 205,
     "metadata": {},
     "output_type": "execute_result"
    }
   ],
   "source": [
    "condition = test_array < 3\n",
    "test_array[condition]"
   ]
  },
  {
   "cell_type": "markdown",
   "metadata": {},
   "source": [
    "#### ..fancy index"
   ]
  },
  {
   "cell_type": "code",
   "execution_count": 206,
   "metadata": {},
   "outputs": [
    {
     "data": {
      "text/plain": [
       "array([ 2.,  2.,  4.,  8.,  6.,  4.])"
      ]
     },
     "execution_count": 206,
     "metadata": {},
     "output_type": "execute_result"
    }
   ],
   "source": [
    "a = np.array([2,4,6,8], float)\n",
    "b = np.array([0,0,1,3,2,1], int)\n",
    "a[b]"
   ]
  },
  {
   "cell_type": "code",
   "execution_count": 207,
   "metadata": {},
   "outputs": [
    {
     "data": {
      "text/plain": [
       "array([ 2.,  2.,  4.,  8.,  6.,  4.])"
      ]
     },
     "execution_count": 207,
     "metadata": {},
     "output_type": "execute_result"
    }
   ],
   "source": [
    "a.take(b)"
   ]
  },
  {
   "cell_type": "code",
   "execution_count": 208,
   "metadata": {},
   "outputs": [
    {
     "data": {
      "text/plain": [
       "array([ 4.,  4.,  4.,  6.,  4.,  4.,  4.,  8.])"
      ]
     },
     "execution_count": 208,
     "metadata": {},
     "output_type": "execute_result"
    }
   ],
   "source": [
    "a = np.array([2,4,6,8], float)\n",
    "cond = np.array([1,1,1,2,1,1,1,3])\n",
    "a[cond]"
   ]
  },
  {
   "cell_type": "code",
   "execution_count": 209,
   "metadata": {},
   "outputs": [
    {
     "ename": "IndexError",
     "evalue": "index 5 is out of bounds for axis 0 with size 4",
     "output_type": "error",
     "traceback": [
      "\u001b[1;31m---------------------------------------------------------------------------\u001b[0m",
      "\u001b[1;31mIndexError\u001b[0m                                Traceback (most recent call last)",
      "\u001b[1;32m<ipython-input-209-fd52da7adcb4>\u001b[0m in \u001b[0;36m<module>\u001b[1;34m()\u001b[0m\n\u001b[0;32m      1\u001b[0m \u001b[0ma\u001b[0m \u001b[1;33m=\u001b[0m \u001b[0mnp\u001b[0m\u001b[1;33m.\u001b[0m\u001b[0marray\u001b[0m\u001b[1;33m(\u001b[0m\u001b[1;33m[\u001b[0m\u001b[1;36m2\u001b[0m\u001b[1;33m,\u001b[0m\u001b[1;36m4\u001b[0m\u001b[1;33m,\u001b[0m\u001b[1;36m6\u001b[0m\u001b[1;33m,\u001b[0m\u001b[1;36m8\u001b[0m\u001b[1;33m]\u001b[0m\u001b[1;33m,\u001b[0m \u001b[0mfloat\u001b[0m\u001b[1;33m)\u001b[0m\u001b[1;33m\u001b[0m\u001b[0m\n\u001b[0;32m      2\u001b[0m \u001b[0mcond\u001b[0m \u001b[1;33m=\u001b[0m \u001b[0mnp\u001b[0m\u001b[1;33m.\u001b[0m\u001b[0marray\u001b[0m\u001b[1;33m(\u001b[0m\u001b[1;33m[\u001b[0m\u001b[1;36m1\u001b[0m\u001b[1;33m,\u001b[0m\u001b[1;36m1\u001b[0m\u001b[1;33m,\u001b[0m\u001b[1;36m1\u001b[0m\u001b[1;33m,\u001b[0m\u001b[1;36m2\u001b[0m\u001b[1;33m,\u001b[0m\u001b[1;36m1\u001b[0m\u001b[1;33m,\u001b[0m\u001b[1;36m1\u001b[0m\u001b[1;33m,\u001b[0m\u001b[1;36m1\u001b[0m\u001b[1;33m,\u001b[0m\u001b[1;36m5\u001b[0m\u001b[1;33m]\u001b[0m\u001b[1;33m)\u001b[0m\u001b[1;33m\u001b[0m\u001b[0m\n\u001b[1;32m----> 3\u001b[1;33m \u001b[0ma\u001b[0m\u001b[1;33m[\u001b[0m\u001b[0mcond\u001b[0m\u001b[1;33m]\u001b[0m\u001b[1;33m\u001b[0m\u001b[0m\n\u001b[0m",
      "\u001b[1;31mIndexError\u001b[0m: index 5 is out of bounds for axis 0 with size 4"
     ]
    }
   ],
   "source": [
    "a = np.array([2,4,6,8], float)\n",
    "cond = np.array([1,1,1,2,1,1,1,5]) # 0~3 밖의 값이 존재하기 때문에 에러\n",
    "a[cond]"
   ]
  },
  {
   "cell_type": "code",
   "execution_count": 210,
   "metadata": {},
   "outputs": [
    {
     "data": {
      "text/plain": [
       "array([  1.,   4.,  16.,  16.,   4.])"
      ]
     },
     "execution_count": 210,
     "metadata": {},
     "output_type": "execute_result"
    }
   ],
   "source": [
    "a = np.array([[1,4],[9,16]],float)\n",
    "b = np.array([0,0,1,1,0], int)\n",
    "c = np.array([0,1,1,1,1], int)\n",
    "a[b,c]"
   ]
  },
  {
   "cell_type": "code",
   "execution_count": 211,
   "metadata": {},
   "outputs": [
    {
     "data": {
      "text/plain": [
       "array([[  1.,   4.],\n",
       "       [  1.,   4.],\n",
       "       [  9.,  16.],\n",
       "       [  9.,  16.],\n",
       "       [  1.,   4.]])"
      ]
     },
     "execution_count": 211,
     "metadata": {},
     "output_type": "execute_result"
    }
   ],
   "source": [
    "a = np.array([[1,4],[9,16]],float)\n",
    "a[b]"
   ]
  },
  {
   "cell_type": "markdown",
   "metadata": {},
   "source": [
    "#### .numpy data i/o"
   ]
  },
  {
   "cell_type": "markdown",
   "metadata": {},
   "source": [
    "#### .. loadtxt & savetxt"
   ]
  },
  {
   "cell_type": "code",
   "execution_count": 212,
   "metadata": {},
   "outputs": [
    {
     "ename": "FileNotFoundError",
     "evalue": "[Errno 2] No such file or directory: './population.txt'",
     "output_type": "error",
     "traceback": [
      "\u001b[1;31m---------------------------------------------------------------------------\u001b[0m",
      "\u001b[1;31mFileNotFoundError\u001b[0m                         Traceback (most recent call last)",
      "\u001b[1;32m<ipython-input-212-5fd34618a307>\u001b[0m in \u001b[0;36m<module>\u001b[1;34m()\u001b[0m\n\u001b[1;32m----> 1\u001b[1;33m \u001b[0ma\u001b[0m \u001b[1;33m=\u001b[0m \u001b[0mnp\u001b[0m\u001b[1;33m.\u001b[0m\u001b[0mloadtxt\u001b[0m\u001b[1;33m(\u001b[0m\u001b[1;34m\"./population.txt\"\u001b[0m\u001b[1;33m)\u001b[0m\u001b[1;33m\u001b[0m\u001b[0m\n\u001b[0m\u001b[0;32m      2\u001b[0m \u001b[0ma\u001b[0m\u001b[1;33m[\u001b[0m\u001b[1;33m:\u001b[0m\u001b[1;36m10\u001b[0m\u001b[1;33m]\u001b[0m\u001b[1;33m\u001b[0m\u001b[0m\n",
      "\u001b[1;32m~\\Anaconda3\\lib\\site-packages\\numpy\\lib\\npyio.py\u001b[0m in \u001b[0;36mloadtxt\u001b[1;34m(fname, dtype, comments, delimiter, converters, skiprows, usecols, unpack, ndmin)\u001b[0m\n\u001b[0;32m    896\u001b[0m                 \u001b[0mfh\u001b[0m \u001b[1;33m=\u001b[0m \u001b[0miter\u001b[0m\u001b[1;33m(\u001b[0m\u001b[0mopen\u001b[0m\u001b[1;33m(\u001b[0m\u001b[0mfname\u001b[0m\u001b[1;33m,\u001b[0m \u001b[1;34m'U'\u001b[0m\u001b[1;33m)\u001b[0m\u001b[1;33m)\u001b[0m\u001b[1;33m\u001b[0m\u001b[0m\n\u001b[0;32m    897\u001b[0m             \u001b[1;32melse\u001b[0m\u001b[1;33m:\u001b[0m\u001b[1;33m\u001b[0m\u001b[0m\n\u001b[1;32m--> 898\u001b[1;33m                 \u001b[0mfh\u001b[0m \u001b[1;33m=\u001b[0m \u001b[0miter\u001b[0m\u001b[1;33m(\u001b[0m\u001b[0mopen\u001b[0m\u001b[1;33m(\u001b[0m\u001b[0mfname\u001b[0m\u001b[1;33m)\u001b[0m\u001b[1;33m)\u001b[0m\u001b[1;33m\u001b[0m\u001b[0m\n\u001b[0m\u001b[0;32m    899\u001b[0m         \u001b[1;32melse\u001b[0m\u001b[1;33m:\u001b[0m\u001b[1;33m\u001b[0m\u001b[0m\n\u001b[0;32m    900\u001b[0m             \u001b[0mfh\u001b[0m \u001b[1;33m=\u001b[0m \u001b[0miter\u001b[0m\u001b[1;33m(\u001b[0m\u001b[0mfname\u001b[0m\u001b[1;33m)\u001b[0m\u001b[1;33m\u001b[0m\u001b[0m\n",
      "\u001b[1;31mFileNotFoundError\u001b[0m: [Errno 2] No such file or directory: './population.txt'"
     ]
    }
   ],
   "source": [
    "a = np.loadtxt(\"./population.txt\", delimiter = \"\\t\")\n",
    "a[:10]"
   ]
  },
  {
   "cell_type": "code",
   "execution_count": 214,
   "metadata": {},
   "outputs": [],
   "source": [
    "a_int = a.astype(int)\n",
    "a_int_3 = a_int[:3]"
   ]
  },
  {
   "cell_type": "code",
   "execution_count": null,
   "metadata": {
    "collapsed": true
   },
   "outputs": [],
   "source": [
    "np.savetxt(\"int_data_2.csv\", a_int_3, fmt = \"%.2e\", delimiter=\",\")"
   ]
  },
  {
   "cell_type": "markdown",
   "metadata": {},
   "source": [
    "#### ..numpy object - npy"
   ]
  },
  {
   "cell_type": "code",
   "execution_count": 216,
   "metadata": {},
   "outputs": [],
   "source": [
    "np.save(\"npy_test_object\", arr = a_int_3) # pickle 형식"
   ]
  },
  {
   "cell_type": "code",
   "execution_count": 217,
   "metadata": {},
   "outputs": [
    {
     "ename": "FileNotFoundError",
     "evalue": "[Errno 2] No such file or directory: 'npy_test.npy'",
     "output_type": "error",
     "traceback": [
      "\u001b[1;31m---------------------------------------------------------------------------\u001b[0m",
      "\u001b[1;31mFileNotFoundError\u001b[0m                         Traceback (most recent call last)",
      "\u001b[1;32m<ipython-input-217-2d14dd825207>\u001b[0m in \u001b[0;36m<module>\u001b[1;34m()\u001b[0m\n\u001b[1;32m----> 1\u001b[1;33m \u001b[0ma_test\u001b[0m \u001b[1;33m=\u001b[0m \u001b[0mnp\u001b[0m\u001b[1;33m.\u001b[0m\u001b[0mload\u001b[0m\u001b[1;33m(\u001b[0m\u001b[0mfile\u001b[0m\u001b[1;33m=\u001b[0m\u001b[1;34m\"npy_test.npy\"\u001b[0m\u001b[1;33m)\u001b[0m\u001b[1;33m\u001b[0m\u001b[0m\n\u001b[0m\u001b[0;32m      2\u001b[0m \u001b[0ma_test\u001b[0m\u001b[1;33m\u001b[0m\u001b[0m\n",
      "\u001b[1;32m~\\Anaconda3\\lib\\site-packages\\numpy\\lib\\npyio.py\u001b[0m in \u001b[0;36mload\u001b[1;34m(file, mmap_mode, allow_pickle, fix_imports, encoding)\u001b[0m\n\u001b[0;32m    368\u001b[0m     \u001b[0mown_fid\u001b[0m \u001b[1;33m=\u001b[0m \u001b[1;32mFalse\u001b[0m\u001b[1;33m\u001b[0m\u001b[0m\n\u001b[0;32m    369\u001b[0m     \u001b[1;32mif\u001b[0m \u001b[0misinstance\u001b[0m\u001b[1;33m(\u001b[0m\u001b[0mfile\u001b[0m\u001b[1;33m,\u001b[0m \u001b[0mbasestring\u001b[0m\u001b[1;33m)\u001b[0m\u001b[1;33m:\u001b[0m\u001b[1;33m\u001b[0m\u001b[0m\n\u001b[1;32m--> 370\u001b[1;33m         \u001b[0mfid\u001b[0m \u001b[1;33m=\u001b[0m \u001b[0mopen\u001b[0m\u001b[1;33m(\u001b[0m\u001b[0mfile\u001b[0m\u001b[1;33m,\u001b[0m \u001b[1;34m\"rb\"\u001b[0m\u001b[1;33m)\u001b[0m\u001b[1;33m\u001b[0m\u001b[0m\n\u001b[0m\u001b[0;32m    371\u001b[0m         \u001b[0mown_fid\u001b[0m \u001b[1;33m=\u001b[0m \u001b[1;32mTrue\u001b[0m\u001b[1;33m\u001b[0m\u001b[0m\n\u001b[0;32m    372\u001b[0m     \u001b[1;32melif\u001b[0m \u001b[0mis_pathlib_path\u001b[0m\u001b[1;33m(\u001b[0m\u001b[0mfile\u001b[0m\u001b[1;33m)\u001b[0m\u001b[1;33m:\u001b[0m\u001b[1;33m\u001b[0m\u001b[0m\n",
      "\u001b[1;31mFileNotFoundError\u001b[0m: [Errno 2] No such file or directory: 'npy_test.npy'"
     ]
    }
   ],
   "source": [
    "a_test = np.load(file=\"npy_test.npy\")\n",
    "a_test"
   ]
  },
  {
   "cell_type": "code",
   "execution_count": 218,
   "metadata": {},
   "outputs": [
    {
     "ename": "FileNotFoundError",
     "evalue": "[Errno 2] No such file or directory: 'npy_test.npy'",
     "output_type": "error",
     "traceback": [
      "\u001b[1;31m---------------------------------------------------------------------------\u001b[0m",
      "\u001b[1;31mFileNotFoundError\u001b[0m                         Traceback (most recent call last)",
      "\u001b[1;32m<ipython-input-218-739c2be14925>\u001b[0m in \u001b[0;36m<module>\u001b[1;34m()\u001b[0m\n\u001b[1;32m----> 1\u001b[1;33m \u001b[0mnpy_array\u001b[0m \u001b[1;33m=\u001b[0m \u001b[0mnp\u001b[0m\u001b[1;33m.\u001b[0m\u001b[0mload\u001b[0m\u001b[1;33m(\u001b[0m\u001b[0mfile\u001b[0m\u001b[1;33m=\u001b[0m\u001b[1;34m\"npy_test.npy\"\u001b[0m\u001b[1;33m)\u001b[0m\u001b[1;33m\u001b[0m\u001b[0m\n\u001b[0m\u001b[0;32m      2\u001b[0m \u001b[0mnpy_array\u001b[0m\u001b[1;33m[\u001b[0m\u001b[1;33m:\u001b[0m\u001b[1;36m3\u001b[0m\u001b[1;33m]\u001b[0m\u001b[1;33m\u001b[0m\u001b[0m\n",
      "\u001b[1;32m~\\Anaconda3\\lib\\site-packages\\numpy\\lib\\npyio.py\u001b[0m in \u001b[0;36mload\u001b[1;34m(file, mmap_mode, allow_pickle, fix_imports, encoding)\u001b[0m\n\u001b[0;32m    368\u001b[0m     \u001b[0mown_fid\u001b[0m \u001b[1;33m=\u001b[0m \u001b[1;32mFalse\u001b[0m\u001b[1;33m\u001b[0m\u001b[0m\n\u001b[0;32m    369\u001b[0m     \u001b[1;32mif\u001b[0m \u001b[0misinstance\u001b[0m\u001b[1;33m(\u001b[0m\u001b[0mfile\u001b[0m\u001b[1;33m,\u001b[0m \u001b[0mbasestring\u001b[0m\u001b[1;33m)\u001b[0m\u001b[1;33m:\u001b[0m\u001b[1;33m\u001b[0m\u001b[0m\n\u001b[1;32m--> 370\u001b[1;33m         \u001b[0mfid\u001b[0m \u001b[1;33m=\u001b[0m \u001b[0mopen\u001b[0m\u001b[1;33m(\u001b[0m\u001b[0mfile\u001b[0m\u001b[1;33m,\u001b[0m \u001b[1;34m\"rb\"\u001b[0m\u001b[1;33m)\u001b[0m\u001b[1;33m\u001b[0m\u001b[0m\n\u001b[0m\u001b[0;32m    371\u001b[0m         \u001b[0mown_fid\u001b[0m \u001b[1;33m=\u001b[0m \u001b[1;32mTrue\u001b[0m\u001b[1;33m\u001b[0m\u001b[0m\n\u001b[0;32m    372\u001b[0m     \u001b[1;32melif\u001b[0m \u001b[0mis_pathlib_path\u001b[0m\u001b[1;33m(\u001b[0m\u001b[0mfile\u001b[0m\u001b[1;33m)\u001b[0m\u001b[1;33m:\u001b[0m\u001b[1;33m\u001b[0m\u001b[0m\n",
      "\u001b[1;31mFileNotFoundError\u001b[0m: [Errno 2] No such file or directory: 'npy_test.npy'"
     ]
    }
   ],
   "source": [
    "npy_array = np.load(file=\"npy_test.npy\")\n",
    "npy_array[:3]"
   ]
  },
  {
   "cell_type": "code",
   "execution_count": null,
   "metadata": {
    "collapsed": true
   },
   "outputs": [],
   "source": []
  }
 ],
 "metadata": {
  "kernelspec": {
   "display_name": "Python 3",
   "language": "python",
   "name": "python3"
  },
  "language_info": {
   "codemirror_mode": {
    "name": "ipython",
    "version": 3
   },
   "file_extension": ".py",
   "mimetype": "text/x-python",
   "name": "python",
   "nbconvert_exporter": "python",
   "pygments_lexer": "ipython3",
   "version": "3.6.3"
  }
 },
 "nbformat": 4,
 "nbformat_minor": 2
}
